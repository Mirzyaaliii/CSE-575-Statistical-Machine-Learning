{
  "nbformat": 4,
  "nbformat_minor": 0,
  "metadata": {
    "colab": {
      "provenance": [],
      "authorship_tag": "ABX9TyM71+bWgaEIyN0Rz99Hj658",
      "include_colab_link": true
    },
    "kernelspec": {
      "name": "python3",
      "display_name": "Python 3"
    },
    "language_info": {
      "name": "python"
    },
    "gpuClass": "standard"
  },
  "cells": [
    {
      "cell_type": "markdown",
      "metadata": {
        "id": "view-in-github",
        "colab_type": "text"
      },
      "source": [
        "<a href=\"https://colab.research.google.com/github/prat-man/CSE-575-Statistical-Machine-Learning/blob/main/ANN.ipynb\" target=\"_parent\"><img src=\"https://colab.research.google.com/assets/colab-badge.svg\" alt=\"Open In Colab\"/></a>"
      ]
    },
    {
      "cell_type": "code",
      "source": [
        "import numpy as np\n",
        "import pandas as pd\n",
        "import seaborn as sns\n",
        "import matplotlib.pyplot as plt\n",
        "\n",
        "from sklearn.preprocessing import StandardScaler\n",
        "from sklearn.metrics import confusion_matrix, classification_report\n",
        "\n",
        "from tensorflow.keras.models import Sequential\n",
        "from tensorflow.keras.layers import Input, Dense, Dropout"
      ],
      "metadata": {
        "id": "AKELgdf4uToe"
      },
      "execution_count": 1,
      "outputs": []
    },
    {
      "cell_type": "code",
      "source": [
        "import httpimport\n",
        "\n",
        "with httpimport.remote_repo('https://raw.githubusercontent.com/prat-man/CSE-575-Statistical-Machine-Learning/main'):\n",
        "    from data import get_data"
      ],
      "metadata": {
        "id": "cMMtYwnvTe3k"
      },
      "execution_count": 2,
      "outputs": []
    },
    {
      "cell_type": "code",
      "source": [
        "seed = 0"
      ],
      "metadata": {
        "id": "Zwg6rhepmJV7"
      },
      "execution_count": 3,
      "outputs": []
    },
    {
      "cell_type": "code",
      "source": [
        "X_train, X_val, X_test, y_train, y_val, y_test, labels = get_data('ANN')"
      ],
      "metadata": {
        "id": "W3zJu5Ggw_mS"
      },
      "execution_count": 4,
      "outputs": []
    },
    {
      "cell_type": "code",
      "source": [
        "scaler = StandardScaler()\n",
        "\n",
        "X_train = scaler.fit_transform(X_train)\n",
        "X_val = scaler.transform(X_val)\n",
        "X_test = scaler.transform(X_test)"
      ],
      "metadata": {
        "id": "wzJiwpFTvhXt"
      },
      "execution_count": 5,
      "outputs": []
    },
    {
      "cell_type": "code",
      "source": [
        "model_layers = [\n",
        "    Input(X_train.shape[1]),\n",
        "\n",
        "    Dense(64, activation='relu'),\n",
        "    Dense(64, activation='relu'),\n",
        "    Dense(64, activation='relu'),\n",
        "\n",
        "    Dense(10, activation='softmax')\n",
        "]\n",
        "\n",
        "model = Sequential(model_layers)"
      ],
      "metadata": {
        "id": "o8gPm2fixcjY"
      },
      "execution_count": 6,
      "outputs": []
    },
    {
      "cell_type": "code",
      "source": [
        "model.compile(loss='categorical_crossentropy', optimizer='adam', metrics=['accuracy'])"
      ],
      "metadata": {
        "id": "jT8TKzR1yc6c"
      },
      "execution_count": 7,
      "outputs": []
    },
    {
      "cell_type": "code",
      "source": [
        "print(model.summary())"
      ],
      "metadata": {
        "id": "NtwoKEqnK0yc",
        "outputId": "ed4e524f-41e9-4741-88a6-acd90b34f588",
        "colab": {
          "base_uri": "https://localhost:8080/"
        }
      },
      "execution_count": 8,
      "outputs": [
        {
          "output_type": "stream",
          "name": "stdout",
          "text": [
            "Model: \"sequential\"\n",
            "_________________________________________________________________\n",
            " Layer (type)                Output Shape              Param #   \n",
            "=================================================================\n",
            " dense (Dense)               (None, 64)                3712      \n",
            "                                                                 \n",
            " dense_1 (Dense)             (None, 64)                4160      \n",
            "                                                                 \n",
            " dense_2 (Dense)             (None, 64)                4160      \n",
            "                                                                 \n",
            " dense_3 (Dense)             (None, 10)                650       \n",
            "                                                                 \n",
            "=================================================================\n",
            "Total params: 12,682\n",
            "Trainable params: 12,682\n",
            "Non-trainable params: 0\n",
            "_________________________________________________________________\n",
            "None\n"
          ]
        }
      ]
    },
    {
      "cell_type": "code",
      "source": [
        "model.fit(X_train, y_train, validation_data=(X_val, y_val), epochs=50, batch_size=64)"
      ],
      "metadata": {
        "colab": {
          "base_uri": "https://localhost:8080/"
        },
        "id": "IWq9IDl_yim_",
        "outputId": "5d003217-ae2e-4dff-fc2b-f099668602a9"
      },
      "execution_count": 9,
      "outputs": [
        {
          "output_type": "stream",
          "name": "stdout",
          "text": [
            "Epoch 1/50\n",
            "10/10 [==============================] - 4s 152ms/step - loss: 2.2244 - accuracy: 0.2017 - val_loss: 2.0523 - val_accuracy: 0.3300\n",
            "Epoch 2/50\n",
            "10/10 [==============================] - 0s 23ms/step - loss: 1.9514 - accuracy: 0.3533 - val_loss: 1.8361 - val_accuracy: 0.3750\n",
            "Epoch 3/50\n",
            "10/10 [==============================] - 0s 22ms/step - loss: 1.7320 - accuracy: 0.3983 - val_loss: 1.6347 - val_accuracy: 0.4100\n",
            "Epoch 4/50\n",
            "10/10 [==============================] - 0s 13ms/step - loss: 1.5356 - accuracy: 0.4567 - val_loss: 1.4717 - val_accuracy: 0.4500\n",
            "Epoch 5/50\n",
            "10/10 [==============================] - 0s 11ms/step - loss: 1.3634 - accuracy: 0.5300 - val_loss: 1.3538 - val_accuracy: 0.4800\n",
            "Epoch 6/50\n",
            "10/10 [==============================] - 0s 11ms/step - loss: 1.2269 - accuracy: 0.5650 - val_loss: 1.2632 - val_accuracy: 0.5150\n",
            "Epoch 7/50\n",
            "10/10 [==============================] - 0s 17ms/step - loss: 1.1120 - accuracy: 0.6200 - val_loss: 1.1907 - val_accuracy: 0.5550\n",
            "Epoch 8/50\n",
            "10/10 [==============================] - 0s 17ms/step - loss: 1.0152 - accuracy: 0.6500 - val_loss: 1.1327 - val_accuracy: 0.5900\n",
            "Epoch 9/50\n",
            "10/10 [==============================] - 0s 19ms/step - loss: 0.9258 - accuracy: 0.6767 - val_loss: 1.0985 - val_accuracy: 0.6050\n",
            "Epoch 10/50\n",
            "10/10 [==============================] - 0s 13ms/step - loss: 0.8559 - accuracy: 0.7167 - val_loss: 1.0804 - val_accuracy: 0.6250\n",
            "Epoch 11/50\n",
            "10/10 [==============================] - 0s 15ms/step - loss: 0.7915 - accuracy: 0.7300 - val_loss: 1.0424 - val_accuracy: 0.6350\n",
            "Epoch 12/50\n",
            "10/10 [==============================] - 0s 13ms/step - loss: 0.7252 - accuracy: 0.7583 - val_loss: 1.0311 - val_accuracy: 0.6450\n",
            "Epoch 13/50\n",
            "10/10 [==============================] - 0s 12ms/step - loss: 0.6771 - accuracy: 0.7667 - val_loss: 1.0277 - val_accuracy: 0.6400\n",
            "Epoch 14/50\n",
            "10/10 [==============================] - 0s 12ms/step - loss: 0.6394 - accuracy: 0.7733 - val_loss: 1.0210 - val_accuracy: 0.6650\n",
            "Epoch 15/50\n",
            "10/10 [==============================] - 0s 18ms/step - loss: 0.5957 - accuracy: 0.8000 - val_loss: 1.0265 - val_accuracy: 0.6500\n",
            "Epoch 16/50\n",
            "10/10 [==============================] - 0s 12ms/step - loss: 0.5522 - accuracy: 0.8283 - val_loss: 1.0139 - val_accuracy: 0.6800\n",
            "Epoch 17/50\n",
            "10/10 [==============================] - 0s 14ms/step - loss: 0.5136 - accuracy: 0.8433 - val_loss: 1.0285 - val_accuracy: 0.6700\n",
            "Epoch 18/50\n",
            "10/10 [==============================] - 0s 18ms/step - loss: 0.4835 - accuracy: 0.8600 - val_loss: 1.0104 - val_accuracy: 0.6800\n",
            "Epoch 19/50\n",
            "10/10 [==============================] - 0s 13ms/step - loss: 0.4524 - accuracy: 0.8600 - val_loss: 1.0194 - val_accuracy: 0.6750\n",
            "Epoch 20/50\n",
            "10/10 [==============================] - 0s 15ms/step - loss: 0.4229 - accuracy: 0.8817 - val_loss: 1.0315 - val_accuracy: 0.6950\n",
            "Epoch 21/50\n",
            "10/10 [==============================] - 0s 18ms/step - loss: 0.3976 - accuracy: 0.8917 - val_loss: 1.0344 - val_accuracy: 0.6900\n",
            "Epoch 22/50\n",
            "10/10 [==============================] - 0s 11ms/step - loss: 0.3731 - accuracy: 0.8967 - val_loss: 1.0579 - val_accuracy: 0.6700\n",
            "Epoch 23/50\n",
            "10/10 [==============================] - 0s 12ms/step - loss: 0.3484 - accuracy: 0.9100 - val_loss: 1.0468 - val_accuracy: 0.7000\n",
            "Epoch 24/50\n",
            "10/10 [==============================] - 0s 16ms/step - loss: 0.3204 - accuracy: 0.9100 - val_loss: 1.0700 - val_accuracy: 0.6900\n",
            "Epoch 25/50\n",
            "10/10 [==============================] - 0s 10ms/step - loss: 0.3029 - accuracy: 0.9150 - val_loss: 1.0772 - val_accuracy: 0.6950\n",
            "Epoch 26/50\n",
            "10/10 [==============================] - 0s 11ms/step - loss: 0.2817 - accuracy: 0.9283 - val_loss: 1.0685 - val_accuracy: 0.7000\n",
            "Epoch 27/50\n",
            "10/10 [==============================] - 0s 12ms/step - loss: 0.2652 - accuracy: 0.9317 - val_loss: 1.1131 - val_accuracy: 0.6900\n",
            "Epoch 28/50\n",
            "10/10 [==============================] - 0s 24ms/step - loss: 0.2476 - accuracy: 0.9450 - val_loss: 1.1185 - val_accuracy: 0.7000\n",
            "Epoch 29/50\n",
            "10/10 [==============================] - 0s 23ms/step - loss: 0.2304 - accuracy: 0.9517 - val_loss: 1.1140 - val_accuracy: 0.6900\n",
            "Epoch 30/50\n",
            "10/10 [==============================] - 0s 16ms/step - loss: 0.2133 - accuracy: 0.9617 - val_loss: 1.1427 - val_accuracy: 0.7000\n",
            "Epoch 31/50\n",
            "10/10 [==============================] - 0s 19ms/step - loss: 0.2015 - accuracy: 0.9583 - val_loss: 1.1499 - val_accuracy: 0.6950\n",
            "Epoch 32/50\n",
            "10/10 [==============================] - 0s 13ms/step - loss: 0.1873 - accuracy: 0.9700 - val_loss: 1.1766 - val_accuracy: 0.6900\n",
            "Epoch 33/50\n",
            "10/10 [==============================] - 0s 24ms/step - loss: 0.1702 - accuracy: 0.9717 - val_loss: 1.1908 - val_accuracy: 0.6900\n",
            "Epoch 34/50\n",
            "10/10 [==============================] - 0s 20ms/step - loss: 0.1599 - accuracy: 0.9733 - val_loss: 1.1956 - val_accuracy: 0.6950\n",
            "Epoch 35/50\n",
            "10/10 [==============================] - 0s 23ms/step - loss: 0.1485 - accuracy: 0.9750 - val_loss: 1.1971 - val_accuracy: 0.6800\n",
            "Epoch 36/50\n",
            "10/10 [==============================] - 0s 17ms/step - loss: 0.1382 - accuracy: 0.9800 - val_loss: 1.2461 - val_accuracy: 0.7000\n",
            "Epoch 37/50\n",
            "10/10 [==============================] - 0s 21ms/step - loss: 0.1310 - accuracy: 0.9850 - val_loss: 1.2234 - val_accuracy: 0.6750\n",
            "Epoch 38/50\n",
            "10/10 [==============================] - 0s 26ms/step - loss: 0.1235 - accuracy: 0.9783 - val_loss: 1.2926 - val_accuracy: 0.6900\n",
            "Epoch 39/50\n",
            "10/10 [==============================] - 0s 18ms/step - loss: 0.1114 - accuracy: 0.9867 - val_loss: 1.2589 - val_accuracy: 0.6800\n",
            "Epoch 40/50\n",
            "10/10 [==============================] - 0s 15ms/step - loss: 0.1034 - accuracy: 0.9867 - val_loss: 1.2873 - val_accuracy: 0.6750\n",
            "Epoch 41/50\n",
            "10/10 [==============================] - 0s 20ms/step - loss: 0.0990 - accuracy: 0.9883 - val_loss: 1.3114 - val_accuracy: 0.6750\n",
            "Epoch 42/50\n",
            "10/10 [==============================] - 0s 16ms/step - loss: 0.0918 - accuracy: 0.9850 - val_loss: 1.3234 - val_accuracy: 0.6800\n",
            "Epoch 43/50\n",
            "10/10 [==============================] - 0s 15ms/step - loss: 0.0818 - accuracy: 0.9983 - val_loss: 1.3489 - val_accuracy: 0.6750\n",
            "Epoch 44/50\n",
            "10/10 [==============================] - 0s 12ms/step - loss: 0.0753 - accuracy: 0.9950 - val_loss: 1.3315 - val_accuracy: 0.6850\n",
            "Epoch 45/50\n",
            "10/10 [==============================] - 0s 11ms/step - loss: 0.0703 - accuracy: 0.9967 - val_loss: 1.3638 - val_accuracy: 0.6750\n",
            "Epoch 46/50\n",
            "10/10 [==============================] - 0s 11ms/step - loss: 0.0656 - accuracy: 0.9983 - val_loss: 1.3664 - val_accuracy: 0.6750\n",
            "Epoch 47/50\n",
            "10/10 [==============================] - 0s 17ms/step - loss: 0.0596 - accuracy: 0.9983 - val_loss: 1.4109 - val_accuracy: 0.6850\n",
            "Epoch 48/50\n",
            "10/10 [==============================] - 0s 18ms/step - loss: 0.0588 - accuracy: 0.9983 - val_loss: 1.4117 - val_accuracy: 0.7000\n",
            "Epoch 49/50\n",
            "10/10 [==============================] - 0s 16ms/step - loss: 0.0513 - accuracy: 1.0000 - val_loss: 1.4050 - val_accuracy: 0.6950\n",
            "Epoch 50/50\n",
            "10/10 [==============================] - 0s 31ms/step - loss: 0.0488 - accuracy: 0.9983 - val_loss: 1.4650 - val_accuracy: 0.6750\n"
          ]
        },
        {
          "output_type": "execute_result",
          "data": {
            "text/plain": [
              "<keras.callbacks.History at 0x7fb020a88f40>"
            ]
          },
          "metadata": {},
          "execution_count": 9
        }
      ]
    },
    {
      "cell_type": "code",
      "source": [
        "_, accuracy = model.evaluate(X_train, y_train)\n",
        "print(f'Training Accuracy: {accuracy}')"
      ],
      "metadata": {
        "colab": {
          "base_uri": "https://localhost:8080/"
        },
        "id": "HQeSwpmu5Ru3",
        "outputId": "d2a1bca5-ffe2-46f0-ea0d-1a2318538d83"
      },
      "execution_count": 10,
      "outputs": [
        {
          "output_type": "stream",
          "name": "stdout",
          "text": [
            "19/19 [==============================] - 0s 4ms/step - loss: 0.0436 - accuracy: 0.9983\n",
            "Training Accuracy: 0.9983333349227905\n"
          ]
        }
      ]
    },
    {
      "cell_type": "code",
      "source": [
        "y_pred = model.predict(X_test)\n",
        "\n",
        "y_true = np.argmax(y_test, axis=1)\n",
        "y_pred = np.argmax(y_pred, axis=1)"
      ],
      "metadata": {
        "id": "NyytDc-w06TN",
        "outputId": "37c93d4b-f14b-4bbc-f77e-cbfdfa32b0fc",
        "colab": {
          "base_uri": "https://localhost:8080/"
        }
      },
      "execution_count": 11,
      "outputs": [
        {
          "output_type": "stream",
          "name": "stdout",
          "text": [
            "7/7 [==============================] - 0s 3ms/step\n"
          ]
        }
      ]
    },
    {
      "cell_type": "code",
      "source": [
        "print(classification_report(y_true, y_pred))"
      ],
      "metadata": {
        "id": "dgaCKa8404D-",
        "outputId": "d9ada290-7037-4ceb-e8ba-fd55ed31f043",
        "colab": {
          "base_uri": "https://localhost:8080/"
        }
      },
      "execution_count": 12,
      "outputs": [
        {
          "output_type": "stream",
          "name": "stdout",
          "text": [
            "              precision    recall  f1-score   support\n",
            "\n",
            "           0       0.65      0.55      0.59        20\n",
            "           1       1.00      0.90      0.95        20\n",
            "           2       0.57      0.65      0.60        20\n",
            "           3       0.50      0.60      0.55        20\n",
            "           4       0.78      0.70      0.74        20\n",
            "           5       0.90      0.95      0.93        20\n",
            "           6       0.95      0.90      0.92        20\n",
            "           7       1.00      0.75      0.86        20\n",
            "           8       0.64      0.70      0.67        20\n",
            "           9       0.57      0.65      0.60        20\n",
            "\n",
            "    accuracy                           0.73       200\n",
            "   macro avg       0.75      0.74      0.74       200\n",
            "weighted avg       0.75      0.73      0.74       200\n",
            "\n"
          ]
        }
      ]
    },
    {
      "cell_type": "code",
      "source": [
        "conf_m = confusion_matrix(y_true, y_pred)\n",
        "\n",
        "sns.heatmap(conf_m, cmap='crest', annot=True)\n",
        "\n",
        "plt.xticks(ticks = np.arange(0.5, 10, 1), labels=labels, rotation=90)\n",
        "plt.yticks(ticks = np.arange(0.5, 10, 1), labels=labels,rotation=0)\n",
        "\n",
        "plt.savefig('ANN_Confusion_Matrix.png', dpi=300)"
      ],
      "metadata": {
        "id": "LhdvRetGA7gz",
        "outputId": "edaf6169-d02c-4759-dd85-e9b7b5823cae",
        "colab": {
          "base_uri": "https://localhost:8080/",
          "height": 474
        }
      },
      "execution_count": 13,
      "outputs": [
        {
          "output_type": "display_data",
          "data": {
            "text/plain": [
              "<Figure size 640x480 with 2 Axes>"
            ],
            "image/png": "[encoded data removed]"
          },
          "metadata": {}
        }
      ]
    },
    {
      "cell_type": "code",
      "source": [
        "accuracy = np.trace(conf_m) / np.sum(conf_m)\n",
        "print(f'Overall test accuracy = {accuracy}')"
      ],
      "metadata": {
        "id": "ILVPldU2GWQI",
        "outputId": "20cc7446-a499-43cf-f170-f44ef6a6ac12",
        "colab": {
          "base_uri": "https://localhost:8080/"
        }
      },
      "execution_count": 14,
      "outputs": [
        {
          "output_type": "stream",
          "name": "stdout",
          "text": [
            "Overall test accuracy = 0.735\n"
          ]
        }
      ]
    },
    {
      "cell_type": "code",
      "source": [
        "accuracy_df = pd.DataFrame(columns=['accuracy'])\n",
        "\n",
        "class_acc = conf_m.diagonal() / conf_m.sum(axis=1)\n",
        "for i in range(len(labels)):\n",
        "    accuracy_df.loc[labels[i]] = [round(class_acc[i], 2)]\n",
        "\n",
        "accuracy_df"
      ],
      "metadata": {
        "id": "XxYQ_qF0CVvX",
        "outputId": "80a5e743-5248-43a2-cae0-4a1ece75b678",
        "colab": {
          "base_uri": "https://localhost:8080/",
          "height": 363
        }
      },
      "execution_count": 15,
      "outputs": [
        {
          "output_type": "execute_result",
          "data": {
            "text/plain": [
              "           accuracy\n",
              "blues          0.55\n",
              "classical      0.90\n",
              "country        0.65\n",
              "disco          0.60\n",
              "hiphop         0.70\n",
              "jazz           0.95\n",
              "metal          0.90\n",
              "pop            0.75\n",
              "reggae         0.70\n",
              "rock           0.65"
            ],
            "text/html": [
              "\n",
              "  <div id=\"df-7ba0ffee-462b-47c7-a93d-eccbf2fd7c21\">\n",
              "    <div class=\"colab-df-container\">\n",
              "      <div>\n",
              "<style scoped>\n",
              "    .dataframe tbody tr th:only-of-type {\n",
              "        vertical-align: middle;\n",
              "    }\n",
              "\n",
              "    .dataframe tbody tr th {\n",
              "        vertical-align: top;\n",
              "    }\n",
              "\n",
              "    .dataframe thead th {\n",
              "        text-align: right;\n",
              "    }\n",
              "</style>\n",
              "<table border=\"1\" class=\"dataframe\">\n",
              "  <thead>\n",
              "    <tr style=\"text-align: right;\">\n",
              "      <th></th>\n",
              "      <th>accuracy</th>\n",
              "    </tr>\n",
              "  </thead>\n",
              "  <tbody>\n",
              "    <tr>\n",
              "      <th>blues</th>\n",
              "      <td>0.55</td>\n",
              "    </tr>\n",
              "    <tr>\n",
              "      <th>classical</th>\n",
              "      <td>0.90</td>\n",
              "    </tr>\n",
              "    <tr>\n",
              "      <th>country</th>\n",
              "      <td>0.65</td>\n",
              "    </tr>\n",
              "    <tr>\n",
              "      <th>disco</th>\n",
              "      <td>0.60</td>\n",
              "    </tr>\n",
              "    <tr>\n",
              "      <th>hiphop</th>\n",
              "      <td>0.70</td>\n",
              "    </tr>\n",
              "    <tr>\n",
              "      <th>jazz</th>\n",
              "      <td>0.95</td>\n",
              "    </tr>\n",
              "    <tr>\n",
              "      <th>metal</th>\n",
              "      <td>0.90</td>\n",
              "    </tr>\n",
              "    <tr>\n",
              "      <th>pop</th>\n",
              "      <td>0.75</td>\n",
              "    </tr>\n",
              "    <tr>\n",
              "      <th>reggae</th>\n",
              "      <td>0.70</td>\n",
              "    </tr>\n",
              "    <tr>\n",
              "      <th>rock</th>\n",
              "      <td>0.65</td>\n",
              "    </tr>\n",
              "  </tbody>\n",
              "</table>\n",
              "</div>\n",
              "      <button class=\"colab-df-convert\" onclick=\"convertToInteractive('df-7ba0ffee-462b-47c7-a93d-eccbf2fd7c21')\"\n",
              "              title=\"Convert this dataframe to an interactive table.\"\n",
              "              style=\"display:none;\">\n",
              "        \n",
              "  <svg xmlns=\"http://www.w3.org/2000/svg\" height=\"24px\"viewBox=\"0 0 24 24\"\n",
              "       width=\"24px\">\n",
              "    <path d=\"M0 0h24v24H0V0z\" fill=\"none\"/>\n",
              "    <path d=\"M18.56 5.44l.94 2.06.94-2.06 2.06-.94-2.06-.94-.94-2.06-.94 2.06-2.06.94zm-11 1L8.5 8.5l.94-2.06 2.06-.94-2.06-.94L8.5 2.5l-.94 2.06-2.06.94zm10 10l.94 2.06.94-2.06 2.06-.94-2.06-.94-.94-2.06-.94 2.06-2.06.94z\"/><path d=\"M17.41 7.96l-1.37-1.37c-.4-.4-.92-.59-1.43-.59-.52 0-1.04.2-1.43.59L10.3 9.45l-7.72 7.72c-.78.78-.78 2.05 0 2.83L4 21.41c.39.39.9.59 1.41.59.51 0 1.02-.2 1.41-.59l7.78-7.78 2.81-2.81c.8-.78.8-2.07 0-2.86zM5.41 20L4 18.59l7.72-7.72 1.47 1.35L5.41 20z\"/>\n",
              "  </svg>\n",
              "      </button>\n",
              "      \n",
              "  <style>\n",
              "    .colab-df-container {\n",
              "      display:flex;\n",
              "      flex-wrap:wrap;\n",
              "      gap: 12px;\n",
              "    }\n",
              "\n",
              "    .colab-df-convert {\n",
              "      background-color: #E8F0FE;\n",
              "      border: none;\n",
              "      border-radius: 50%;\n",
              "      cursor: pointer;\n",
              "      display: none;\n",
              "      fill: #1967D2;\n",
              "      height: 32px;\n",
              "      padding: 0 0 0 0;\n",
              "      width: 32px;\n",
              "    }\n",
              "\n",
              "    .colab-df-convert:hover {\n",
              "      background-color: #E2EBFA;\n",
              "      box-shadow: 0px 1px 2px rgba(60, 64, 67, 0.3), 0px 1px 3px 1px rgba(60, 64, 67, 0.15);\n",
              "      fill: #174EA6;\n",
              "    }\n",
              "\n",
              "    [theme=dark] .colab-df-convert {\n",
              "      background-color: #3B4455;\n",
              "      fill: #D2E3FC;\n",
              "    }\n",
              "\n",
              "    [theme=dark] .colab-df-convert:hover {\n",
              "      background-color: #434B5C;\n",
              "      box-shadow: 0px 1px 3px 1px rgba(0, 0, 0, 0.15);\n",
              "      filter: drop-shadow(0px 1px 2px rgba(0, 0, 0, 0.3));\n",
              "      fill: #FFFFFF;\n",
              "    }\n",
              "  </style>\n",
              "\n",
              "      <script>\n",
              "        const buttonEl =\n",
              "          document.querySelector('#df-7ba0ffee-462b-47c7-a93d-eccbf2fd7c21 button.colab-df-convert');\n",
              "        buttonEl.style.display =\n",
              "          google.colab.kernel.accessAllowed ? 'block' : 'none';\n",
              "\n",
              "        async function convertToInteractive(key) {\n",
              "          const element = document.querySelector('#df-7ba0ffee-462b-47c7-a93d-eccbf2fd7c21');\n",
              "          const dataTable =\n",
              "            await google.colab.kernel.invokeFunction('convertToInteractive',\n",
              "                                                     [key], {});\n",
              "          if (!dataTable) return;\n",
              "\n",
              "          const docLinkHtml = 'Like what you see? Visit the ' +\n",
              "            '<a target=\"_blank\" href=https://colab.research.google.com/notebooks/data_table.ipynb>data table notebook</a>'\n",
              "            + ' to learn more about interactive tables.';\n",
              "          element.innerHTML = '';\n",
              "          dataTable['output_type'] = 'display_data';\n",
              "          await google.colab.output.renderOutput(dataTable, element);\n",
              "          const docLink = document.createElement('div');\n",
              "          docLink.innerHTML = docLinkHtml;\n",
              "          element.appendChild(docLink);\n",
              "        }\n",
              "      </script>\n",
              "    </div>\n",
              "  </div>\n",
              "  "
            ]
          },
          "metadata": {},
          "execution_count": 15
        }
      ]
    },
    {
      "cell_type": "code",
      "source": [
        "model.save('ANN.h5')"
      ],
      "metadata": {
        "id": "jSLoUfL6k_oK"
      },
      "execution_count": 16,
      "outputs": []
    }
  ]
}