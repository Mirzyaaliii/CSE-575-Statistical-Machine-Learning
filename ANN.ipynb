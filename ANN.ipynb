{
  "nbformat": 4,
  "nbformat_minor": 0,
  "metadata": {
    "colab": {
      "provenance": [],
      "authorship_tag": "ABX9TyM71+bWgaEIyN0Rz99Hj658",
      "include_colab_link": true
    },
    "kernelspec": {
      "name": "python3",
      "display_name": "Python 3"
    },
    "language_info": {
      "name": "python"
    },
    "gpuClass": "standard"
  },
  "cells": [
    {
      "cell_type": "markdown",
      "metadata": {
        "id": "view-in-github",
        "colab_type": "text"
      },
      "source": [
        "<a href=\"https://colab.research.google.com/github/prat-man/CSE-575-Statistical-Machine-Learning/blob/main/ANN.ipynb\" target=\"_parent\"><img src=\"https://colab.research.google.com/assets/colab-badge.svg\" alt=\"Open In Colab\"/></a>"
      ]
    },
    {
      "cell_type": "code",
      "source": [
        "import numpy as np\n",
        "import pandas as pd\n",
        "import seaborn as sns\n",
        "import matplotlib.pyplot as plt\n",
        "\n",
        "from sklearn.preprocessing import StandardScaler\n",
        "from sklearn.metrics import confusion_matrix, classification_report\n",
        "\n",
        "from tensorflow.keras.models import Sequential\n",
        "from tensorflow.keras.layers import Input, Dense, Dropout"
      ],
      "metadata": {
        "id": "AKELgdf4uToe"
      },
      "execution_count": 1,
      "outputs": []
    },
    {
      "cell_type": "code",
      "source": [
        "import httpimport\n",
        "\n",
        "with httpimport.remote_repo('https://raw.githubusercontent.com/prat-man/CSE-575-Statistical-Machine-Learning/main'):\n",
        "    from data import get_data"
      ],
      "metadata": {
        "id": "cMMtYwnvTe3k"
      },
      "execution_count": 2,
      "outputs": []
    },
    {
      "cell_type": "code",
      "source": [
        "seed = 0"
      ],
      "metadata": {
        "id": "Zwg6rhepmJV7"
      },
      "execution_count": 3,
      "outputs": []
    },
    {
      "cell_type": "code",
      "source": [
        "X_train, X_val, X_test, y_train, y_val, y_test, labels = get_data('ANN')"
      ],
      "metadata": {
        "id": "W3zJu5Ggw_mS"
      },
      "execution_count": 4,
      "outputs": []
    },
    {
      "cell_type": "code",
      "source": [
        "scaler = StandardScaler()\n",
        "\n",
        "X_train = scaler.fit_transform(X_train)\n",
        "X_val = scaler.transform(X_val)\n",
        "X_test = scaler.transform(X_test)"
      ],
      "metadata": {
        "id": "wzJiwpFTvhXt"
      },
      "execution_count": 5,
      "outputs": []
    },
    {
      "cell_type": "code",
      "source": [
        "model_layers = [\n",
        "    Input(X_train.shape[1]),\n",
        "\n",
        "    Dense(64, activation='relu'),\n",
        "    Dense(64, activation='relu'),\n",
        "    Dense(64, activation='relu'),\n",
        "\n",
        "    Dense(10, activation='softmax')\n",
        "]\n",
        "\n",
        "model = Sequential(model_layers)"
      ],
      "metadata": {
        "id": "o8gPm2fixcjY"
      },
      "execution_count": 6,
      "outputs": []
    },
    {
      "cell_type": "code",
      "source": [
        "model.compile(loss='categorical_crossentropy', optimizer='adam', metrics=['accuracy'])"
      ],
      "metadata": {
        "id": "jT8TKzR1yc6c"
      },
      "execution_count": 7,
      "outputs": []
    },
    {
      "cell_type": "code",
      "source": [
        "print(model.summary())"
      ],
      "metadata": {
        "id": "NtwoKEqnK0yc",
        "outputId": "37389623-7591-45b1-8e49-ee37ae1f4b65",
        "colab": {
          "base_uri": "https://localhost:8080/"
        }
      },
      "execution_count": 8,
      "outputs": [
        {
          "output_type": "stream",
          "name": "stdout",
          "text": [
            "Model: \"sequential\"\n",
            "_________________________________________________________________\n",
            " Layer (type)                Output Shape              Param #   \n",
            "=================================================================\n",
            " dense (Dense)               (None, 64)                3712      \n",
            "                                                                 \n",
            " dense_1 (Dense)             (None, 64)                4160      \n",
            "                                                                 \n",
            " dense_2 (Dense)             (None, 64)                4160      \n",
            "                                                                 \n",
            " dense_3 (Dense)             (None, 10)                650       \n",
            "                                                                 \n",
            "=================================================================\n",
            "Total params: 12,682\n",
            "Trainable params: 12,682\n",
            "Non-trainable params: 0\n",
            "_________________________________________________________________\n",
            "None\n"
          ]
        }
      ]
    },
    {
      "cell_type": "code",
      "source": [
        "model.fit(X_train, y_train, validation_data=(X_val, y_val), epochs=50, batch_size=64)"
      ],
      "metadata": {
        "colab": {
          "base_uri": "https://localhost:8080/"
        },
        "id": "IWq9IDl_yim_",
        "outputId": "4e91892b-2e75-48a4-c6a8-cecd873d1957"
      },
      "execution_count": 9,
      "outputs": [
        {
          "output_type": "stream",
          "name": "stdout",
          "text": [
            "Epoch 1/50\n",
            "10/10 [==============================] - 4s 149ms/step - loss: 2.2857 - accuracy: 0.2083 - val_loss: 2.1064 - val_accuracy: 0.2750\n",
            "Epoch 2/50\n",
            "10/10 [==============================] - 0s 51ms/step - loss: 1.9975 - accuracy: 0.3600 - val_loss: 1.8850 - val_accuracy: 0.3400\n",
            "Epoch 3/50\n",
            "10/10 [==============================] - 0s 42ms/step - loss: 1.7692 - accuracy: 0.4267 - val_loss: 1.6740 - val_accuracy: 0.4250\n",
            "Epoch 4/50\n",
            "10/10 [==============================] - 0s 41ms/step - loss: 1.5515 - accuracy: 0.4950 - val_loss: 1.4884 - val_accuracy: 0.4850\n",
            "Epoch 5/50\n",
            "10/10 [==============================] - 0s 30ms/step - loss: 1.3682 - accuracy: 0.5617 - val_loss: 1.3404 - val_accuracy: 0.5300\n",
            "Epoch 6/50\n",
            "10/10 [==============================] - 0s 23ms/step - loss: 1.2138 - accuracy: 0.5850 - val_loss: 1.2377 - val_accuracy: 0.5500\n",
            "Epoch 7/50\n",
            "10/10 [==============================] - 0s 53ms/step - loss: 1.0959 - accuracy: 0.6267 - val_loss: 1.1831 - val_accuracy: 0.5500\n",
            "Epoch 8/50\n",
            "10/10 [==============================] - 0s 36ms/step - loss: 0.9984 - accuracy: 0.6567 - val_loss: 1.1298 - val_accuracy: 0.5950\n",
            "Epoch 9/50\n",
            "10/10 [==============================] - 0s 50ms/step - loss: 0.9229 - accuracy: 0.6667 - val_loss: 1.0811 - val_accuracy: 0.6000\n",
            "Epoch 10/50\n",
            "10/10 [==============================] - 1s 64ms/step - loss: 0.8432 - accuracy: 0.7067 - val_loss: 1.0603 - val_accuracy: 0.6150\n",
            "Epoch 11/50\n",
            "10/10 [==============================] - 0s 48ms/step - loss: 0.7813 - accuracy: 0.7317 - val_loss: 1.0413 - val_accuracy: 0.6150\n",
            "Epoch 12/50\n",
            "10/10 [==============================] - 0s 27ms/step - loss: 0.7248 - accuracy: 0.7483 - val_loss: 1.0276 - val_accuracy: 0.6450\n",
            "Epoch 13/50\n",
            "10/10 [==============================] - 0s 28ms/step - loss: 0.6670 - accuracy: 0.7767 - val_loss: 0.9987 - val_accuracy: 0.6250\n",
            "Epoch 14/50\n",
            "10/10 [==============================] - 1s 56ms/step - loss: 0.6260 - accuracy: 0.7750 - val_loss: 1.0023 - val_accuracy: 0.6400\n",
            "Epoch 15/50\n",
            "10/10 [==============================] - 0s 42ms/step - loss: 0.5806 - accuracy: 0.8133 - val_loss: 0.9710 - val_accuracy: 0.6500\n",
            "Epoch 16/50\n",
            "10/10 [==============================] - 0s 51ms/step - loss: 0.5494 - accuracy: 0.8267 - val_loss: 0.9885 - val_accuracy: 0.6450\n",
            "Epoch 17/50\n",
            "10/10 [==============================] - 0s 24ms/step - loss: 0.5098 - accuracy: 0.8317 - val_loss: 0.9721 - val_accuracy: 0.6650\n",
            "Epoch 18/50\n",
            "10/10 [==============================] - 0s 46ms/step - loss: 0.4727 - accuracy: 0.8500 - val_loss: 0.9851 - val_accuracy: 0.6600\n",
            "Epoch 19/50\n",
            "10/10 [==============================] - 0s 29ms/step - loss: 0.4425 - accuracy: 0.8633 - val_loss: 0.9672 - val_accuracy: 0.6600\n",
            "Epoch 20/50\n",
            "10/10 [==============================] - 0s 25ms/step - loss: 0.4161 - accuracy: 0.8783 - val_loss: 0.9609 - val_accuracy: 0.6650\n",
            "Epoch 21/50\n",
            "10/10 [==============================] - 0s 43ms/step - loss: 0.3839 - accuracy: 0.8883 - val_loss: 0.9815 - val_accuracy: 0.6550\n",
            "Epoch 22/50\n",
            "10/10 [==============================] - 0s 22ms/step - loss: 0.3590 - accuracy: 0.8967 - val_loss: 0.9580 - val_accuracy: 0.6700\n",
            "Epoch 23/50\n",
            "10/10 [==============================] - 0s 33ms/step - loss: 0.3337 - accuracy: 0.9083 - val_loss: 0.9741 - val_accuracy: 0.6800\n",
            "Epoch 24/50\n",
            "10/10 [==============================] - 0s 32ms/step - loss: 0.3141 - accuracy: 0.9217 - val_loss: 0.9899 - val_accuracy: 0.6850\n",
            "Epoch 25/50\n",
            "10/10 [==============================] - 0s 31ms/step - loss: 0.2918 - accuracy: 0.9283 - val_loss: 0.9727 - val_accuracy: 0.6800\n",
            "Epoch 26/50\n",
            "10/10 [==============================] - 0s 20ms/step - loss: 0.2778 - accuracy: 0.9367 - val_loss: 0.9878 - val_accuracy: 0.6650\n",
            "Epoch 27/50\n",
            "10/10 [==============================] - 0s 51ms/step - loss: 0.2611 - accuracy: 0.9367 - val_loss: 0.9816 - val_accuracy: 0.6900\n",
            "Epoch 28/50\n",
            "10/10 [==============================] - 0s 18ms/step - loss: 0.2343 - accuracy: 0.9483 - val_loss: 1.0000 - val_accuracy: 0.6750\n",
            "Epoch 29/50\n",
            "10/10 [==============================] - 0s 34ms/step - loss: 0.2261 - accuracy: 0.9517 - val_loss: 0.9828 - val_accuracy: 0.7050\n",
            "Epoch 30/50\n",
            "10/10 [==============================] - 0s 23ms/step - loss: 0.2031 - accuracy: 0.9567 - val_loss: 1.0114 - val_accuracy: 0.7050\n",
            "Epoch 31/50\n",
            "10/10 [==============================] - 1s 54ms/step - loss: 0.1898 - accuracy: 0.9650 - val_loss: 1.0201 - val_accuracy: 0.7050\n",
            "Epoch 32/50\n",
            "10/10 [==============================] - 0s 42ms/step - loss: 0.1766 - accuracy: 0.9683 - val_loss: 1.0273 - val_accuracy: 0.6950\n",
            "Epoch 33/50\n",
            "10/10 [==============================] - 0s 38ms/step - loss: 0.1613 - accuracy: 0.9750 - val_loss: 1.0491 - val_accuracy: 0.6900\n",
            "Epoch 34/50\n",
            "10/10 [==============================] - 0s 17ms/step - loss: 0.1490 - accuracy: 0.9833 - val_loss: 1.0403 - val_accuracy: 0.6950\n",
            "Epoch 35/50\n",
            "10/10 [==============================] - 0s 11ms/step - loss: 0.1412 - accuracy: 0.9817 - val_loss: 1.0687 - val_accuracy: 0.7050\n",
            "Epoch 36/50\n",
            "10/10 [==============================] - 0s 14ms/step - loss: 0.1297 - accuracy: 0.9817 - val_loss: 1.0978 - val_accuracy: 0.7100\n",
            "Epoch 37/50\n",
            "10/10 [==============================] - 0s 19ms/step - loss: 0.1192 - accuracy: 0.9900 - val_loss: 1.0975 - val_accuracy: 0.7050\n",
            "Epoch 38/50\n",
            "10/10 [==============================] - 0s 26ms/step - loss: 0.1102 - accuracy: 0.9917 - val_loss: 1.0793 - val_accuracy: 0.7000\n",
            "Epoch 39/50\n",
            "10/10 [==============================] - 0s 34ms/step - loss: 0.1040 - accuracy: 0.9917 - val_loss: 1.1126 - val_accuracy: 0.7050\n",
            "Epoch 40/50\n",
            "10/10 [==============================] - 0s 16ms/step - loss: 0.0994 - accuracy: 0.9867 - val_loss: 1.1141 - val_accuracy: 0.6850\n",
            "Epoch 41/50\n",
            "10/10 [==============================] - 0s 25ms/step - loss: 0.0940 - accuracy: 0.9883 - val_loss: 1.1472 - val_accuracy: 0.7100\n",
            "Epoch 42/50\n",
            "10/10 [==============================] - 0s 23ms/step - loss: 0.0906 - accuracy: 0.9833 - val_loss: 1.1187 - val_accuracy: 0.6800\n",
            "Epoch 43/50\n",
            "10/10 [==============================] - 0s 18ms/step - loss: 0.0898 - accuracy: 0.9883 - val_loss: 1.1916 - val_accuracy: 0.7050\n",
            "Epoch 44/50\n",
            "10/10 [==============================] - 0s 23ms/step - loss: 0.0744 - accuracy: 0.9950 - val_loss: 1.1561 - val_accuracy: 0.6950\n",
            "Epoch 45/50\n",
            "10/10 [==============================] - 0s 26ms/step - loss: 0.0653 - accuracy: 0.9983 - val_loss: 1.1778 - val_accuracy: 0.7000\n",
            "Epoch 46/50\n",
            "10/10 [==============================] - 0s 31ms/step - loss: 0.0634 - accuracy: 0.9967 - val_loss: 1.1925 - val_accuracy: 0.7050\n",
            "Epoch 47/50\n",
            "10/10 [==============================] - 0s 27ms/step - loss: 0.0563 - accuracy: 1.0000 - val_loss: 1.1942 - val_accuracy: 0.6950\n",
            "Epoch 48/50\n",
            "10/10 [==============================] - 0s 26ms/step - loss: 0.0512 - accuracy: 1.0000 - val_loss: 1.2407 - val_accuracy: 0.7000\n",
            "Epoch 49/50\n",
            "10/10 [==============================] - 0s 13ms/step - loss: 0.0486 - accuracy: 0.9983 - val_loss: 1.2202 - val_accuracy: 0.7100\n",
            "Epoch 50/50\n",
            "10/10 [==============================] - 0s 15ms/step - loss: 0.0450 - accuracy: 1.0000 - val_loss: 1.2381 - val_accuracy: 0.7050\n"
          ]
        },
        {
          "output_type": "execute_result",
          "data": {
            "text/plain": [
              "<keras.callbacks.History at 0x7f89a1168310>"
            ]
          },
          "metadata": {},
          "execution_count": 9
        }
      ]
    },
    {
      "cell_type": "code",
      "source": [
        "_, accuracy = model.evaluate(X_train, y_train)\n",
        "print(f'Training Accuracy: {accuracy}')"
      ],
      "metadata": {
        "colab": {
          "base_uri": "https://localhost:8080/"
        },
        "id": "HQeSwpmu5Ru3",
        "outputId": "7669e6ed-f11c-493b-94d8-54a5b86ad534"
      },
      "execution_count": 10,
      "outputs": [
        {
          "output_type": "stream",
          "name": "stdout",
          "text": [
            "19/19 [==============================] - 0s 2ms/step - loss: 0.0403 - accuracy: 1.0000\n",
            "Training Accuracy: 1.0\n"
          ]
        }
      ]
    },
    {
      "cell_type": "code",
      "source": [
        "y_pred = model.predict(X_test)\n",
        "\n",
        "y_true = np.argmax(y_test, axis=1)\n",
        "y_pred = np.argmax(y_pred, axis=1)"
      ],
      "metadata": {
        "id": "NyytDc-w06TN",
        "outputId": "a19c9b21-85cb-468e-9c6c-6bc5688ab6e5",
        "colab": {
          "base_uri": "https://localhost:8080/"
        }
      },
      "execution_count": 11,
      "outputs": [
        {
          "output_type": "stream",
          "name": "stdout",
          "text": [
            "7/7 [==============================] - 0s 2ms/step\n"
          ]
        }
      ]
    },
    {
      "cell_type": "code",
      "source": [
        "print(classification_report(y_true, y_pred))"
      ],
      "metadata": {
        "id": "dgaCKa8404D-",
        "outputId": "3dd0e4e8-add6-412e-8251-2ab7147a8cc9",
        "colab": {
          "base_uri": "https://localhost:8080/"
        }
      },
      "execution_count": 12,
      "outputs": [
        {
          "output_type": "stream",
          "name": "stdout",
          "text": [
            "              precision    recall  f1-score   support\n",
            "\n",
            "           0       0.79      0.75      0.77        20\n",
            "           1       0.94      0.80      0.86        20\n",
            "           2       0.75      0.75      0.75        20\n",
            "           3       0.79      0.75      0.77        20\n",
            "           4       0.67      0.70      0.68        20\n",
            "           5       0.81      0.85      0.83        20\n",
            "           6       0.86      0.90      0.88        20\n",
            "           7       0.75      0.75      0.75        20\n",
            "           8       0.59      0.50      0.54        20\n",
            "           9       0.60      0.75      0.67        20\n",
            "\n",
            "    accuracy                           0.75       200\n",
            "   macro avg       0.75      0.75      0.75       200\n",
            "weighted avg       0.75      0.75      0.75       200\n",
            "\n"
          ]
        }
      ]
    },
    {
      "cell_type": "code",
      "source": [
        "conf_m = confusion_matrix(y_true, y_pred)\n",
        "\n",
        "sns.heatmap(conf_m, cmap='crest', annot=True)\n",
        "\n",
        "plt.xticks(ticks = np.arange(0.5, 10, 1), labels=labels, rotation=90)\n",
        "plt.yticks(ticks = np.arange(0.5, 10, 1), labels=labels,rotation=0)\n",
        "\n",
        "plt.savefig('ANN_Confusion_Matrix.png', dpi=300)"
      ],
      "metadata": {
        "id": "LhdvRetGA7gz",
        "outputId": "2751f57d-6a9d-4722-f596-078d960dae23",
        "colab": {
          "base_uri": "https://localhost:8080/",
          "height": 480
        }
      },
      "execution_count": 13,
      "outputs": [
        {
          "output_type": "display_data",
          "data": {
            "text/plain": [
              "<Figure size 640x480 with 2 Axes>"
            ],
            "image/png": "[encoded data removed]"
          },
          "metadata": {}
        }
      ]
    },
    {
      "cell_type": "code",
      "source": [
        "accuracy = np.trace(conf_m) / np.sum(conf_m)\n",
        "print(f'Overall test accuracy = {accuracy}')"
      ],
      "metadata": {
        "id": "ILVPldU2GWQI",
        "outputId": "fba8a2a9-631f-433d-81aa-2c4fe9834864",
        "colab": {
          "base_uri": "https://localhost:8080/"
        }
      },
      "execution_count": 14,
      "outputs": [
        {
          "output_type": "stream",
          "name": "stdout",
          "text": [
            "Overall test accuracy = 0.75\n"
          ]
        }
      ]
    },
    {
      "cell_type": "code",
      "source": [
        "accuracy_df = pd.DataFrame(columns=['accuracy'])\n",
        "\n",
        "class_acc = conf_m.diagonal() / conf_m.sum(axis=1)\n",
        "for i in range(len(labels)):\n",
        "    accuracy_df.loc[labels[i]] = [round(class_acc[i], 2)]\n",
        "\n",
        "accuracy_df"
      ],
      "metadata": {
        "id": "XxYQ_qF0CVvX",
        "outputId": "4b805903-85bd-4a96-8eff-bcbf353f9c21",
        "colab": {
          "base_uri": "https://localhost:8080/",
          "height": 363
        }
      },
      "execution_count": 15,
      "outputs": [
        {
          "output_type": "execute_result",
          "data": {
            "text/plain": [
              "           accuracy\n",
              "blues          0.75\n",
              "classical      0.80\n",
              "country        0.75\n",
              "disco          0.75\n",
              "hiphop         0.70\n",
              "jazz           0.85\n",
              "metal          0.90\n",
              "pop            0.75\n",
              "reggae         0.50\n",
              "rock           0.75"
            ],
            "text/html": [
              "\n",
              "  <div id=\"df-12b80408-505c-470c-ba45-3b9d51c51da9\">\n",
              "    <div class=\"colab-df-container\">\n",
              "      <div>\n",
              "<style scoped>\n",
              "    .dataframe tbody tr th:only-of-type {\n",
              "        vertical-align: middle;\n",
              "    }\n",
              "\n",
              "    .dataframe tbody tr th {\n",
              "        vertical-align: top;\n",
              "    }\n",
              "\n",
              "    .dataframe thead th {\n",
              "        text-align: right;\n",
              "    }\n",
              "</style>\n",
              "<table border=\"1\" class=\"dataframe\">\n",
              "  <thead>\n",
              "    <tr style=\"text-align: right;\">\n",
              "      <th></th>\n",
              "      <th>accuracy</th>\n",
              "    </tr>\n",
              "  </thead>\n",
              "  <tbody>\n",
              "    <tr>\n",
              "      <th>blues</th>\n",
              "      <td>0.75</td>\n",
              "    </tr>\n",
              "    <tr>\n",
              "      <th>classical</th>\n",
              "      <td>0.80</td>\n",
              "    </tr>\n",
              "    <tr>\n",
              "      <th>country</th>\n",
              "      <td>0.75</td>\n",
              "    </tr>\n",
              "    <tr>\n",
              "      <th>disco</th>\n",
              "      <td>0.75</td>\n",
              "    </tr>\n",
              "    <tr>\n",
              "      <th>hiphop</th>\n",
              "      <td>0.70</td>\n",
              "    </tr>\n",
              "    <tr>\n",
              "      <th>jazz</th>\n",
              "      <td>0.85</td>\n",
              "    </tr>\n",
              "    <tr>\n",
              "      <th>metal</th>\n",
              "      <td>0.90</td>\n",
              "    </tr>\n",
              "    <tr>\n",
              "      <th>pop</th>\n",
              "      <td>0.75</td>\n",
              "    </tr>\n",
              "    <tr>\n",
              "      <th>reggae</th>\n",
              "      <td>0.50</td>\n",
              "    </tr>\n",
              "    <tr>\n",
              "      <th>rock</th>\n",
              "      <td>0.75</td>\n",
              "    </tr>\n",
              "  </tbody>\n",
              "</table>\n",
              "</div>\n",
              "      <button class=\"colab-df-convert\" onclick=\"convertToInteractive('df-12b80408-505c-470c-ba45-3b9d51c51da9')\"\n",
              "              title=\"Convert this dataframe to an interactive table.\"\n",
              "              style=\"display:none;\">\n",
              "        \n",
              "  <svg xmlns=\"http://www.w3.org/2000/svg\" height=\"24px\"viewBox=\"0 0 24 24\"\n",
              "       width=\"24px\">\n",
              "    <path d=\"M0 0h24v24H0V0z\" fill=\"none\"/>\n",
              "    <path d=\"M18.56 5.44l.94 2.06.94-2.06 2.06-.94-2.06-.94-.94-2.06-.94 2.06-2.06.94zm-11 1L8.5 8.5l.94-2.06 2.06-.94-2.06-.94L8.5 2.5l-.94 2.06-2.06.94zm10 10l.94 2.06.94-2.06 2.06-.94-2.06-.94-.94-2.06-.94 2.06-2.06.94z\"/><path d=\"M17.41 7.96l-1.37-1.37c-.4-.4-.92-.59-1.43-.59-.52 0-1.04.2-1.43.59L10.3 9.45l-7.72 7.72c-.78.78-.78 2.05 0 2.83L4 21.41c.39.39.9.59 1.41.59.51 0 1.02-.2 1.41-.59l7.78-7.78 2.81-2.81c.8-.78.8-2.07 0-2.86zM5.41 20L4 18.59l7.72-7.72 1.47 1.35L5.41 20z\"/>\n",
              "  </svg>\n",
              "      </button>\n",
              "      \n",
              "  <style>\n",
              "    .colab-df-container {\n",
              "      display:flex;\n",
              "      flex-wrap:wrap;\n",
              "      gap: 12px;\n",
              "    }\n",
              "\n",
              "    .colab-df-convert {\n",
              "      background-color: #E8F0FE;\n",
              "      border: none;\n",
              "      border-radius: 50%;\n",
              "      cursor: pointer;\n",
              "      display: none;\n",
              "      fill: #1967D2;\n",
              "      height: 32px;\n",
              "      padding: 0 0 0 0;\n",
              "      width: 32px;\n",
              "    }\n",
              "\n",
              "    .colab-df-convert:hover {\n",
              "      background-color: #E2EBFA;\n",
              "      box-shadow: 0px 1px 2px rgba(60, 64, 67, 0.3), 0px 1px 3px 1px rgba(60, 64, 67, 0.15);\n",
              "      fill: #174EA6;\n",
              "    }\n",
              "\n",
              "    [theme=dark] .colab-df-convert {\n",
              "      background-color: #3B4455;\n",
              "      fill: #D2E3FC;\n",
              "    }\n",
              "\n",
              "    [theme=dark] .colab-df-convert:hover {\n",
              "      background-color: #434B5C;\n",
              "      box-shadow: 0px 1px 3px 1px rgba(0, 0, 0, 0.15);\n",
              "      filter: drop-shadow(0px 1px 2px rgba(0, 0, 0, 0.3));\n",
              "      fill: #FFFFFF;\n",
              "    }\n",
              "  </style>\n",
              "\n",
              "      <script>\n",
              "        const buttonEl =\n",
              "          document.querySelector('#df-12b80408-505c-470c-ba45-3b9d51c51da9 button.colab-df-convert');\n",
              "        buttonEl.style.display =\n",
              "          google.colab.kernel.accessAllowed ? 'block' : 'none';\n",
              "\n",
              "        async function convertToInteractive(key) {\n",
              "          const element = document.querySelector('#df-12b80408-505c-470c-ba45-3b9d51c51da9');\n",
              "          const dataTable =\n",
              "            await google.colab.kernel.invokeFunction('convertToInteractive',\n",
              "                                                     [key], {});\n",
              "          if (!dataTable) return;\n",
              "\n",
              "          const docLinkHtml = 'Like what you see? Visit the ' +\n",
              "            '<a target=\"_blank\" href=https://colab.research.google.com/notebooks/data_table.ipynb>data table notebook</a>'\n",
              "            + ' to learn more about interactive tables.';\n",
              "          element.innerHTML = '';\n",
              "          dataTable['output_type'] = 'display_data';\n",
              "          await google.colab.output.renderOutput(dataTable, element);\n",
              "          const docLink = document.createElement('div');\n",
              "          docLink.innerHTML = docLinkHtml;\n",
              "          element.appendChild(docLink);\n",
              "        }\n",
              "      </script>\n",
              "    </div>\n",
              "  </div>\n",
              "  "
            ]
          },
          "metadata": {},
          "execution_count": 15
        }
      ]
    },
    {
      "cell_type": "code",
      "source": [
        "model.save('ANN.h5')"
      ],
      "metadata": {
        "id": "jSLoUfL6k_oK"
      },
      "execution_count": 16,
      "outputs": []
    }
  ]
}