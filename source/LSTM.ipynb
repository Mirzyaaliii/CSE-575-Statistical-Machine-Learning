{
  "nbformat": 4,
  "nbformat_minor": 0,
  "metadata": {
    "colab": {
      "provenance": [],
      "authorship_tag": "ABX9TyMyLl88ViOAXSPyxCNoIZiG",
      "include_colab_link": true
    },
    "kernelspec": {
      "name": "python3",
      "display_name": "Python 3"
    },
    "language_info": {
      "name": "python"
    },
    "gpuClass": "standard",
    "accelerator": "GPU"
  },
  "cells": [
    {
      "cell_type": "markdown",
      "metadata": {
        "id": "view-in-github",
        "colab_type": "text"
      },
      "source": [
        "<a href=\"https://colab.research.google.com/github/prat-man/CSE-575-Statistical-Machine-Learning/blob/main/source/LSTM.ipynb\" target=\"_parent\"><img src=\"https://colab.research.google.com/assets/colab-badge.svg\" alt=\"Open In Colab\"/></a>"
      ]
    },
    {
      "cell_type": "code",
      "source": [
        "import numpy as np\n",
        "import pandas as pd\n",
        "import seaborn as sns\n",
        "import matplotlib.pyplot as plt\n",
        "\n",
        "from sklearn.metrics import confusion_matrix, classification_report\n",
        "\n",
        "from tensorflow.keras.models import Sequential\n",
        "from tensorflow.keras.layers import Input, Dense, Dropout, LSTM"
      ],
      "metadata": {
        "id": "AKELgdf4uToe"
      },
      "execution_count": 1,
      "outputs": []
    },
    {
      "cell_type": "code",
      "source": [
        "import httpimport\n",
        "\n",
        "with httpimport.remote_repo('https://raw.githubusercontent.com/prat-man/CSE-575-Statistical-Machine-Learning/main/source/utils'):\n",
        "    from data import get_data"
      ],
      "metadata": {
        "id": "cMMtYwnvTe3k"
      },
      "execution_count": 2,
      "outputs": []
    },
    {
      "cell_type": "code",
      "source": [
        "seed = 0"
      ],
      "metadata": {
        "id": "Zwg6rhepmJV7"
      },
      "execution_count": 3,
      "outputs": []
    },
    {
      "cell_type": "code",
      "source": [
        "X_train, X_val, X_test, y_train, y_val, y_test, labels = get_data('LSTM')"
      ],
      "metadata": {
        "id": "W3zJu5Ggw_mS"
      },
      "execution_count": 4,
      "outputs": []
    },
    {
      "cell_type": "code",
      "source": [
        "model_layers = [\n",
        "    Input((X_train.shape[1], X_train.shape[2])),\n",
        "\n",
        "    LSTM(64, return_sequences=False),\n",
        "\n",
        "    Dense(64, activation='relu'),\n",
        "\n",
        "    Dense(10, activation='softmax')\n",
        "]\n",
        "\n",
        "model = Sequential(model_layers)"
      ],
      "metadata": {
        "id": "o8gPm2fixcjY"
      },
      "execution_count": 5,
      "outputs": []
    },
    {
      "cell_type": "code",
      "source": [
        "model.compile(loss='categorical_crossentropy', optimizer='adam', metrics=['accuracy'])"
      ],
      "metadata": {
        "id": "jT8TKzR1yc6c"
      },
      "execution_count": 6,
      "outputs": []
    },
    {
      "cell_type": "code",
      "source": [
        "print(model.summary())"
      ],
      "metadata": {
        "id": "NtwoKEqnK0yc",
        "outputId": "a433dae4-0b03-499e-8d3f-575df2d96524",
        "colab": {
          "base_uri": "https://localhost:8080/"
        }
      },
      "execution_count": 7,
      "outputs": [
        {
          "output_type": "stream",
          "name": "stdout",
          "text": [
            "Model: \"sequential\"\n",
            "_________________________________________________________________\n",
            " Layer (type)                Output Shape              Param #   \n",
            "=================================================================\n",
            " lstm (LSTM)                 (None, 64)                31232     \n",
            "                                                                 \n",
            " dense (Dense)               (None, 64)                4160      \n",
            "                                                                 \n",
            " dense_1 (Dense)             (None, 10)                650       \n",
            "                                                                 \n",
            "=================================================================\n",
            "Total params: 36,042\n",
            "Trainable params: 36,042\n",
            "Non-trainable params: 0\n",
            "_________________________________________________________________\n",
            "None\n"
          ]
        }
      ]
    },
    {
      "cell_type": "code",
      "source": [
        "model.fit(X_train, y_train, validation_data=(X_val, y_val), epochs=50, batch_size=64)"
      ],
      "metadata": {
        "colab": {
          "base_uri": "https://localhost:8080/"
        },
        "id": "IWq9IDl_yim_",
        "outputId": "3ec50a21-6b8c-4bad-9943-018edc1b2c73"
      },
      "execution_count": 8,
      "outputs": [
        {
          "output_type": "stream",
          "name": "stdout",
          "text": [
            "Epoch 1/50\n",
            "10/10 [==============================] - 11s 64ms/step - loss: 2.1704 - accuracy: 0.2617 - val_loss: 1.9966 - val_accuracy: 0.3850\n",
            "Epoch 2/50\n",
            "10/10 [==============================] - 0s 8ms/step - loss: 1.8806 - accuracy: 0.3883 - val_loss: 1.7736 - val_accuracy: 0.4100\n",
            "Epoch 3/50\n",
            "10/10 [==============================] - 0s 9ms/step - loss: 1.6762 - accuracy: 0.4467 - val_loss: 1.5935 - val_accuracy: 0.4450\n",
            "Epoch 4/50\n",
            "10/10 [==============================] - 0s 8ms/step - loss: 1.4936 - accuracy: 0.5217 - val_loss: 1.4426 - val_accuracy: 0.5300\n",
            "Epoch 5/50\n",
            "10/10 [==============================] - 0s 10ms/step - loss: 1.3280 - accuracy: 0.5900 - val_loss: 1.2994 - val_accuracy: 0.5950\n",
            "Epoch 6/50\n",
            "10/10 [==============================] - 0s 9ms/step - loss: 1.1674 - accuracy: 0.6333 - val_loss: 1.1860 - val_accuracy: 0.6450\n",
            "Epoch 7/50\n",
            "10/10 [==============================] - 0s 12ms/step - loss: 1.0189 - accuracy: 0.6933 - val_loss: 1.0960 - val_accuracy: 0.6800\n",
            "Epoch 8/50\n",
            "10/10 [==============================] - 0s 12ms/step - loss: 0.8817 - accuracy: 0.7583 - val_loss: 1.0182 - val_accuracy: 0.6800\n",
            "Epoch 9/50\n",
            "10/10 [==============================] - 0s 16ms/step - loss: 0.7602 - accuracy: 0.7783 - val_loss: 0.9624 - val_accuracy: 0.6850\n",
            "Epoch 10/50\n",
            "10/10 [==============================] - 0s 15ms/step - loss: 0.6497 - accuracy: 0.8167 - val_loss: 0.9219 - val_accuracy: 0.6850\n",
            "Epoch 11/50\n",
            "10/10 [==============================] - 0s 18ms/step - loss: 0.5558 - accuracy: 0.8500 - val_loss: 0.8932 - val_accuracy: 0.7000\n",
            "Epoch 12/50\n",
            "10/10 [==============================] - 0s 14ms/step - loss: 0.4833 - accuracy: 0.8783 - val_loss: 0.8911 - val_accuracy: 0.7000\n",
            "Epoch 13/50\n",
            "10/10 [==============================] - 0s 15ms/step - loss: 0.4119 - accuracy: 0.8900 - val_loss: 0.8662 - val_accuracy: 0.6900\n",
            "Epoch 14/50\n",
            "10/10 [==============================] - 0s 14ms/step - loss: 0.3621 - accuracy: 0.9117 - val_loss: 0.8624 - val_accuracy: 0.7200\n",
            "Epoch 15/50\n",
            "10/10 [==============================] - 0s 13ms/step - loss: 0.3110 - accuracy: 0.9250 - val_loss: 0.8785 - val_accuracy: 0.7050\n",
            "Epoch 16/50\n",
            "10/10 [==============================] - 0s 13ms/step - loss: 0.2691 - accuracy: 0.9400 - val_loss: 0.8976 - val_accuracy: 0.7200\n",
            "Epoch 17/50\n",
            "10/10 [==============================] - 0s 13ms/step - loss: 0.2347 - accuracy: 0.9483 - val_loss: 0.8588 - val_accuracy: 0.7200\n",
            "Epoch 18/50\n",
            "10/10 [==============================] - 0s 12ms/step - loss: 0.1971 - accuracy: 0.9633 - val_loss: 0.9178 - val_accuracy: 0.7300\n",
            "Epoch 19/50\n",
            "10/10 [==============================] - 0s 12ms/step - loss: 0.1700 - accuracy: 0.9683 - val_loss: 0.8958 - val_accuracy: 0.7350\n",
            "Epoch 20/50\n",
            "10/10 [==============================] - 0s 13ms/step - loss: 0.1458 - accuracy: 0.9733 - val_loss: 0.9148 - val_accuracy: 0.7300\n",
            "Epoch 21/50\n",
            "10/10 [==============================] - 0s 14ms/step - loss: 0.1258 - accuracy: 0.9783 - val_loss: 0.9307 - val_accuracy: 0.7350\n",
            "Epoch 22/50\n",
            "10/10 [==============================] - 0s 13ms/step - loss: 0.1085 - accuracy: 0.9833 - val_loss: 0.9769 - val_accuracy: 0.7300\n",
            "Epoch 23/50\n",
            "10/10 [==============================] - 0s 13ms/step - loss: 0.0938 - accuracy: 0.9867 - val_loss: 0.9789 - val_accuracy: 0.7200\n",
            "Epoch 24/50\n",
            "10/10 [==============================] - 0s 13ms/step - loss: 0.0795 - accuracy: 0.9900 - val_loss: 1.0120 - val_accuracy: 0.7200\n",
            "Epoch 25/50\n",
            "10/10 [==============================] - 0s 12ms/step - loss: 0.0686 - accuracy: 0.9933 - val_loss: 1.0199 - val_accuracy: 0.7300\n",
            "Epoch 26/50\n",
            "10/10 [==============================] - 0s 14ms/step - loss: 0.0623 - accuracy: 0.9917 - val_loss: 1.0761 - val_accuracy: 0.7100\n",
            "Epoch 27/50\n",
            "10/10 [==============================] - 0s 8ms/step - loss: 0.0538 - accuracy: 0.9950 - val_loss: 0.9898 - val_accuracy: 0.7350\n",
            "Epoch 28/50\n",
            "10/10 [==============================] - 0s 10ms/step - loss: 0.0480 - accuracy: 0.9967 - val_loss: 1.0837 - val_accuracy: 0.7300\n",
            "Epoch 29/50\n",
            "10/10 [==============================] - 0s 10ms/step - loss: 0.0423 - accuracy: 0.9950 - val_loss: 1.0070 - val_accuracy: 0.7300\n",
            "Epoch 30/50\n",
            "10/10 [==============================] - 0s 10ms/step - loss: 0.0360 - accuracy: 0.9967 - val_loss: 1.0326 - val_accuracy: 0.7450\n",
            "Epoch 31/50\n",
            "10/10 [==============================] - 0s 8ms/step - loss: 0.0308 - accuracy: 0.9967 - val_loss: 1.1094 - val_accuracy: 0.7350\n",
            "Epoch 32/50\n",
            "10/10 [==============================] - 0s 8ms/step - loss: 0.0274 - accuracy: 0.9983 - val_loss: 1.0952 - val_accuracy: 0.7350\n",
            "Epoch 33/50\n",
            "10/10 [==============================] - 0s 8ms/step - loss: 0.0245 - accuracy: 0.9983 - val_loss: 1.0928 - val_accuracy: 0.7350\n",
            "Epoch 34/50\n",
            "10/10 [==============================] - 0s 8ms/step - loss: 0.0217 - accuracy: 1.0000 - val_loss: 1.1132 - val_accuracy: 0.7350\n",
            "Epoch 35/50\n",
            "10/10 [==============================] - 0s 9ms/step - loss: 0.0193 - accuracy: 1.0000 - val_loss: 1.1277 - val_accuracy: 0.7300\n",
            "Epoch 36/50\n",
            "10/10 [==============================] - 0s 10ms/step - loss: 0.0176 - accuracy: 1.0000 - val_loss: 1.1375 - val_accuracy: 0.7300\n",
            "Epoch 37/50\n",
            "10/10 [==============================] - 0s 8ms/step - loss: 0.0159 - accuracy: 1.0000 - val_loss: 1.1471 - val_accuracy: 0.7300\n",
            "Epoch 38/50\n",
            "10/10 [==============================] - 0s 9ms/step - loss: 0.0144 - accuracy: 1.0000 - val_loss: 1.1576 - val_accuracy: 0.7350\n",
            "Epoch 39/50\n",
            "10/10 [==============================] - 0s 9ms/step - loss: 0.0131 - accuracy: 1.0000 - val_loss: 1.1672 - val_accuracy: 0.7350\n",
            "Epoch 40/50\n",
            "10/10 [==============================] - 0s 9ms/step - loss: 0.0121 - accuracy: 1.0000 - val_loss: 1.1704 - val_accuracy: 0.7350\n",
            "Epoch 41/50\n",
            "10/10 [==============================] - 0s 9ms/step - loss: 0.0111 - accuracy: 1.0000 - val_loss: 1.1832 - val_accuracy: 0.7350\n",
            "Epoch 42/50\n",
            "10/10 [==============================] - 0s 10ms/step - loss: 0.0102 - accuracy: 1.0000 - val_loss: 1.1953 - val_accuracy: 0.7350\n",
            "Epoch 43/50\n",
            "10/10 [==============================] - 0s 9ms/step - loss: 0.0094 - accuracy: 1.0000 - val_loss: 1.2047 - val_accuracy: 0.7350\n",
            "Epoch 44/50\n",
            "10/10 [==============================] - 0s 9ms/step - loss: 0.0088 - accuracy: 1.0000 - val_loss: 1.2207 - val_accuracy: 0.7300\n",
            "Epoch 45/50\n",
            "10/10 [==============================] - 0s 10ms/step - loss: 0.0082 - accuracy: 1.0000 - val_loss: 1.2265 - val_accuracy: 0.7250\n",
            "Epoch 46/50\n",
            "10/10 [==============================] - 0s 9ms/step - loss: 0.0076 - accuracy: 1.0000 - val_loss: 1.2314 - val_accuracy: 0.7300\n",
            "Epoch 47/50\n",
            "10/10 [==============================] - 0s 9ms/step - loss: 0.0070 - accuracy: 1.0000 - val_loss: 1.2370 - val_accuracy: 0.7250\n",
            "Epoch 48/50\n",
            "10/10 [==============================] - 0s 8ms/step - loss: 0.0066 - accuracy: 1.0000 - val_loss: 1.2532 - val_accuracy: 0.7250\n",
            "Epoch 49/50\n",
            "10/10 [==============================] - 0s 9ms/step - loss: 0.0061 - accuracy: 1.0000 - val_loss: 1.2640 - val_accuracy: 0.7250\n",
            "Epoch 50/50\n",
            "10/10 [==============================] - 0s 9ms/step - loss: 0.0058 - accuracy: 1.0000 - val_loss: 1.2730 - val_accuracy: 0.7250\n"
          ]
        },
        {
          "output_type": "execute_result",
          "data": {
            "text/plain": [
              "<keras.callbacks.History at 0x7fdaf4fe1f00>"
            ]
          },
          "metadata": {},
          "execution_count": 8
        }
      ]
    },
    {
      "cell_type": "code",
      "source": [
        "_, accuracy = model.evaluate(X_train, y_train)\n",
        "print(f'Training Accuracy: {accuracy}')"
      ],
      "metadata": {
        "colab": {
          "base_uri": "https://localhost:8080/"
        },
        "id": "HQeSwpmu5Ru3",
        "outputId": "212d7913-8faa-4e3a-883e-ebc464ac83f6"
      },
      "execution_count": 9,
      "outputs": [
        {
          "output_type": "stream",
          "name": "stdout",
          "text": [
            "19/19 [==============================] - 0s 3ms/step - loss: 0.0055 - accuracy: 1.0000\n",
            "Training Accuracy: 1.0\n"
          ]
        }
      ]
    },
    {
      "cell_type": "code",
      "source": [
        "y_pred = model.predict(X_test)\n",
        "\n",
        "y_true = np.argmax(y_test, axis=1)\n",
        "y_pred = np.argmax(y_pred, axis=1)"
      ],
      "metadata": {
        "id": "NyytDc-w06TN",
        "outputId": "79776f5c-5cf7-4325-988e-43beeae24ab9",
        "colab": {
          "base_uri": "https://localhost:8080/"
        }
      },
      "execution_count": 10,
      "outputs": [
        {
          "output_type": "stream",
          "name": "stdout",
          "text": [
            "7/7 [==============================] - 0s 3ms/step\n"
          ]
        }
      ]
    },
    {
      "cell_type": "code",
      "source": [
        "print(classification_report(y_true, y_pred))"
      ],
      "metadata": {
        "id": "dgaCKa8404D-",
        "outputId": "44b0c019-9aaa-4678-8051-0df9c8dfdae6",
        "colab": {
          "base_uri": "https://localhost:8080/"
        }
      },
      "execution_count": 11,
      "outputs": [
        {
          "output_type": "stream",
          "name": "stdout",
          "text": [
            "              precision    recall  f1-score   support\n",
            "\n",
            "           0       0.67      0.70      0.68        20\n",
            "           1       1.00      0.90      0.95        20\n",
            "           2       0.70      0.70      0.70        20\n",
            "           3       0.75      0.75      0.75        20\n",
            "           4       0.84      0.80      0.82        20\n",
            "           5       0.90      0.95      0.93        20\n",
            "           6       0.95      0.95      0.95        20\n",
            "           7       0.88      0.75      0.81        20\n",
            "           8       0.68      0.75      0.71        20\n",
            "           9       0.64      0.70      0.67        20\n",
            "\n",
            "    accuracy                           0.80       200\n",
            "   macro avg       0.80      0.80      0.80       200\n",
            "weighted avg       0.80      0.80      0.80       200\n",
            "\n"
          ]
        }
      ]
    },
    {
      "cell_type": "code",
      "source": [
        "conf_m = confusion_matrix(y_true, y_pred)\n",
        "\n",
        "sns.heatmap(conf_m, cmap='crest', annot=True)\n",
        "\n",
        "plt.xticks(ticks = np.arange(0.5, 10, 1), labels=labels, rotation=90)\n",
        "plt.yticks(ticks = np.arange(0.5, 10, 1), labels=labels,rotation=0)\n",
        "\n",
        "plt.savefig('LSTM_Confusion_Matrix.png', dpi=300)"
      ],
      "metadata": {
        "id": "LhdvRetGA7gz",
        "outputId": "42508e47-7213-4493-b847-a3a4aea3cebf",
        "colab": {
          "base_uri": "https://localhost:8080/",
          "height": 474
        }
      },
      "execution_count": 12,
      "outputs": [
        {
          "output_type": "display_data",
          "data": {
            "text/plain": [
              "<Figure size 640x480 with 2 Axes>"
            ],
            "image/png": "[encoded data removed]"
          },
          "metadata": {}
        }
      ]
    },
    {
      "cell_type": "code",
      "source": [
        "accuracy = np.trace(conf_m) / np.sum(conf_m)\n",
        "print(f'Overall test accuracy = {accuracy}')"
      ],
      "metadata": {
        "id": "ILVPldU2GWQI",
        "outputId": "38583c18-cad1-4ffb-a18a-ff3d57536979",
        "colab": {
          "base_uri": "https://localhost:8080/"
        }
      },
      "execution_count": 13,
      "outputs": [
        {
          "output_type": "stream",
          "name": "stdout",
          "text": [
            "Overall test accuracy = 0.795\n"
          ]
        }
      ]
    },
    {
      "cell_type": "code",
      "source": [
        "accuracy_df = pd.DataFrame(columns=['accuracy'])\n",
        "\n",
        "class_acc = conf_m.diagonal() / conf_m.sum(axis=1)\n",
        "for i in range(len(labels)):\n",
        "    accuracy_df.loc[labels[i]] = [round(class_acc[i], 2)]\n",
        "\n",
        "accuracy_df"
      ],
      "metadata": {
        "id": "XxYQ_qF0CVvX",
        "outputId": "2d89d132-e8f6-4db8-9b21-b364e43a5dc1",
        "colab": {
          "base_uri": "https://localhost:8080/",
          "height": 363
        }
      },
      "execution_count": 14,
      "outputs": [
        {
          "output_type": "execute_result",
          "data": {
            "text/plain": [
              "           accuracy\n",
              "blues          0.70\n",
              "classical      0.90\n",
              "country        0.70\n",
              "disco          0.75\n",
              "hiphop         0.80\n",
              "jazz           0.95\n",
              "metal          0.95\n",
              "pop            0.75\n",
              "reggae         0.75\n",
              "rock           0.70"
            ],
            "text/html": [
              "\n",
              "  <div id=\"df-c881f2b1-9152-408a-a62e-400ce03475f1\">\n",
              "    <div class=\"colab-df-container\">\n",
              "      <div>\n",
              "<style scoped>\n",
              "    .dataframe tbody tr th:only-of-type {\n",
              "        vertical-align: middle;\n",
              "    }\n",
              "\n",
              "    .dataframe tbody tr th {\n",
              "        vertical-align: top;\n",
              "    }\n",
              "\n",
              "    .dataframe thead th {\n",
              "        text-align: right;\n",
              "    }\n",
              "</style>\n",
              "<table border=\"1\" class=\"dataframe\">\n",
              "  <thead>\n",
              "    <tr style=\"text-align: right;\">\n",
              "      <th></th>\n",
              "      <th>accuracy</th>\n",
              "    </tr>\n",
              "  </thead>\n",
              "  <tbody>\n",
              "    <tr>\n",
              "      <th>blues</th>\n",
              "      <td>0.70</td>\n",
              "    </tr>\n",
              "    <tr>\n",
              "      <th>classical</th>\n",
              "      <td>0.90</td>\n",
              "    </tr>\n",
              "    <tr>\n",
              "      <th>country</th>\n",
              "      <td>0.70</td>\n",
              "    </tr>\n",
              "    <tr>\n",
              "      <th>disco</th>\n",
              "      <td>0.75</td>\n",
              "    </tr>\n",
              "    <tr>\n",
              "      <th>hiphop</th>\n",
              "      <td>0.80</td>\n",
              "    </tr>\n",
              "    <tr>\n",
              "      <th>jazz</th>\n",
              "      <td>0.95</td>\n",
              "    </tr>\n",
              "    <tr>\n",
              "      <th>metal</th>\n",
              "      <td>0.95</td>\n",
              "    </tr>\n",
              "    <tr>\n",
              "      <th>pop</th>\n",
              "      <td>0.75</td>\n",
              "    </tr>\n",
              "    <tr>\n",
              "      <th>reggae</th>\n",
              "      <td>0.75</td>\n",
              "    </tr>\n",
              "    <tr>\n",
              "      <th>rock</th>\n",
              "      <td>0.70</td>\n",
              "    </tr>\n",
              "  </tbody>\n",
              "</table>\n",
              "</div>\n",
              "      <button class=\"colab-df-convert\" onclick=\"convertToInteractive('df-c881f2b1-9152-408a-a62e-400ce03475f1')\"\n",
              "              title=\"Convert this dataframe to an interactive table.\"\n",
              "              style=\"display:none;\">\n",
              "        \n",
              "  <svg xmlns=\"http://www.w3.org/2000/svg\" height=\"24px\"viewBox=\"0 0 24 24\"\n",
              "       width=\"24px\">\n",
              "    <path d=\"M0 0h24v24H0V0z\" fill=\"none\"/>\n",
              "    <path d=\"M18.56 5.44l.94 2.06.94-2.06 2.06-.94-2.06-.94-.94-2.06-.94 2.06-2.06.94zm-11 1L8.5 8.5l.94-2.06 2.06-.94-2.06-.94L8.5 2.5l-.94 2.06-2.06.94zm10 10l.94 2.06.94-2.06 2.06-.94-2.06-.94-.94-2.06-.94 2.06-2.06.94z\"/><path d=\"M17.41 7.96l-1.37-1.37c-.4-.4-.92-.59-1.43-.59-.52 0-1.04.2-1.43.59L10.3 9.45l-7.72 7.72c-.78.78-.78 2.05 0 2.83L4 21.41c.39.39.9.59 1.41.59.51 0 1.02-.2 1.41-.59l7.78-7.78 2.81-2.81c.8-.78.8-2.07 0-2.86zM5.41 20L4 18.59l7.72-7.72 1.47 1.35L5.41 20z\"/>\n",
              "  </svg>\n",
              "      </button>\n",
              "      \n",
              "  <style>\n",
              "    .colab-df-container {\n",
              "      display:flex;\n",
              "      flex-wrap:wrap;\n",
              "      gap: 12px;\n",
              "    }\n",
              "\n",
              "    .colab-df-convert {\n",
              "      background-color: #E8F0FE;\n",
              "      border: none;\n",
              "      border-radius: 50%;\n",
              "      cursor: pointer;\n",
              "      display: none;\n",
              "      fill: #1967D2;\n",
              "      height: 32px;\n",
              "      padding: 0 0 0 0;\n",
              "      width: 32px;\n",
              "    }\n",
              "\n",
              "    .colab-df-convert:hover {\n",
              "      background-color: #E2EBFA;\n",
              "      box-shadow: 0px 1px 2px rgba(60, 64, 67, 0.3), 0px 1px 3px 1px rgba(60, 64, 67, 0.15);\n",
              "      fill: #174EA6;\n",
              "    }\n",
              "\n",
              "    [theme=dark] .colab-df-convert {\n",
              "      background-color: #3B4455;\n",
              "      fill: #D2E3FC;\n",
              "    }\n",
              "\n",
              "    [theme=dark] .colab-df-convert:hover {\n",
              "      background-color: #434B5C;\n",
              "      box-shadow: 0px 1px 3px 1px rgba(0, 0, 0, 0.15);\n",
              "      filter: drop-shadow(0px 1px 2px rgba(0, 0, 0, 0.3));\n",
              "      fill: #FFFFFF;\n",
              "    }\n",
              "  </style>\n",
              "\n",
              "      <script>\n",
              "        const buttonEl =\n",
              "          document.querySelector('#df-c881f2b1-9152-408a-a62e-400ce03475f1 button.colab-df-convert');\n",
              "        buttonEl.style.display =\n",
              "          google.colab.kernel.accessAllowed ? 'block' : 'none';\n",
              "\n",
              "        async function convertToInteractive(key) {\n",
              "          const element = document.querySelector('#df-c881f2b1-9152-408a-a62e-400ce03475f1');\n",
              "          const dataTable =\n",
              "            await google.colab.kernel.invokeFunction('convertToInteractive',\n",
              "                                                     [key], {});\n",
              "          if (!dataTable) return;\n",
              "\n",
              "          const docLinkHtml = 'Like what you see? Visit the ' +\n",
              "            '<a target=\"_blank\" href=https://colab.research.google.com/notebooks/data_table.ipynb>data table notebook</a>'\n",
              "            + ' to learn more about interactive tables.';\n",
              "          element.innerHTML = '';\n",
              "          dataTable['output_type'] = 'display_data';\n",
              "          await google.colab.output.renderOutput(dataTable, element);\n",
              "          const docLink = document.createElement('div');\n",
              "          docLink.innerHTML = docLinkHtml;\n",
              "          element.appendChild(docLink);\n",
              "        }\n",
              "      </script>\n",
              "    </div>\n",
              "  </div>\n",
              "  "
            ]
          },
          "metadata": {},
          "execution_count": 14
        }
      ]
    },
    {
      "cell_type": "code",
      "source": [
        "model.save('LSTM.h5')"
      ],
      "metadata": {
        "id": "jSLoUfL6k_oK"
      },
      "execution_count": 15,
      "outputs": []
    }
  ]
}