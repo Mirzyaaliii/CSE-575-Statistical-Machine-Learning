{
  "nbformat": 4,
  "nbformat_minor": 0,
  "metadata": {
    "colab": {
      "provenance": [],
      "authorship_tag": "ABX9TyOeOIK2QziZ5mfKlr2hvyQq",
      "include_colab_link": true
    },
    "kernelspec": {
      "name": "python3",
      "display_name": "Python 3"
    },
    "language_info": {
      "name": "python"
    },
    "gpuClass": "standard",
    "accelerator": "GPU"
  },
  "cells": [
    {
      "cell_type": "markdown",
      "metadata": {
        "id": "view-in-github",
        "colab_type": "text"
      },
      "source": [
        "<a href=\"https://colab.research.google.com/github/prat-man/CSE-575-Statistical-Machine-Learning/blob/main/LSTM.ipynb\" target=\"_parent\"><img src=\"https://colab.research.google.com/assets/colab-badge.svg\" alt=\"Open In Colab\"/></a>"
      ]
    },
    {
      "cell_type": "code",
      "source": [
        "import numpy as np\n",
        "import pandas as pd\n",
        "import seaborn as sns\n",
        "import matplotlib.pyplot as plt\n",
        "\n",
        "from sklearn.metrics import confusion_matrix, classification_report\n",
        "\n",
        "from tensorflow.keras.models import Sequential\n",
        "from tensorflow.keras.layers import Input, Dense, Dropout, LSTM"
      ],
      "metadata": {
        "id": "AKELgdf4uToe"
      },
      "execution_count": 1,
      "outputs": []
    },
    {
      "cell_type": "code",
      "source": [
        "import httpimport\n",
        "\n",
        "with httpimport.remote_repo('https://raw.githubusercontent.com/prat-man/CSE-575-Statistical-Machine-Learning/main'):\n",
        "    from data import get_data"
      ],
      "metadata": {
        "id": "cMMtYwnvTe3k"
      },
      "execution_count": 2,
      "outputs": []
    },
    {
      "cell_type": "code",
      "source": [
        "seed = 0"
      ],
      "metadata": {
        "id": "Zwg6rhepmJV7"
      },
      "execution_count": 3,
      "outputs": []
    },
    {
      "cell_type": "code",
      "source": [
        "X_train, X_val, X_test, y_train, y_val, y_test, labels = get_data('LSTM')"
      ],
      "metadata": {
        "id": "W3zJu5Ggw_mS"
      },
      "execution_count": 4,
      "outputs": []
    },
    {
      "cell_type": "code",
      "source": [
        "model_layers = [\n",
        "    Input((X_train.shape[1], X_train.shape[2])),\n",
        "\n",
        "    LSTM(64, return_sequences=False),\n",
        "\n",
        "    Dense(64, activation='relu'),\n",
        "\n",
        "    Dense(10, activation='softmax')\n",
        "]\n",
        "\n",
        "model = Sequential(model_layers)"
      ],
      "metadata": {
        "id": "o8gPm2fixcjY"
      },
      "execution_count": 5,
      "outputs": []
    },
    {
      "cell_type": "code",
      "source": [
        "model.compile(loss='categorical_crossentropy', optimizer='adam', metrics=['accuracy'])"
      ],
      "metadata": {
        "id": "jT8TKzR1yc6c"
      },
      "execution_count": 6,
      "outputs": []
    },
    {
      "cell_type": "code",
      "source": [
        "print(model.summary())"
      ],
      "metadata": {
        "id": "NtwoKEqnK0yc",
        "outputId": "0cf4c6ca-12ff-49d3-97e6-6b4176cb38e0",
        "colab": {
          "base_uri": "https://localhost:8080/"
        }
      },
      "execution_count": 7,
      "outputs": [
        {
          "output_type": "stream",
          "name": "stdout",
          "text": [
            "Model: \"sequential\"\n",
            "_________________________________________________________________\n",
            " Layer (type)                Output Shape              Param #   \n",
            "=================================================================\n",
            " lstm (LSTM)                 (None, 64)                31232     \n",
            "                                                                 \n",
            " dense (Dense)               (None, 64)                4160      \n",
            "                                                                 \n",
            " dense_1 (Dense)             (None, 10)                650       \n",
            "                                                                 \n",
            "=================================================================\n",
            "Total params: 36,042\n",
            "Trainable params: 36,042\n",
            "Non-trainable params: 0\n",
            "_________________________________________________________________\n",
            "None\n"
          ]
        }
      ]
    },
    {
      "cell_type": "code",
      "source": [
        "model.fit(X_train, y_train, validation_data=(X_val, y_val), epochs=50, batch_size=64)"
      ],
      "metadata": {
        "colab": {
          "base_uri": "https://localhost:8080/"
        },
        "id": "IWq9IDl_yim_",
        "outputId": "ad47ce24-df33-4807-c6e8-7c7622c012f9"
      },
      "execution_count": 8,
      "outputs": [
        {
          "output_type": "stream",
          "name": "stdout",
          "text": [
            "Epoch 1/50\n",
            "10/10 [==============================] - 12s 62ms/step - loss: 2.1827 - accuracy: 0.2017 - val_loss: 1.9995 - val_accuracy: 0.3450\n",
            "Epoch 2/50\n",
            "10/10 [==============================] - 0s 9ms/step - loss: 1.8978 - accuracy: 0.4083 - val_loss: 1.7680 - val_accuracy: 0.4150\n",
            "Epoch 3/50\n",
            "10/10 [==============================] - 0s 9ms/step - loss: 1.6762 - accuracy: 0.4867 - val_loss: 1.5777 - val_accuracy: 0.4650\n",
            "Epoch 4/50\n",
            "10/10 [==============================] - 0s 9ms/step - loss: 1.4703 - accuracy: 0.5333 - val_loss: 1.4196 - val_accuracy: 0.5250\n",
            "Epoch 5/50\n",
            "10/10 [==============================] - 0s 9ms/step - loss: 1.2895 - accuracy: 0.6000 - val_loss: 1.2827 - val_accuracy: 0.5750\n",
            "Epoch 6/50\n",
            "10/10 [==============================] - 0s 9ms/step - loss: 1.1290 - accuracy: 0.6700 - val_loss: 1.1619 - val_accuracy: 0.6100\n",
            "Epoch 7/50\n",
            "10/10 [==============================] - 0s 8ms/step - loss: 0.9888 - accuracy: 0.6950 - val_loss: 1.0722 - val_accuracy: 0.6500\n",
            "Epoch 8/50\n",
            "10/10 [==============================] - 0s 10ms/step - loss: 0.8627 - accuracy: 0.7483 - val_loss: 1.0009 - val_accuracy: 0.6750\n",
            "Epoch 9/50\n",
            "10/10 [==============================] - 0s 13ms/step - loss: 0.7545 - accuracy: 0.7767 - val_loss: 0.9384 - val_accuracy: 0.7000\n",
            "Epoch 10/50\n",
            "10/10 [==============================] - 0s 9ms/step - loss: 0.6570 - accuracy: 0.8200 - val_loss: 0.8881 - val_accuracy: 0.6850\n",
            "Epoch 11/50\n",
            "10/10 [==============================] - 0s 8ms/step - loss: 0.5639 - accuracy: 0.8417 - val_loss: 0.8649 - val_accuracy: 0.7350\n",
            "Epoch 12/50\n",
            "10/10 [==============================] - 0s 10ms/step - loss: 0.4869 - accuracy: 0.8717 - val_loss: 0.8431 - val_accuracy: 0.7400\n",
            "Epoch 13/50\n",
            "10/10 [==============================] - 0s 9ms/step - loss: 0.4158 - accuracy: 0.9017 - val_loss: 0.8270 - val_accuracy: 0.7350\n",
            "Epoch 14/50\n",
            "10/10 [==============================] - 0s 9ms/step - loss: 0.3520 - accuracy: 0.9267 - val_loss: 0.8061 - val_accuracy: 0.7300\n",
            "Epoch 15/50\n",
            "10/10 [==============================] - 0s 9ms/step - loss: 0.2931 - accuracy: 0.9400 - val_loss: 0.8335 - val_accuracy: 0.7500\n",
            "Epoch 16/50\n",
            "10/10 [==============================] - 0s 8ms/step - loss: 0.2527 - accuracy: 0.9600 - val_loss: 0.7894 - val_accuracy: 0.7450\n",
            "Epoch 17/50\n",
            "10/10 [==============================] - 0s 9ms/step - loss: 0.2057 - accuracy: 0.9683 - val_loss: 0.8326 - val_accuracy: 0.7650\n",
            "Epoch 18/50\n",
            "10/10 [==============================] - 0s 8ms/step - loss: 0.1683 - accuracy: 0.9817 - val_loss: 0.8234 - val_accuracy: 0.7550\n",
            "Epoch 19/50\n",
            "10/10 [==============================] - 0s 9ms/step - loss: 0.1430 - accuracy: 0.9783 - val_loss: 0.8735 - val_accuracy: 0.7400\n",
            "Epoch 20/50\n",
            "10/10 [==============================] - 0s 9ms/step - loss: 0.1150 - accuracy: 0.9883 - val_loss: 0.8603 - val_accuracy: 0.7650\n",
            "Epoch 21/50\n",
            "10/10 [==============================] - 0s 8ms/step - loss: 0.0943 - accuracy: 0.9950 - val_loss: 0.9115 - val_accuracy: 0.7400\n",
            "Epoch 22/50\n",
            "10/10 [==============================] - 0s 9ms/step - loss: 0.0766 - accuracy: 0.9983 - val_loss: 0.9041 - val_accuracy: 0.7500\n",
            "Epoch 23/50\n",
            "10/10 [==============================] - 0s 10ms/step - loss: 0.0638 - accuracy: 0.9983 - val_loss: 0.9367 - val_accuracy: 0.7350\n",
            "Epoch 24/50\n",
            "10/10 [==============================] - 0s 9ms/step - loss: 0.0532 - accuracy: 0.9983 - val_loss: 0.9514 - val_accuracy: 0.7450\n",
            "Epoch 25/50\n",
            "10/10 [==============================] - 0s 9ms/step - loss: 0.0444 - accuracy: 0.9983 - val_loss: 0.9733 - val_accuracy: 0.7400\n",
            "Epoch 26/50\n",
            "10/10 [==============================] - 0s 9ms/step - loss: 0.0376 - accuracy: 1.0000 - val_loss: 0.9948 - val_accuracy: 0.7400\n",
            "Epoch 27/50\n",
            "10/10 [==============================] - 0s 8ms/step - loss: 0.0324 - accuracy: 1.0000 - val_loss: 1.0124 - val_accuracy: 0.7450\n",
            "Epoch 28/50\n",
            "10/10 [==============================] - 0s 9ms/step - loss: 0.0281 - accuracy: 1.0000 - val_loss: 1.0139 - val_accuracy: 0.7500\n",
            "Epoch 29/50\n",
            "10/10 [==============================] - 0s 8ms/step - loss: 0.0246 - accuracy: 1.0000 - val_loss: 1.0454 - val_accuracy: 0.7450\n",
            "Epoch 30/50\n",
            "10/10 [==============================] - 0s 8ms/step - loss: 0.0217 - accuracy: 1.0000 - val_loss: 1.0686 - val_accuracy: 0.7450\n",
            "Epoch 31/50\n",
            "10/10 [==============================] - 0s 9ms/step - loss: 0.0194 - accuracy: 1.0000 - val_loss: 1.0777 - val_accuracy: 0.7450\n",
            "Epoch 32/50\n",
            "10/10 [==============================] - 0s 8ms/step - loss: 0.0174 - accuracy: 1.0000 - val_loss: 1.0884 - val_accuracy: 0.7400\n",
            "Epoch 33/50\n",
            "10/10 [==============================] - 0s 8ms/step - loss: 0.0155 - accuracy: 1.0000 - val_loss: 1.1096 - val_accuracy: 0.7350\n",
            "Epoch 34/50\n",
            "10/10 [==============================] - 0s 9ms/step - loss: 0.0141 - accuracy: 1.0000 - val_loss: 1.1155 - val_accuracy: 0.7350\n",
            "Epoch 35/50\n",
            "10/10 [==============================] - 0s 9ms/step - loss: 0.0129 - accuracy: 1.0000 - val_loss: 1.1328 - val_accuracy: 0.7300\n",
            "Epoch 36/50\n",
            "10/10 [==============================] - 0s 8ms/step - loss: 0.0117 - accuracy: 1.0000 - val_loss: 1.1449 - val_accuracy: 0.7300\n",
            "Epoch 37/50\n",
            "10/10 [==============================] - 0s 10ms/step - loss: 0.0108 - accuracy: 1.0000 - val_loss: 1.1433 - val_accuracy: 0.7300\n",
            "Epoch 38/50\n",
            "10/10 [==============================] - 0s 8ms/step - loss: 0.0099 - accuracy: 1.0000 - val_loss: 1.1600 - val_accuracy: 0.7300\n",
            "Epoch 39/50\n",
            "10/10 [==============================] - 0s 9ms/step - loss: 0.0091 - accuracy: 1.0000 - val_loss: 1.1787 - val_accuracy: 0.7300\n",
            "Epoch 40/50\n",
            "10/10 [==============================] - 0s 8ms/step - loss: 0.0085 - accuracy: 1.0000 - val_loss: 1.1831 - val_accuracy: 0.7350\n",
            "Epoch 41/50\n",
            "10/10 [==============================] - 0s 9ms/step - loss: 0.0079 - accuracy: 1.0000 - val_loss: 1.1842 - val_accuracy: 0.7300\n",
            "Epoch 42/50\n",
            "10/10 [==============================] - 0s 11ms/step - loss: 0.0074 - accuracy: 1.0000 - val_loss: 1.1964 - val_accuracy: 0.7250\n",
            "Epoch 43/50\n",
            "10/10 [==============================] - 0s 8ms/step - loss: 0.0069 - accuracy: 1.0000 - val_loss: 1.2055 - val_accuracy: 0.7250\n",
            "Epoch 44/50\n",
            "10/10 [==============================] - 0s 9ms/step - loss: 0.0064 - accuracy: 1.0000 - val_loss: 1.2156 - val_accuracy: 0.7250\n",
            "Epoch 45/50\n",
            "10/10 [==============================] - 0s 8ms/step - loss: 0.0061 - accuracy: 1.0000 - val_loss: 1.2237 - val_accuracy: 0.7250\n",
            "Epoch 46/50\n",
            "10/10 [==============================] - 0s 9ms/step - loss: 0.0057 - accuracy: 1.0000 - val_loss: 1.2338 - val_accuracy: 0.7250\n",
            "Epoch 47/50\n",
            "10/10 [==============================] - 0s 9ms/step - loss: 0.0054 - accuracy: 1.0000 - val_loss: 1.2433 - val_accuracy: 0.7250\n",
            "Epoch 48/50\n",
            "10/10 [==============================] - 0s 9ms/step - loss: 0.0051 - accuracy: 1.0000 - val_loss: 1.2523 - val_accuracy: 0.7250\n",
            "Epoch 49/50\n",
            "10/10 [==============================] - 0s 13ms/step - loss: 0.0048 - accuracy: 1.0000 - val_loss: 1.2513 - val_accuracy: 0.7250\n",
            "Epoch 50/50\n",
            "10/10 [==============================] - 0s 13ms/step - loss: 0.0045 - accuracy: 1.0000 - val_loss: 1.2584 - val_accuracy: 0.7200\n"
          ]
        },
        {
          "output_type": "execute_result",
          "data": {
            "text/plain": [
              "<keras.callbacks.History at 0x7f7640155e40>"
            ]
          },
          "metadata": {},
          "execution_count": 8
        }
      ]
    },
    {
      "cell_type": "code",
      "source": [
        "_, accuracy = model.evaluate(X_train, y_train)\n",
        "print(f'Training Accuracy: {accuracy}')"
      ],
      "metadata": {
        "colab": {
          "base_uri": "https://localhost:8080/"
        },
        "id": "HQeSwpmu5Ru3",
        "outputId": "552297b5-2c01-4eda-a486-5f292eb494a1"
      },
      "execution_count": 9,
      "outputs": [
        {
          "output_type": "stream",
          "name": "stdout",
          "text": [
            "19/19 [==============================] - 0s 4ms/step - loss: 0.0044 - accuracy: 1.0000\n",
            "Training Accuracy: 1.0\n"
          ]
        }
      ]
    },
    {
      "cell_type": "code",
      "source": [
        "y_pred = model.predict(X_test)\n",
        "\n",
        "y_true = np.argmax(y_test, axis=1)\n",
        "y_pred = np.argmax(y_pred, axis=1)"
      ],
      "metadata": {
        "id": "NyytDc-w06TN",
        "outputId": "4d8edc85-cbb3-4eff-eeb9-be0995128f1b",
        "colab": {
          "base_uri": "https://localhost:8080/"
        }
      },
      "execution_count": 10,
      "outputs": [
        {
          "output_type": "stream",
          "name": "stdout",
          "text": [
            "7/7 [==============================] - 0s 3ms/step\n"
          ]
        }
      ]
    },
    {
      "cell_type": "code",
      "source": [
        "print(classification_report(y_true, y_pred))"
      ],
      "metadata": {
        "id": "dgaCKa8404D-",
        "outputId": "adfa12be-d51f-4d89-8d38-20d488e94380",
        "colab": {
          "base_uri": "https://localhost:8080/"
        }
      },
      "execution_count": 11,
      "outputs": [
        {
          "output_type": "stream",
          "name": "stdout",
          "text": [
            "              precision    recall  f1-score   support\n",
            "\n",
            "           0       0.71      0.75      0.73        20\n",
            "           1       1.00      0.90      0.95        20\n",
            "           2       0.67      0.60      0.63        20\n",
            "           3       0.68      0.75      0.71        20\n",
            "           4       0.67      0.70      0.68        20\n",
            "           5       0.76      0.95      0.84        20\n",
            "           6       0.95      0.90      0.92        20\n",
            "           7       0.78      0.70      0.74        20\n",
            "           8       0.68      0.65      0.67        20\n",
            "           9       0.63      0.60      0.62        20\n",
            "\n",
            "    accuracy                           0.75       200\n",
            "   macro avg       0.75      0.75      0.75       200\n",
            "weighted avg       0.75      0.75      0.75       200\n",
            "\n"
          ]
        }
      ]
    },
    {
      "cell_type": "code",
      "source": [
        "conf_m = confusion_matrix(y_true, y_pred)\n",
        "\n",
        "sns.heatmap(conf_m, cmap='crest', annot=True)\n",
        "\n",
        "plt.xticks(ticks = np.arange(0.5, 10, 1), labels=labels, rotation=90)\n",
        "plt.yticks(ticks = np.arange(0.5, 10, 1), labels=labels,rotation=0)\n",
        "\n",
        "plt.savefig('LSTM_Confusion_Matrix.png', dpi=300)"
      ],
      "metadata": {
        "id": "LhdvRetGA7gz",
        "outputId": "c41db545-436a-416b-9c5d-7c5a4293ea47",
        "colab": {
          "base_uri": "https://localhost:8080/",
          "height": 474
        }
      },
      "execution_count": 12,
      "outputs": [
        {
          "output_type": "display_data",
          "data": {
            "text/plain": [
              "<Figure size 640x480 with 2 Axes>"
            ],
            "image/png": "[encoded data removed]"
          },
          "metadata": {}
        }
      ]
    },
    {
      "cell_type": "code",
      "source": [
        "accuracy = np.trace(conf_m) / np.sum(conf_m)\n",
        "print(f'Overall test accuracy = {accuracy}')"
      ],
      "metadata": {
        "id": "ILVPldU2GWQI",
        "outputId": "b6f89e16-cc02-43c5-bd91-de1ba8993d74",
        "colab": {
          "base_uri": "https://localhost:8080/"
        }
      },
      "execution_count": 13,
      "outputs": [
        {
          "output_type": "stream",
          "name": "stdout",
          "text": [
            "Overall test accuracy = 0.75\n"
          ]
        }
      ]
    },
    {
      "cell_type": "code",
      "source": [
        "accuracy_df = pd.DataFrame(columns=['accuracy'])\n",
        "\n",
        "class_acc = conf_m.diagonal() / conf_m.sum(axis=1)\n",
        "for i in range(len(labels)):\n",
        "    accuracy_df.loc[labels[i]] = [round(class_acc[i], 2)]\n",
        "\n",
        "accuracy_df"
      ],
      "metadata": {
        "id": "XxYQ_qF0CVvX",
        "outputId": "eb54e0ae-58b5-4a58-f370-4dcfe1cc8f3b",
        "colab": {
          "base_uri": "https://localhost:8080/",
          "height": 363
        }
      },
      "execution_count": 14,
      "outputs": [
        {
          "output_type": "execute_result",
          "data": {
            "text/plain": [
              "           accuracy\n",
              "blues          0.75\n",
              "classical      0.90\n",
              "country        0.60\n",
              "disco          0.75\n",
              "hiphop         0.70\n",
              "jazz           0.95\n",
              "metal          0.90\n",
              "pop            0.70\n",
              "reggae         0.65\n",
              "rock           0.60"
            ],
            "text/html": [
              "\n",
              "  <div id=\"df-143817c1-cbbf-495e-9f57-481957219a09\">\n",
              "    <div class=\"colab-df-container\">\n",
              "      <div>\n",
              "<style scoped>\n",
              "    .dataframe tbody tr th:only-of-type {\n",
              "        vertical-align: middle;\n",
              "    }\n",
              "\n",
              "    .dataframe tbody tr th {\n",
              "        vertical-align: top;\n",
              "    }\n",
              "\n",
              "    .dataframe thead th {\n",
              "        text-align: right;\n",
              "    }\n",
              "</style>\n",
              "<table border=\"1\" class=\"dataframe\">\n",
              "  <thead>\n",
              "    <tr style=\"text-align: right;\">\n",
              "      <th></th>\n",
              "      <th>accuracy</th>\n",
              "    </tr>\n",
              "  </thead>\n",
              "  <tbody>\n",
              "    <tr>\n",
              "      <th>blues</th>\n",
              "      <td>0.75</td>\n",
              "    </tr>\n",
              "    <tr>\n",
              "      <th>classical</th>\n",
              "      <td>0.90</td>\n",
              "    </tr>\n",
              "    <tr>\n",
              "      <th>country</th>\n",
              "      <td>0.60</td>\n",
              "    </tr>\n",
              "    <tr>\n",
              "      <th>disco</th>\n",
              "      <td>0.75</td>\n",
              "    </tr>\n",
              "    <tr>\n",
              "      <th>hiphop</th>\n",
              "      <td>0.70</td>\n",
              "    </tr>\n",
              "    <tr>\n",
              "      <th>jazz</th>\n",
              "      <td>0.95</td>\n",
              "    </tr>\n",
              "    <tr>\n",
              "      <th>metal</th>\n",
              "      <td>0.90</td>\n",
              "    </tr>\n",
              "    <tr>\n",
              "      <th>pop</th>\n",
              "      <td>0.70</td>\n",
              "    </tr>\n",
              "    <tr>\n",
              "      <th>reggae</th>\n",
              "      <td>0.65</td>\n",
              "    </tr>\n",
              "    <tr>\n",
              "      <th>rock</th>\n",
              "      <td>0.60</td>\n",
              "    </tr>\n",
              "  </tbody>\n",
              "</table>\n",
              "</div>\n",
              "      <button class=\"colab-df-convert\" onclick=\"convertToInteractive('df-143817c1-cbbf-495e-9f57-481957219a09')\"\n",
              "              title=\"Convert this dataframe to an interactive table.\"\n",
              "              style=\"display:none;\">\n",
              "        \n",
              "  <svg xmlns=\"http://www.w3.org/2000/svg\" height=\"24px\"viewBox=\"0 0 24 24\"\n",
              "       width=\"24px\">\n",
              "    <path d=\"M0 0h24v24H0V0z\" fill=\"none\"/>\n",
              "    <path d=\"M18.56 5.44l.94 2.06.94-2.06 2.06-.94-2.06-.94-.94-2.06-.94 2.06-2.06.94zm-11 1L8.5 8.5l.94-2.06 2.06-.94-2.06-.94L8.5 2.5l-.94 2.06-2.06.94zm10 10l.94 2.06.94-2.06 2.06-.94-2.06-.94-.94-2.06-.94 2.06-2.06.94z\"/><path d=\"M17.41 7.96l-1.37-1.37c-.4-.4-.92-.59-1.43-.59-.52 0-1.04.2-1.43.59L10.3 9.45l-7.72 7.72c-.78.78-.78 2.05 0 2.83L4 21.41c.39.39.9.59 1.41.59.51 0 1.02-.2 1.41-.59l7.78-7.78 2.81-2.81c.8-.78.8-2.07 0-2.86zM5.41 20L4 18.59l7.72-7.72 1.47 1.35L5.41 20z\"/>\n",
              "  </svg>\n",
              "      </button>\n",
              "      \n",
              "  <style>\n",
              "    .colab-df-container {\n",
              "      display:flex;\n",
              "      flex-wrap:wrap;\n",
              "      gap: 12px;\n",
              "    }\n",
              "\n",
              "    .colab-df-convert {\n",
              "      background-color: #E8F0FE;\n",
              "      border: none;\n",
              "      border-radius: 50%;\n",
              "      cursor: pointer;\n",
              "      display: none;\n",
              "      fill: #1967D2;\n",
              "      height: 32px;\n",
              "      padding: 0 0 0 0;\n",
              "      width: 32px;\n",
              "    }\n",
              "\n",
              "    .colab-df-convert:hover {\n",
              "      background-color: #E2EBFA;\n",
              "      box-shadow: 0px 1px 2px rgba(60, 64, 67, 0.3), 0px 1px 3px 1px rgba(60, 64, 67, 0.15);\n",
              "      fill: #174EA6;\n",
              "    }\n",
              "\n",
              "    [theme=dark] .colab-df-convert {\n",
              "      background-color: #3B4455;\n",
              "      fill: #D2E3FC;\n",
              "    }\n",
              "\n",
              "    [theme=dark] .colab-df-convert:hover {\n",
              "      background-color: #434B5C;\n",
              "      box-shadow: 0px 1px 3px 1px rgba(0, 0, 0, 0.15);\n",
              "      filter: drop-shadow(0px 1px 2px rgba(0, 0, 0, 0.3));\n",
              "      fill: #FFFFFF;\n",
              "    }\n",
              "  </style>\n",
              "\n",
              "      <script>\n",
              "        const buttonEl =\n",
              "          document.querySelector('#df-143817c1-cbbf-495e-9f57-481957219a09 button.colab-df-convert');\n",
              "        buttonEl.style.display =\n",
              "          google.colab.kernel.accessAllowed ? 'block' : 'none';\n",
              "\n",
              "        async function convertToInteractive(key) {\n",
              "          const element = document.querySelector('#df-143817c1-cbbf-495e-9f57-481957219a09');\n",
              "          const dataTable =\n",
              "            await google.colab.kernel.invokeFunction('convertToInteractive',\n",
              "                                                     [key], {});\n",
              "          if (!dataTable) return;\n",
              "\n",
              "          const docLinkHtml = 'Like what you see? Visit the ' +\n",
              "            '<a target=\"_blank\" href=https://colab.research.google.com/notebooks/data_table.ipynb>data table notebook</a>'\n",
              "            + ' to learn more about interactive tables.';\n",
              "          element.innerHTML = '';\n",
              "          dataTable['output_type'] = 'display_data';\n",
              "          await google.colab.output.renderOutput(dataTable, element);\n",
              "          const docLink = document.createElement('div');\n",
              "          docLink.innerHTML = docLinkHtml;\n",
              "          element.appendChild(docLink);\n",
              "        }\n",
              "      </script>\n",
              "    </div>\n",
              "  </div>\n",
              "  "
            ]
          },
          "metadata": {},
          "execution_count": 14
        }
      ]
    },
    {
      "cell_type": "code",
      "source": [
        "model.save('LSTM.h5')"
      ],
      "metadata": {
        "id": "jSLoUfL6k_oK"
      },
      "execution_count": 15,
      "outputs": []
    }
  ]
}