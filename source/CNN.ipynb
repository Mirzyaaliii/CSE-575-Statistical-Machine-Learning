{
  "nbformat": 4,
  "nbformat_minor": 0,
  "metadata": {
    "colab": {
      "provenance": [],
      "include_colab_link": true
    },
    "kernelspec": {
      "name": "python3",
      "display_name": "Python 3"
    },
    "language_info": {
      "name": "python"
    },
    "gpuClass": "standard",
    "accelerator": "GPU"
  },
  "cells": [
    {
      "cell_type": "markdown",
      "metadata": {
        "id": "view-in-github",
        "colab_type": "text"
      },
      "source": [
        "<a href=\"https://colab.research.google.com/github/prat-man/CSE-575-Statistical-Machine-Learning/blob/main/source/CNN.ipynb\" target=\"_parent\"><img src=\"https://colab.research.google.com/assets/colab-badge.svg\" alt=\"Open In Colab\"/></a>"
      ]
    },
    {
      "cell_type": "code",
      "execution_count": 1,
      "metadata": {
        "id": "bLyc4wLn5wl1"
      },
      "outputs": [],
      "source": [
        "import io\n",
        "import numpy as np\n",
        "import pandas as pd\n",
        "import seaborn as sns\n",
        "import matplotlib.pyplot as plt\n",
        "\n",
        "from sklearn.metrics import classification_report, confusion_matrix\n",
        "\n",
        "from tensorflow.keras.models import Sequential\n",
        "from tensorflow.keras.layers import Input, Dense, Dropout, Conv2D, MaxPool2D, Flatten\n",
        "\n",
        "from urllib.request import urlretrieve\n",
        "from zipfile import ZipFile\n",
        "from PIL import Image"
      ]
    },
    {
      "cell_type": "code",
      "source": [
        "import httpimport\n",
        "\n",
        "with httpimport.remote_repo('https://raw.githubusercontent.com/prat-man/CSE-575-Statistical-Machine-Learning/main/source/utils'):\n",
        "    from data import get_data"
      ],
      "metadata": {
        "id": "2XcizffzWfrp"
      },
      "execution_count": 2,
      "outputs": []
    },
    {
      "cell_type": "code",
      "source": [
        "seed = 0"
      ],
      "metadata": {
        "id": "jA7dRgo1N4JN"
      },
      "execution_count": 3,
      "outputs": []
    },
    {
      "cell_type": "code",
      "source": [
        "X_train, X_val, X_test, y_train, y_val, y_test, labels = get_data('CNN')"
      ],
      "metadata": {
        "id": "AZY3yfnzWjqC"
      },
      "execution_count": 4,
      "outputs": []
    },
    {
      "cell_type": "code",
      "source": [
        "model_layers = [\n",
        "    Input(X_train.shape[1:4]),\n",
        "    \n",
        "    Conv2D(64, (3, 3)),\n",
        "    MaxPool2D(pool_size=(2, 2,)),\n",
        "\n",
        "    Conv2D(32, (3, 3)),\n",
        "    MaxPool2D(pool_size=(2, 2)),\n",
        "\n",
        "    Conv2D(16, (3, 3)),\n",
        "    MaxPool2D(pool_size=(2, 2)),\n",
        "\n",
        "    Flatten(),\n",
        "\n",
        "    Dense(64),\n",
        "\n",
        "    Dense(10, activation='softmax')\n",
        "]\n",
        "\n",
        "model = Sequential(model_layers)"
      ],
      "metadata": {
        "id": "bSEq25kJ6Iyo"
      },
      "execution_count": 5,
      "outputs": []
    },
    {
      "cell_type": "code",
      "source": [
        "model.compile(loss='categorical_crossentropy', optimizer='adam', metrics=['accuracy'])"
      ],
      "metadata": {
        "id": "Ow5gJF_UMP0O"
      },
      "execution_count": 6,
      "outputs": []
    },
    {
      "cell_type": "code",
      "source": [
        "print(model.summary())"
      ],
      "metadata": {
        "colab": {
          "base_uri": "https://localhost:8080/"
        },
        "id": "p4zZw74lMRWq",
        "outputId": "f517a09a-a3ff-4baa-dc58-cea9239d582d"
      },
      "execution_count": 7,
      "outputs": [
        {
          "output_type": "stream",
          "name": "stdout",
          "text": [
            "Model: \"sequential\"\n",
            "_________________________________________________________________\n",
            " Layer (type)                Output Shape              Param #   \n",
            "=================================================================\n",
            " conv2d (Conv2D)             (None, 286, 430, 64)      1792      \n",
            "                                                                 \n",
            " max_pooling2d (MaxPooling2D  (None, 143, 215, 64)     0         \n",
            " )                                                               \n",
            "                                                                 \n",
            " conv2d_1 (Conv2D)           (None, 141, 213, 32)      18464     \n",
            "                                                                 \n",
            " max_pooling2d_1 (MaxPooling  (None, 70, 106, 32)      0         \n",
            " 2D)                                                             \n",
            "                                                                 \n",
            " conv2d_2 (Conv2D)           (None, 68, 104, 16)       4624      \n",
            "                                                                 \n",
            " max_pooling2d_2 (MaxPooling  (None, 34, 52, 16)       0         \n",
            " 2D)                                                             \n",
            "                                                                 \n",
            " flatten (Flatten)           (None, 28288)             0         \n",
            "                                                                 \n",
            " dense (Dense)               (None, 64)                1810496   \n",
            "                                                                 \n",
            " dense_1 (Dense)             (None, 10)                650       \n",
            "                                                                 \n",
            "=================================================================\n",
            "Total params: 1,836,026\n",
            "Trainable params: 1,836,026\n",
            "Non-trainable params: 0\n",
            "_________________________________________________________________\n",
            "None\n"
          ]
        }
      ]
    },
    {
      "cell_type": "code",
      "source": [
        "model.fit(X_train, y_train, validation_data=(X_val, y_val), epochs=20, batch_size=32)"
      ],
      "metadata": {
        "id": "vvGi6URt6KXq",
        "colab": {
          "base_uri": "https://localhost:8080/"
        },
        "outputId": "77a409bc-0396-44be-823f-315d0fd403a4"
      },
      "execution_count": 8,
      "outputs": [
        {
          "output_type": "stream",
          "name": "stdout",
          "text": [
            "Epoch 1/20\n",
            "19/19 [==============================] - 11s 264ms/step - loss: 2353.7537 - accuracy: 0.1133 - val_loss: 1085.3970 - val_accuracy: 0.1050\n",
            "Epoch 2/20\n",
            "19/19 [==============================] - 2s 120ms/step - loss: 646.0295 - accuracy: 0.2117 - val_loss: 496.3180 - val_accuracy: 0.1550\n",
            "Epoch 3/20\n",
            "19/19 [==============================] - 2s 119ms/step - loss: 258.2846 - accuracy: 0.3250 - val_loss: 227.0650 - val_accuracy: 0.3150\n",
            "Epoch 4/20\n",
            "19/19 [==============================] - 2s 122ms/step - loss: 144.8692 - accuracy: 0.4067 - val_loss: 159.6051 - val_accuracy: 0.2850\n",
            "Epoch 5/20\n",
            "19/19 [==============================] - 2s 122ms/step - loss: 64.2224 - accuracy: 0.5300 - val_loss: 62.3527 - val_accuracy: 0.4300\n",
            "Epoch 6/20\n",
            "19/19 [==============================] - 2s 123ms/step - loss: 20.1516 - accuracy: 0.7483 - val_loss: 40.3770 - val_accuracy: 0.4900\n",
            "Epoch 7/20\n",
            "19/19 [==============================] - 2s 121ms/step - loss: 13.8475 - accuracy: 0.7750 - val_loss: 47.0217 - val_accuracy: 0.5050\n",
            "Epoch 8/20\n",
            "19/19 [==============================] - 2s 121ms/step - loss: 28.4120 - accuracy: 0.7633 - val_loss: 89.0536 - val_accuracy: 0.4400\n",
            "Epoch 9/20\n",
            "19/19 [==============================] - 2s 120ms/step - loss: 8.9085 - accuracy: 0.8850 - val_loss: 34.7429 - val_accuracy: 0.5050\n",
            "Epoch 10/20\n",
            "19/19 [==============================] - 2s 119ms/step - loss: 1.2659 - accuracy: 0.9550 - val_loss: 36.8963 - val_accuracy: 0.5400\n",
            "Epoch 11/20\n",
            "19/19 [==============================] - 2s 125ms/step - loss: 0.4417 - accuracy: 0.9900 - val_loss: 21.6337 - val_accuracy: 0.5800\n",
            "Epoch 12/20\n",
            "19/19 [==============================] - 2s 119ms/step - loss: 0.4103 - accuracy: 0.9883 - val_loss: 27.6581 - val_accuracy: 0.5650\n",
            "Epoch 13/20\n",
            "19/19 [==============================] - 2s 122ms/step - loss: 0.1123 - accuracy: 0.9967 - val_loss: 24.7283 - val_accuracy: 0.5600\n",
            "Epoch 14/20\n",
            "19/19 [==============================] - 2s 121ms/step - loss: 0.0459 - accuracy: 0.9950 - val_loss: 23.0967 - val_accuracy: 0.5750\n",
            "Epoch 15/20\n",
            "19/19 [==============================] - 2s 121ms/step - loss: 1.3149e-05 - accuracy: 1.0000 - val_loss: 21.9157 - val_accuracy: 0.6000\n",
            "Epoch 16/20\n",
            "19/19 [==============================] - 2s 123ms/step - loss: 5.8700e-06 - accuracy: 1.0000 - val_loss: 22.1788 - val_accuracy: 0.5950\n",
            "Epoch 17/20\n",
            "19/19 [==============================] - 2s 122ms/step - loss: 2.5098e-06 - accuracy: 1.0000 - val_loss: 22.2194 - val_accuracy: 0.5950\n",
            "Epoch 18/20\n",
            "19/19 [==============================] - 2s 122ms/step - loss: 1.8352e-06 - accuracy: 1.0000 - val_loss: 22.2231 - val_accuracy: 0.5950\n",
            "Epoch 19/20\n",
            "19/19 [==============================] - 2s 121ms/step - loss: 1.5164e-06 - accuracy: 1.0000 - val_loss: 22.2221 - val_accuracy: 0.5950\n",
            "Epoch 20/20\n",
            "19/19 [==============================] - 2s 119ms/step - loss: 1.2929e-06 - accuracy: 1.0000 - val_loss: 22.2208 - val_accuracy: 0.5950\n"
          ]
        },
        {
          "output_type": "execute_result",
          "data": {
            "text/plain": [
              "<keras.callbacks.History at 0x7f124b58ee90>"
            ]
          },
          "metadata": {},
          "execution_count": 8
        }
      ]
    },
    {
      "cell_type": "code",
      "source": [
        "_, accuracy = model.evaluate(X_train, y_train)\n",
        "print(f'Training Accuracy: {accuracy}')"
      ],
      "metadata": {
        "id": "aHR5MZrpMWpm",
        "outputId": "7675b1b6-1786-4399-bf72-3b4b1fe6db50",
        "colab": {
          "base_uri": "https://localhost:8080/"
        }
      },
      "execution_count": 9,
      "outputs": [
        {
          "output_type": "stream",
          "name": "stdout",
          "text": [
            "19/19 [==============================] - 1s 44ms/step - loss: 1.1238e-06 - accuracy: 1.0000\n",
            "Training Accuracy: 1.0\n"
          ]
        }
      ]
    },
    {
      "cell_type": "code",
      "source": [
        "y_pred = model.predict(X_test)\n",
        "\n",
        "y_true = np.argmax(y_test, axis=1)\n",
        "y_pred = np.argmax(y_pred, axis=1)"
      ],
      "metadata": {
        "id": "UZqiAzDpM_iZ",
        "outputId": "1ccf826a-4e96-4d95-db6e-8b41275e5851",
        "colab": {
          "base_uri": "https://localhost:8080/"
        }
      },
      "execution_count": 10,
      "outputs": [
        {
          "output_type": "stream",
          "name": "stdout",
          "text": [
            "7/7 [==============================] - 0s 41ms/step\n"
          ]
        }
      ]
    },
    {
      "cell_type": "code",
      "source": [
        "print(classification_report(y_true, y_pred))"
      ],
      "metadata": {
        "id": "LNUxQh0ANBlJ",
        "outputId": "38d9aacf-1a4a-4455-db9d-09b111e91a63",
        "colab": {
          "base_uri": "https://localhost:8080/"
        }
      },
      "execution_count": 11,
      "outputs": [
        {
          "output_type": "stream",
          "name": "stdout",
          "text": [
            "              precision    recall  f1-score   support\n",
            "\n",
            "           0       0.67      0.40      0.50        20\n",
            "           1       0.82      0.90      0.86        20\n",
            "           2       0.38      0.55      0.45        20\n",
            "           3       0.42      0.75      0.54        20\n",
            "           4       0.52      0.55      0.54        20\n",
            "           5       0.84      0.80      0.82        20\n",
            "           6       0.90      0.90      0.90        20\n",
            "           7       0.62      0.50      0.56        20\n",
            "           8       0.59      0.50      0.54        20\n",
            "           9       0.38      0.15      0.21        20\n",
            "\n",
            "    accuracy                           0.60       200\n",
            "   macro avg       0.61      0.60      0.59       200\n",
            "weighted avg       0.61      0.60      0.59       200\n",
            "\n"
          ]
        }
      ]
    },
    {
      "cell_type": "code",
      "source": [
        "conf_m = confusion_matrix(y_true, y_pred)\n",
        "\n",
        "sns.heatmap(conf_m, cmap='crest', annot=True)\n",
        "\n",
        "plt.xticks(ticks = np.arange(0.5, 10, 1), labels=labels, rotation=90)\n",
        "plt.yticks(ticks = np.arange(0.5, 10, 1), labels=labels,rotation=0)\n",
        "\n",
        "plt.savefig('CNN_Confusion_Matrix.png', dpi=300)"
      ],
      "metadata": {
        "id": "To8XjUfhNDV6",
        "outputId": "e2c25fa5-ff57-4a44-c7b5-fed571fc625f",
        "colab": {
          "base_uri": "https://localhost:8080/",
          "height": 480
        }
      },
      "execution_count": 12,
      "outputs": [
        {
          "output_type": "display_data",
          "data": {
            "text/plain": [
              "<Figure size 640x480 with 2 Axes>"
            ],
            "image/png": "[encoded data removed]"
          },
          "metadata": {}
        }
      ]
    },
    {
      "cell_type": "code",
      "source": [
        "accuracy = np.trace(conf_m) / np.sum(conf_m)\n",
        "print(f'Overall test accuracy = {accuracy}')"
      ],
      "metadata": {
        "id": "za3m-FpLNFBA",
        "outputId": "e05859f1-bf80-44f0-b5e5-68a8655929b2",
        "colab": {
          "base_uri": "https://localhost:8080/"
        }
      },
      "execution_count": 13,
      "outputs": [
        {
          "output_type": "stream",
          "name": "stdout",
          "text": [
            "Overall test accuracy = 0.6\n"
          ]
        }
      ]
    },
    {
      "cell_type": "code",
      "source": [
        "accuracy_df = pd.DataFrame(columns=['accuracy'])\n",
        "\n",
        "class_acc = conf_m.diagonal() / conf_m.sum(axis=1)\n",
        "for i in range(len(labels)):\n",
        "    accuracy_df.loc[labels[i]] = [round(class_acc[i], 2)]\n",
        "\n",
        "accuracy_df"
      ],
      "metadata": {
        "id": "OQTIc7Ob6Kgp",
        "outputId": "4a780da0-d61f-4a94-87c0-7c31927898bb",
        "colab": {
          "base_uri": "https://localhost:8080/",
          "height": 363
        }
      },
      "execution_count": 14,
      "outputs": [
        {
          "output_type": "execute_result",
          "data": {
            "text/plain": [
              "           accuracy\n",
              "blues          0.40\n",
              "classical      0.90\n",
              "country        0.55\n",
              "disco          0.75\n",
              "hiphop         0.55\n",
              "jazz           0.80\n",
              "metal          0.90\n",
              "pop            0.50\n",
              "reggae         0.50\n",
              "rock           0.15"
            ],
            "text/html": [
              "\n",
              "  <div id=\"df-340a98e5-bf16-4e56-b5a1-575fefc0f839\">\n",
              "    <div class=\"colab-df-container\">\n",
              "      <div>\n",
              "<style scoped>\n",
              "    .dataframe tbody tr th:only-of-type {\n",
              "        vertical-align: middle;\n",
              "    }\n",
              "\n",
              "    .dataframe tbody tr th {\n",
              "        vertical-align: top;\n",
              "    }\n",
              "\n",
              "    .dataframe thead th {\n",
              "        text-align: right;\n",
              "    }\n",
              "</style>\n",
              "<table border=\"1\" class=\"dataframe\">\n",
              "  <thead>\n",
              "    <tr style=\"text-align: right;\">\n",
              "      <th></th>\n",
              "      <th>accuracy</th>\n",
              "    </tr>\n",
              "  </thead>\n",
              "  <tbody>\n",
              "    <tr>\n",
              "      <th>blues</th>\n",
              "      <td>0.40</td>\n",
              "    </tr>\n",
              "    <tr>\n",
              "      <th>classical</th>\n",
              "      <td>0.90</td>\n",
              "    </tr>\n",
              "    <tr>\n",
              "      <th>country</th>\n",
              "      <td>0.55</td>\n",
              "    </tr>\n",
              "    <tr>\n",
              "      <th>disco</th>\n",
              "      <td>0.75</td>\n",
              "    </tr>\n",
              "    <tr>\n",
              "      <th>hiphop</th>\n",
              "      <td>0.55</td>\n",
              "    </tr>\n",
              "    <tr>\n",
              "      <th>jazz</th>\n",
              "      <td>0.80</td>\n",
              "    </tr>\n",
              "    <tr>\n",
              "      <th>metal</th>\n",
              "      <td>0.90</td>\n",
              "    </tr>\n",
              "    <tr>\n",
              "      <th>pop</th>\n",
              "      <td>0.50</td>\n",
              "    </tr>\n",
              "    <tr>\n",
              "      <th>reggae</th>\n",
              "      <td>0.50</td>\n",
              "    </tr>\n",
              "    <tr>\n",
              "      <th>rock</th>\n",
              "      <td>0.15</td>\n",
              "    </tr>\n",
              "  </tbody>\n",
              "</table>\n",
              "</div>\n",
              "      <button class=\"colab-df-convert\" onclick=\"convertToInteractive('df-340a98e5-bf16-4e56-b5a1-575fefc0f839')\"\n",
              "              title=\"Convert this dataframe to an interactive table.\"\n",
              "              style=\"display:none;\">\n",
              "        \n",
              "  <svg xmlns=\"http://www.w3.org/2000/svg\" height=\"24px\"viewBox=\"0 0 24 24\"\n",
              "       width=\"24px\">\n",
              "    <path d=\"M0 0h24v24H0V0z\" fill=\"none\"/>\n",
              "    <path d=\"M18.56 5.44l.94 2.06.94-2.06 2.06-.94-2.06-.94-.94-2.06-.94 2.06-2.06.94zm-11 1L8.5 8.5l.94-2.06 2.06-.94-2.06-.94L8.5 2.5l-.94 2.06-2.06.94zm10 10l.94 2.06.94-2.06 2.06-.94-2.06-.94-.94-2.06-.94 2.06-2.06.94z\"/><path d=\"M17.41 7.96l-1.37-1.37c-.4-.4-.92-.59-1.43-.59-.52 0-1.04.2-1.43.59L10.3 9.45l-7.72 7.72c-.78.78-.78 2.05 0 2.83L4 21.41c.39.39.9.59 1.41.59.51 0 1.02-.2 1.41-.59l7.78-7.78 2.81-2.81c.8-.78.8-2.07 0-2.86zM5.41 20L4 18.59l7.72-7.72 1.47 1.35L5.41 20z\"/>\n",
              "  </svg>\n",
              "      </button>\n",
              "      \n",
              "  <style>\n",
              "    .colab-df-container {\n",
              "      display:flex;\n",
              "      flex-wrap:wrap;\n",
              "      gap: 12px;\n",
              "    }\n",
              "\n",
              "    .colab-df-convert {\n",
              "      background-color: #E8F0FE;\n",
              "      border: none;\n",
              "      border-radius: 50%;\n",
              "      cursor: pointer;\n",
              "      display: none;\n",
              "      fill: #1967D2;\n",
              "      height: 32px;\n",
              "      padding: 0 0 0 0;\n",
              "      width: 32px;\n",
              "    }\n",
              "\n",
              "    .colab-df-convert:hover {\n",
              "      background-color: #E2EBFA;\n",
              "      box-shadow: 0px 1px 2px rgba(60, 64, 67, 0.3), 0px 1px 3px 1px rgba(60, 64, 67, 0.15);\n",
              "      fill: #174EA6;\n",
              "    }\n",
              "\n",
              "    [theme=dark] .colab-df-convert {\n",
              "      background-color: #3B4455;\n",
              "      fill: #D2E3FC;\n",
              "    }\n",
              "\n",
              "    [theme=dark] .colab-df-convert:hover {\n",
              "      background-color: #434B5C;\n",
              "      box-shadow: 0px 1px 3px 1px rgba(0, 0, 0, 0.15);\n",
              "      filter: drop-shadow(0px 1px 2px rgba(0, 0, 0, 0.3));\n",
              "      fill: #FFFFFF;\n",
              "    }\n",
              "  </style>\n",
              "\n",
              "      <script>\n",
              "        const buttonEl =\n",
              "          document.querySelector('#df-340a98e5-bf16-4e56-b5a1-575fefc0f839 button.colab-df-convert');\n",
              "        buttonEl.style.display =\n",
              "          google.colab.kernel.accessAllowed ? 'block' : 'none';\n",
              "\n",
              "        async function convertToInteractive(key) {\n",
              "          const element = document.querySelector('#df-340a98e5-bf16-4e56-b5a1-575fefc0f839');\n",
              "          const dataTable =\n",
              "            await google.colab.kernel.invokeFunction('convertToInteractive',\n",
              "                                                     [key], {});\n",
              "          if (!dataTable) return;\n",
              "\n",
              "          const docLinkHtml = 'Like what you see? Visit the ' +\n",
              "            '<a target=\"_blank\" href=https://colab.research.google.com/notebooks/data_table.ipynb>data table notebook</a>'\n",
              "            + ' to learn more about interactive tables.';\n",
              "          element.innerHTML = '';\n",
              "          dataTable['output_type'] = 'display_data';\n",
              "          await google.colab.output.renderOutput(dataTable, element);\n",
              "          const docLink = document.createElement('div');\n",
              "          docLink.innerHTML = docLinkHtml;\n",
              "          element.appendChild(docLink);\n",
              "        }\n",
              "      </script>\n",
              "    </div>\n",
              "  </div>\n",
              "  "
            ]
          },
          "metadata": {},
          "execution_count": 14
        }
      ]
    },
    {
      "cell_type": "code",
      "source": [
        "model.save('CNN.h5')"
      ],
      "metadata": {
        "id": "kjnkHUgknGxg"
      },
      "execution_count": 15,
      "outputs": []
    }
  ]
}