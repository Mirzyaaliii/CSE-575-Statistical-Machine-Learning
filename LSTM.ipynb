{
  "nbformat": 4,
  "nbformat_minor": 0,
  "metadata": {
    "colab": {
      "provenance": [],
      "authorship_tag": "ABX9TyMahvgJv1Lbtva8l77eM+FF",
      "include_colab_link": true
    },
    "kernelspec": {
      "name": "python3",
      "display_name": "Python 3"
    },
    "language_info": {
      "name": "python"
    },
    "gpuClass": "standard",
    "accelerator": "GPU"
  },
  "cells": [
    {
      "cell_type": "markdown",
      "metadata": {
        "id": "view-in-github",
        "colab_type": "text"
      },
      "source": [
        "<a href=\"https://colab.research.google.com/github/prat-man/CSE-575-Statistical-Machine-Learning/blob/main/LSTM.ipynb\" target=\"_parent\"><img src=\"https://colab.research.google.com/assets/colab-badge.svg\" alt=\"Open In Colab\"/></a>"
      ]
    },
    {
      "cell_type": "code",
      "source": [
        "import numpy as np\n",
        "import pandas as pd\n",
        "import seaborn as sns\n",
        "import matplotlib.pyplot as plt\n",
        "\n",
        "from sklearn.preprocessing import StandardScaler\n",
        "from sklearn.metrics import confusion_matrix, classification_report\n",
        "\n",
        "from tensorflow.keras.models import Sequential\n",
        "from tensorflow.keras.layers import Input, LSTM, Dense, Dropout"
      ],
      "metadata": {
        "id": "AKELgdf4uToe"
      },
      "execution_count": 1,
      "outputs": []
    },
    {
      "cell_type": "code",
      "source": [
        "import httpimport\n",
        "\n",
        "with httpimport.remote_repo('https://raw.githubusercontent.com/prat-man/CSE-575-Statistical-Machine-Learning/main'):\n",
        "    from data import get_data"
      ],
      "metadata": {
        "id": "cMMtYwnvTe3k"
      },
      "execution_count": 2,
      "outputs": []
    },
    {
      "cell_type": "code",
      "source": [
        "seed = 0"
      ],
      "metadata": {
        "id": "Zwg6rhepmJV7"
      },
      "execution_count": 3,
      "outputs": []
    },
    {
      "cell_type": "code",
      "source": [
        "X_train, X_val, X_test, y_train, y_val, y_test, labels = get_data('LSTM')"
      ],
      "metadata": {
        "id": "W3zJu5Ggw_mS"
      },
      "execution_count": 4,
      "outputs": []
    },
    {
      "cell_type": "code",
      "source": [
        "scaler = StandardScaler()\n",
        "\n",
        "train_shape = X_train.shape\n",
        "train_new_shape = X_train.shape[0] * X_train.shape[1], X_train.shape[2]\n",
        "X_train = scaler.fit_transform(X_train.reshape(train_new_shape)).reshape(train_shape)\n",
        "\n",
        "val_shape = X_val.shape\n",
        "val_new_shape = X_val.shape[0] * X_val.shape[1], X_val.shape[2]\n",
        "X_val = scaler.transform(X_val.reshape(val_new_shape)).reshape(val_shape)\n",
        "\n",
        "test_shape = X_test.shape\n",
        "test_new_shape = X_test.shape[0] * X_test.shape[1], X_test.shape[2]\n",
        "X_test = scaler.transform(X_test.reshape(test_new_shape)).reshape(test_shape)"
      ],
      "metadata": {
        "id": "wzJiwpFTvhXt"
      },
      "execution_count": 5,
      "outputs": []
    },
    {
      "cell_type": "code",
      "source": [
        "model_layers = [\n",
        "    Input((X_train.shape[1], X_train.shape[2])),\n",
        "\n",
        "    LSTM(1024, return_sequences=False),\n",
        "\n",
        "    Dense(1024),\n",
        "\n",
        "    Dense(10, activation='softmax')\n",
        "]\n",
        "\n",
        "model = Sequential(model_layers)"
      ],
      "metadata": {
        "id": "o8gPm2fixcjY"
      },
      "execution_count": 6,
      "outputs": []
    },
    {
      "cell_type": "code",
      "source": [
        "model.compile(loss='categorical_crossentropy', optimizer='adam', metrics=['accuracy'])"
      ],
      "metadata": {
        "id": "jT8TKzR1yc6c"
      },
      "execution_count": 7,
      "outputs": []
    },
    {
      "cell_type": "code",
      "source": [
        "print(model.summary())"
      ],
      "metadata": {
        "id": "NtwoKEqnK0yc",
        "outputId": "f82f6afe-ab8f-404d-e0d6-8fc32b53f165",
        "colab": {
          "base_uri": "https://localhost:8080/"
        }
      },
      "execution_count": 8,
      "outputs": [
        {
          "output_type": "stream",
          "name": "stdout",
          "text": [
            "Model: \"sequential\"\n",
            "_________________________________________________________________\n",
            " Layer (type)                Output Shape              Param #   \n",
            "=================================================================\n",
            " lstm (LSTM)                 (None, 1024)              4431872   \n",
            "                                                                 \n",
            " dense (Dense)               (None, 1024)              1049600   \n",
            "                                                                 \n",
            " dense_1 (Dense)             (None, 10)                10250     \n",
            "                                                                 \n",
            "=================================================================\n",
            "Total params: 5,491,722\n",
            "Trainable params: 5,491,722\n",
            "Non-trainable params: 0\n",
            "_________________________________________________________________\n",
            "None\n"
          ]
        }
      ]
    },
    {
      "cell_type": "code",
      "source": [
        "model.fit(X_train, y_train, validation_data=(X_val, y_val), epochs=100, batch_size=64)"
      ],
      "metadata": {
        "colab": {
          "base_uri": "https://localhost:8080/"
        },
        "id": "IWq9IDl_yim_",
        "outputId": "b4e460a1-9977-41c4-f8e1-46a52dade52a"
      },
      "execution_count": 9,
      "outputs": [
        {
          "output_type": "stream",
          "name": "stdout",
          "text": [
            "Epoch 1/100\n",
            "10/10 [==============================] - 9s 196ms/step - loss: 1.4558 - accuracy: 0.4750 - val_loss: 0.9652 - val_accuracy: 0.6400\n",
            "Epoch 2/100\n",
            "10/10 [==============================] - 0s 21ms/step - loss: 0.8274 - accuracy: 0.7083 - val_loss: 1.0255 - val_accuracy: 0.6650\n",
            "Epoch 3/100\n",
            "10/10 [==============================] - 0s 23ms/step - loss: 0.6396 - accuracy: 0.7583 - val_loss: 1.0158 - val_accuracy: 0.6950\n",
            "Epoch 4/100\n",
            "10/10 [==============================] - 0s 19ms/step - loss: 0.4652 - accuracy: 0.8417 - val_loss: 1.1128 - val_accuracy: 0.6700\n",
            "Epoch 5/100\n",
            "10/10 [==============================] - 0s 21ms/step - loss: 0.3956 - accuracy: 0.8517 - val_loss: 1.0770 - val_accuracy: 0.7300\n",
            "Epoch 6/100\n",
            "10/10 [==============================] - 0s 17ms/step - loss: 0.3250 - accuracy: 0.8900 - val_loss: 1.0488 - val_accuracy: 0.7150\n",
            "Epoch 7/100\n",
            "10/10 [==============================] - 0s 15ms/step - loss: 0.2383 - accuracy: 0.9150 - val_loss: 1.1253 - val_accuracy: 0.7150\n",
            "Epoch 8/100\n",
            "10/10 [==============================] - 0s 14ms/step - loss: 0.1688 - accuracy: 0.9367 - val_loss: 1.0444 - val_accuracy: 0.7200\n",
            "Epoch 9/100\n",
            "10/10 [==============================] - 0s 14ms/step - loss: 0.1580 - accuracy: 0.9483 - val_loss: 1.2625 - val_accuracy: 0.7150\n",
            "Epoch 10/100\n",
            "10/10 [==============================] - 0s 13ms/step - loss: 0.1356 - accuracy: 0.9583 - val_loss: 1.4445 - val_accuracy: 0.7050\n",
            "Epoch 11/100\n",
            "10/10 [==============================] - 0s 15ms/step - loss: 0.1178 - accuracy: 0.9567 - val_loss: 1.4239 - val_accuracy: 0.7350\n",
            "Epoch 12/100\n",
            "10/10 [==============================] - 0s 13ms/step - loss: 0.1014 - accuracy: 0.9750 - val_loss: 1.7180 - val_accuracy: 0.6700\n",
            "Epoch 13/100\n",
            "10/10 [==============================] - 0s 14ms/step - loss: 0.5545 - accuracy: 0.8967 - val_loss: 1.4752 - val_accuracy: 0.6900\n",
            "Epoch 14/100\n",
            "10/10 [==============================] - 0s 14ms/step - loss: 0.2370 - accuracy: 0.9167 - val_loss: 1.4464 - val_accuracy: 0.7100\n",
            "Epoch 15/100\n",
            "10/10 [==============================] - 0s 14ms/step - loss: 0.3957 - accuracy: 0.8883 - val_loss: 1.6722 - val_accuracy: 0.6550\n",
            "Epoch 16/100\n",
            "10/10 [==============================] - 0s 13ms/step - loss: 0.3170 - accuracy: 0.9117 - val_loss: 1.5417 - val_accuracy: 0.7000\n",
            "Epoch 17/100\n",
            "10/10 [==============================] - 0s 15ms/step - loss: 0.2313 - accuracy: 0.9383 - val_loss: 1.7220 - val_accuracy: 0.6800\n",
            "Epoch 18/100\n",
            "10/10 [==============================] - 0s 13ms/step - loss: 0.2032 - accuracy: 0.9367 - val_loss: 1.4463 - val_accuracy: 0.7250\n",
            "Epoch 19/100\n",
            "10/10 [==============================] - 0s 13ms/step - loss: 0.1880 - accuracy: 0.9450 - val_loss: 1.6063 - val_accuracy: 0.7100\n",
            "Epoch 20/100\n",
            "10/10 [==============================] - 0s 13ms/step - loss: 0.1884 - accuracy: 0.9517 - val_loss: 1.7806 - val_accuracy: 0.6800\n",
            "Epoch 21/100\n",
            "10/10 [==============================] - 0s 14ms/step - loss: 0.1483 - accuracy: 0.9617 - val_loss: 1.7123 - val_accuracy: 0.6650\n",
            "Epoch 22/100\n",
            "10/10 [==============================] - 0s 14ms/step - loss: 0.1334 - accuracy: 0.9583 - val_loss: 1.7798 - val_accuracy: 0.7250\n",
            "Epoch 23/100\n",
            "10/10 [==============================] - 0s 13ms/step - loss: 0.0974 - accuracy: 0.9767 - val_loss: 1.4971 - val_accuracy: 0.7050\n",
            "Epoch 24/100\n",
            "10/10 [==============================] - 0s 15ms/step - loss: 0.0833 - accuracy: 0.9800 - val_loss: 1.5995 - val_accuracy: 0.7000\n",
            "Epoch 25/100\n",
            "10/10 [==============================] - 0s 15ms/step - loss: 0.1464 - accuracy: 0.9683 - val_loss: 1.4359 - val_accuracy: 0.7000\n",
            "Epoch 26/100\n",
            "10/10 [==============================] - 0s 14ms/step - loss: 0.0642 - accuracy: 0.9800 - val_loss: 1.6138 - val_accuracy: 0.6800\n",
            "Epoch 27/100\n",
            "10/10 [==============================] - 0s 14ms/step - loss: 0.1055 - accuracy: 0.9783 - val_loss: 1.2092 - val_accuracy: 0.7450\n",
            "Epoch 28/100\n",
            "10/10 [==============================] - 0s 13ms/step - loss: 0.0314 - accuracy: 0.9933 - val_loss: 1.3075 - val_accuracy: 0.7300\n",
            "Epoch 29/100\n",
            "10/10 [==============================] - 0s 14ms/step - loss: 0.0093 - accuracy: 0.9983 - val_loss: 1.4155 - val_accuracy: 0.7400\n",
            "Epoch 30/100\n",
            "10/10 [==============================] - 0s 14ms/step - loss: 0.0035 - accuracy: 1.0000 - val_loss: 1.4926 - val_accuracy: 0.7550\n",
            "Epoch 31/100\n",
            "10/10 [==============================] - 0s 14ms/step - loss: 0.0026 - accuracy: 1.0000 - val_loss: 1.4944 - val_accuracy: 0.7450\n",
            "Epoch 32/100\n",
            "10/10 [==============================] - 0s 14ms/step - loss: 0.0012 - accuracy: 1.0000 - val_loss: 1.4918 - val_accuracy: 0.7500\n",
            "Epoch 33/100\n",
            "10/10 [==============================] - 0s 14ms/step - loss: 9.7000e-04 - accuracy: 1.0000 - val_loss: 1.5012 - val_accuracy: 0.7450\n",
            "Epoch 34/100\n",
            "10/10 [==============================] - 0s 13ms/step - loss: 7.9487e-04 - accuracy: 1.0000 - val_loss: 1.5097 - val_accuracy: 0.7350\n",
            "Epoch 35/100\n",
            "10/10 [==============================] - 0s 13ms/step - loss: 6.8220e-04 - accuracy: 1.0000 - val_loss: 1.5215 - val_accuracy: 0.7400\n",
            "Epoch 36/100\n",
            "10/10 [==============================] - 0s 14ms/step - loss: 6.0204e-04 - accuracy: 1.0000 - val_loss: 1.5320 - val_accuracy: 0.7400\n",
            "Epoch 37/100\n",
            "10/10 [==============================] - 0s 14ms/step - loss: 5.3870e-04 - accuracy: 1.0000 - val_loss: 1.5412 - val_accuracy: 0.7400\n",
            "Epoch 38/100\n",
            "10/10 [==============================] - 0s 14ms/step - loss: 4.8948e-04 - accuracy: 1.0000 - val_loss: 1.5493 - val_accuracy: 0.7400\n",
            "Epoch 39/100\n",
            "10/10 [==============================] - 0s 14ms/step - loss: 4.4956e-04 - accuracy: 1.0000 - val_loss: 1.5567 - val_accuracy: 0.7400\n",
            "Epoch 40/100\n",
            "10/10 [==============================] - 0s 14ms/step - loss: 4.1476e-04 - accuracy: 1.0000 - val_loss: 1.5637 - val_accuracy: 0.7400\n",
            "Epoch 41/100\n",
            "10/10 [==============================] - 0s 14ms/step - loss: 3.8607e-04 - accuracy: 1.0000 - val_loss: 1.5699 - val_accuracy: 0.7500\n",
            "Epoch 42/100\n",
            "10/10 [==============================] - 0s 13ms/step - loss: 3.6008e-04 - accuracy: 1.0000 - val_loss: 1.5770 - val_accuracy: 0.7500\n",
            "Epoch 43/100\n",
            "10/10 [==============================] - 0s 14ms/step - loss: 3.3684e-04 - accuracy: 1.0000 - val_loss: 1.5834 - val_accuracy: 0.7500\n",
            "Epoch 44/100\n",
            "10/10 [==============================] - 0s 13ms/step - loss: 3.1534e-04 - accuracy: 1.0000 - val_loss: 1.5890 - val_accuracy: 0.7500\n",
            "Epoch 45/100\n",
            "10/10 [==============================] - 0s 14ms/step - loss: 2.9752e-04 - accuracy: 1.0000 - val_loss: 1.5953 - val_accuracy: 0.7500\n",
            "Epoch 46/100\n",
            "10/10 [==============================] - 0s 14ms/step - loss: 2.8023e-04 - accuracy: 1.0000 - val_loss: 1.6020 - val_accuracy: 0.7500\n",
            "Epoch 47/100\n",
            "10/10 [==============================] - 0s 13ms/step - loss: 2.6528e-04 - accuracy: 1.0000 - val_loss: 1.6082 - val_accuracy: 0.7500\n",
            "Epoch 48/100\n",
            "10/10 [==============================] - 0s 13ms/step - loss: 2.5156e-04 - accuracy: 1.0000 - val_loss: 1.6134 - val_accuracy: 0.7450\n",
            "Epoch 49/100\n",
            "10/10 [==============================] - 0s 13ms/step - loss: 2.3866e-04 - accuracy: 1.0000 - val_loss: 1.6185 - val_accuracy: 0.7450\n",
            "Epoch 50/100\n",
            "10/10 [==============================] - 0s 14ms/step - loss: 2.2738e-04 - accuracy: 1.0000 - val_loss: 1.6234 - val_accuracy: 0.7450\n",
            "Epoch 51/100\n",
            "10/10 [==============================] - 0s 14ms/step - loss: 2.1648e-04 - accuracy: 1.0000 - val_loss: 1.6283 - val_accuracy: 0.7450\n",
            "Epoch 52/100\n",
            "10/10 [==============================] - 0s 14ms/step - loss: 2.0682e-04 - accuracy: 1.0000 - val_loss: 1.6326 - val_accuracy: 0.7450\n",
            "Epoch 53/100\n",
            "10/10 [==============================] - 0s 13ms/step - loss: 1.9749e-04 - accuracy: 1.0000 - val_loss: 1.6371 - val_accuracy: 0.7450\n",
            "Epoch 54/100\n",
            "10/10 [==============================] - 0s 18ms/step - loss: 1.8914e-04 - accuracy: 1.0000 - val_loss: 1.6420 - val_accuracy: 0.7450\n",
            "Epoch 55/100\n",
            "10/10 [==============================] - 0s 14ms/step - loss: 1.8101e-04 - accuracy: 1.0000 - val_loss: 1.6465 - val_accuracy: 0.7400\n",
            "Epoch 56/100\n",
            "10/10 [==============================] - 0s 18ms/step - loss: 1.7397e-04 - accuracy: 1.0000 - val_loss: 1.6506 - val_accuracy: 0.7400\n",
            "Epoch 57/100\n",
            "10/10 [==============================] - 0s 18ms/step - loss: 1.6677e-04 - accuracy: 1.0000 - val_loss: 1.6557 - val_accuracy: 0.7400\n",
            "Epoch 58/100\n",
            "10/10 [==============================] - 0s 14ms/step - loss: 1.6011e-04 - accuracy: 1.0000 - val_loss: 1.6597 - val_accuracy: 0.7400\n",
            "Epoch 59/100\n",
            "10/10 [==============================] - 0s 13ms/step - loss: 1.5439e-04 - accuracy: 1.0000 - val_loss: 1.6628 - val_accuracy: 0.7400\n",
            "Epoch 60/100\n",
            "10/10 [==============================] - 0s 15ms/step - loss: 1.4814e-04 - accuracy: 1.0000 - val_loss: 1.6668 - val_accuracy: 0.7400\n",
            "Epoch 61/100\n",
            "10/10 [==============================] - 0s 13ms/step - loss: 1.4280e-04 - accuracy: 1.0000 - val_loss: 1.6710 - val_accuracy: 0.7400\n",
            "Epoch 62/100\n",
            "10/10 [==============================] - 0s 13ms/step - loss: 1.3783e-04 - accuracy: 1.0000 - val_loss: 1.6749 - val_accuracy: 0.7400\n",
            "Epoch 63/100\n",
            "10/10 [==============================] - 0s 13ms/step - loss: 1.3281e-04 - accuracy: 1.0000 - val_loss: 1.6796 - val_accuracy: 0.7400\n",
            "Epoch 64/100\n",
            "10/10 [==============================] - 0s 14ms/step - loss: 1.2869e-04 - accuracy: 1.0000 - val_loss: 1.6835 - val_accuracy: 0.7400\n",
            "Epoch 65/100\n",
            "10/10 [==============================] - 0s 18ms/step - loss: 1.2423e-04 - accuracy: 1.0000 - val_loss: 1.6873 - val_accuracy: 0.7400\n",
            "Epoch 66/100\n",
            "10/10 [==============================] - 0s 14ms/step - loss: 1.2029e-04 - accuracy: 1.0000 - val_loss: 1.6913 - val_accuracy: 0.7400\n",
            "Epoch 67/100\n",
            "10/10 [==============================] - 0s 14ms/step - loss: 1.1622e-04 - accuracy: 1.0000 - val_loss: 1.6949 - val_accuracy: 0.7400\n",
            "Epoch 68/100\n",
            "10/10 [==============================] - 0s 14ms/step - loss: 1.1257e-04 - accuracy: 1.0000 - val_loss: 1.6995 - val_accuracy: 0.7400\n",
            "Epoch 69/100\n",
            "10/10 [==============================] - 0s 14ms/step - loss: 1.0908e-04 - accuracy: 1.0000 - val_loss: 1.7031 - val_accuracy: 0.7400\n",
            "Epoch 70/100\n",
            "10/10 [==============================] - 0s 14ms/step - loss: 1.0557e-04 - accuracy: 1.0000 - val_loss: 1.7065 - val_accuracy: 0.7400\n",
            "Epoch 71/100\n",
            "10/10 [==============================] - 0s 14ms/step - loss: 1.0256e-04 - accuracy: 1.0000 - val_loss: 1.7093 - val_accuracy: 0.7400\n",
            "Epoch 72/100\n",
            "10/10 [==============================] - 0s 15ms/step - loss: 9.9426e-05 - accuracy: 1.0000 - val_loss: 1.7124 - val_accuracy: 0.7400\n",
            "Epoch 73/100\n",
            "10/10 [==============================] - 0s 13ms/step - loss: 9.6398e-05 - accuracy: 1.0000 - val_loss: 1.7158 - val_accuracy: 0.7400\n",
            "Epoch 74/100\n",
            "10/10 [==============================] - 0s 14ms/step - loss: 9.3635e-05 - accuracy: 1.0000 - val_loss: 1.7193 - val_accuracy: 0.7400\n",
            "Epoch 75/100\n",
            "10/10 [==============================] - 0s 13ms/step - loss: 9.0989e-05 - accuracy: 1.0000 - val_loss: 1.7233 - val_accuracy: 0.7400\n",
            "Epoch 76/100\n",
            "10/10 [==============================] - 0s 18ms/step - loss: 8.8534e-05 - accuracy: 1.0000 - val_loss: 1.7260 - val_accuracy: 0.7400\n",
            "Epoch 77/100\n",
            "10/10 [==============================] - 0s 20ms/step - loss: 8.5927e-05 - accuracy: 1.0000 - val_loss: 1.7296 - val_accuracy: 0.7400\n",
            "Epoch 78/100\n",
            "10/10 [==============================] - 0s 20ms/step - loss: 8.3606e-05 - accuracy: 1.0000 - val_loss: 1.7331 - val_accuracy: 0.7400\n",
            "Epoch 79/100\n",
            "10/10 [==============================] - 0s 16ms/step - loss: 8.1487e-05 - accuracy: 1.0000 - val_loss: 1.7361 - val_accuracy: 0.7400\n",
            "Epoch 80/100\n",
            "10/10 [==============================] - 0s 17ms/step - loss: 7.9228e-05 - accuracy: 1.0000 - val_loss: 1.7392 - val_accuracy: 0.7400\n",
            "Epoch 81/100\n",
            "10/10 [==============================] - 0s 16ms/step - loss: 7.7199e-05 - accuracy: 1.0000 - val_loss: 1.7423 - val_accuracy: 0.7400\n",
            "Epoch 82/100\n",
            "10/10 [==============================] - 0s 15ms/step - loss: 7.5158e-05 - accuracy: 1.0000 - val_loss: 1.7452 - val_accuracy: 0.7400\n",
            "Epoch 83/100\n",
            "10/10 [==============================] - 0s 22ms/step - loss: 7.3230e-05 - accuracy: 1.0000 - val_loss: 1.7477 - val_accuracy: 0.7400\n",
            "Epoch 84/100\n",
            "10/10 [==============================] - 0s 20ms/step - loss: 7.1484e-05 - accuracy: 1.0000 - val_loss: 1.7505 - val_accuracy: 0.7400\n",
            "Epoch 85/100\n",
            "10/10 [==============================] - 0s 16ms/step - loss: 6.9697e-05 - accuracy: 1.0000 - val_loss: 1.7536 - val_accuracy: 0.7400\n",
            "Epoch 86/100\n",
            "10/10 [==============================] - 0s 16ms/step - loss: 6.7960e-05 - accuracy: 1.0000 - val_loss: 1.7565 - val_accuracy: 0.7400\n",
            "Epoch 87/100\n",
            "10/10 [==============================] - 0s 20ms/step - loss: 6.6353e-05 - accuracy: 1.0000 - val_loss: 1.7596 - val_accuracy: 0.7400\n",
            "Epoch 88/100\n",
            "10/10 [==============================] - 0s 20ms/step - loss: 6.4834e-05 - accuracy: 1.0000 - val_loss: 1.7623 - val_accuracy: 0.7400\n",
            "Epoch 89/100\n",
            "10/10 [==============================] - 0s 20ms/step - loss: 6.3265e-05 - accuracy: 1.0000 - val_loss: 1.7649 - val_accuracy: 0.7400\n",
            "Epoch 90/100\n",
            "10/10 [==============================] - 0s 20ms/step - loss: 6.1827e-05 - accuracy: 1.0000 - val_loss: 1.7672 - val_accuracy: 0.7400\n",
            "Epoch 91/100\n",
            "10/10 [==============================] - 0s 15ms/step - loss: 6.0432e-05 - accuracy: 1.0000 - val_loss: 1.7697 - val_accuracy: 0.7400\n",
            "Epoch 92/100\n",
            "10/10 [==============================] - 0s 16ms/step - loss: 5.9085e-05 - accuracy: 1.0000 - val_loss: 1.7726 - val_accuracy: 0.7400\n",
            "Epoch 93/100\n",
            "10/10 [==============================] - 0s 18ms/step - loss: 5.7819e-05 - accuracy: 1.0000 - val_loss: 1.7755 - val_accuracy: 0.7400\n",
            "Epoch 94/100\n",
            "10/10 [==============================] - 0s 14ms/step - loss: 5.6501e-05 - accuracy: 1.0000 - val_loss: 1.7779 - val_accuracy: 0.7350\n",
            "Epoch 95/100\n",
            "10/10 [==============================] - 0s 14ms/step - loss: 5.5363e-05 - accuracy: 1.0000 - val_loss: 1.7806 - val_accuracy: 0.7350\n",
            "Epoch 96/100\n",
            "10/10 [==============================] - 0s 13ms/step - loss: 5.4148e-05 - accuracy: 1.0000 - val_loss: 1.7832 - val_accuracy: 0.7350\n",
            "Epoch 97/100\n",
            "10/10 [==============================] - 0s 14ms/step - loss: 5.3008e-05 - accuracy: 1.0000 - val_loss: 1.7854 - val_accuracy: 0.7350\n",
            "Epoch 98/100\n",
            "10/10 [==============================] - 0s 18ms/step - loss: 5.1933e-05 - accuracy: 1.0000 - val_loss: 1.7876 - val_accuracy: 0.7350\n",
            "Epoch 99/100\n",
            "10/10 [==============================] - 0s 13ms/step - loss: 5.0829e-05 - accuracy: 1.0000 - val_loss: 1.7899 - val_accuracy: 0.7350\n",
            "Epoch 100/100\n",
            "10/10 [==============================] - 0s 14ms/step - loss: 4.9772e-05 - accuracy: 1.0000 - val_loss: 1.7926 - val_accuracy: 0.7350\n"
          ]
        },
        {
          "output_type": "execute_result",
          "data": {
            "text/plain": [
              "<keras.callbacks.History at 0x7f0890d5d360>"
            ]
          },
          "metadata": {},
          "execution_count": 9
        }
      ]
    },
    {
      "cell_type": "code",
      "source": [
        "_, accuracy = model.evaluate(X_train, y_train)\n",
        "print(f'Training Accuracy: {accuracy}')"
      ],
      "metadata": {
        "colab": {
          "base_uri": "https://localhost:8080/"
        },
        "id": "HQeSwpmu5Ru3",
        "outputId": "c26c9200-60e4-4b8a-eac6-3f5a90381299"
      },
      "execution_count": 10,
      "outputs": [
        {
          "output_type": "stream",
          "name": "stdout",
          "text": [
            "19/19 [==============================] - 0s 5ms/step - loss: 4.9109e-05 - accuracy: 1.0000\n",
            "Training Accuracy: 1.0\n"
          ]
        }
      ]
    },
    {
      "cell_type": "code",
      "source": [
        "y_pred = model.predict(X_test)\n",
        "\n",
        "y_true = np.argmax(y_test, axis=1)\n",
        "y_pred = np.argmax(y_pred, axis=1)"
      ],
      "metadata": {
        "id": "NyytDc-w06TN",
        "outputId": "8db9c70b-4c02-4d71-9272-ab7e6abc8637",
        "colab": {
          "base_uri": "https://localhost:8080/"
        }
      },
      "execution_count": 11,
      "outputs": [
        {
          "output_type": "stream",
          "name": "stdout",
          "text": [
            "7/7 [==============================] - 0s 3ms/step\n"
          ]
        }
      ]
    },
    {
      "cell_type": "code",
      "source": [
        "print(classification_report(y_true, y_pred))"
      ],
      "metadata": {
        "id": "dgaCKa8404D-",
        "outputId": "a54c1dd6-4210-4e62-af70-4b685946907c",
        "colab": {
          "base_uri": "https://localhost:8080/"
        }
      },
      "execution_count": 12,
      "outputs": [
        {
          "output_type": "stream",
          "name": "stdout",
          "text": [
            "              precision    recall  f1-score   support\n",
            "\n",
            "           0       0.76      0.65      0.70        20\n",
            "           1       0.95      0.95      0.95        20\n",
            "           2       0.89      0.80      0.84        20\n",
            "           3       0.61      0.70      0.65        20\n",
            "           4       0.80      0.60      0.69        20\n",
            "           5       0.87      1.00      0.93        20\n",
            "           6       0.95      0.90      0.92        20\n",
            "           7       0.89      0.85      0.87        20\n",
            "           8       0.70      0.80      0.74        20\n",
            "           9       0.65      0.75      0.70        20\n",
            "\n",
            "    accuracy                           0.80       200\n",
            "   macro avg       0.81      0.80      0.80       200\n",
            "weighted avg       0.81      0.80      0.80       200\n",
            "\n"
          ]
        }
      ]
    },
    {
      "cell_type": "code",
      "source": [
        "conf_m = confusion_matrix(y_true, y_pred)\n",
        "\n",
        "sns.heatmap(conf_m, cmap='crest', annot=True)\n",
        "\n",
        "plt.xticks(ticks = np.arange(0.5, 10, 1), labels=labels, rotation=90)\n",
        "plt.yticks(ticks = np.arange(0.5, 10, 1), labels=labels,rotation=0)\n",
        "\n",
        "plt.savefig('ANN_Confusion_Matrix.png', dpi=300)"
      ],
      "metadata": {
        "id": "LhdvRetGA7gz",
        "outputId": "4856d59a-bf15-4d01-d2e1-af1a06e22090",
        "colab": {
          "base_uri": "https://localhost:8080/",
          "height": 480
        }
      },
      "execution_count": 13,
      "outputs": [
        {
          "output_type": "display_data",
          "data": {
            "text/plain": [
              "<Figure size 640x480 with 2 Axes>"
            ],
            "image/png": "[encoded data removed]"
          },
          "metadata": {}
        }
      ]
    },
    {
      "cell_type": "code",
      "source": [
        "accuracy = np.trace(conf_m) / np.sum(conf_m)\n",
        "print(f'Overall test accuracy = {accuracy}')"
      ],
      "metadata": {
        "id": "ILVPldU2GWQI",
        "outputId": "ab5d04c8-420b-464d-fa11-c278daf36a2b",
        "colab": {
          "base_uri": "https://localhost:8080/"
        }
      },
      "execution_count": 14,
      "outputs": [
        {
          "output_type": "stream",
          "name": "stdout",
          "text": [
            "Overall test accuracy = 0.8\n"
          ]
        }
      ]
    },
    {
      "cell_type": "code",
      "source": [
        "accuracy_df = pd.DataFrame(columns=['accuracy'])\n",
        "\n",
        "class_acc = conf_m.diagonal() / conf_m.sum(axis=1)\n",
        "for i in range(len(labels)):\n",
        "    accuracy_df.loc[labels[i]] = [round(class_acc[i], 2)]\n",
        "\n",
        "accuracy_df"
      ],
      "metadata": {
        "id": "XxYQ_qF0CVvX",
        "outputId": "388bb6f9-960f-4efb-fb2b-0db17615a4d0",
        "colab": {
          "base_uri": "https://localhost:8080/",
          "height": 363
        }
      },
      "execution_count": 15,
      "outputs": [
        {
          "output_type": "execute_result",
          "data": {
            "text/plain": [
              "           accuracy\n",
              "blues          0.65\n",
              "classical      0.95\n",
              "country        0.80\n",
              "disco          0.70\n",
              "hiphop         0.60\n",
              "jazz           1.00\n",
              "metal          0.90\n",
              "pop            0.85\n",
              "reggae         0.80\n",
              "rock           0.75"
            ],
            "text/html": [
              "\n",
              "  <div id=\"df-297f3880-0199-4e4f-80b9-fd7b8b38d398\">\n",
              "    <div class=\"colab-df-container\">\n",
              "      <div>\n",
              "<style scoped>\n",
              "    .dataframe tbody tr th:only-of-type {\n",
              "        vertical-align: middle;\n",
              "    }\n",
              "\n",
              "    .dataframe tbody tr th {\n",
              "        vertical-align: top;\n",
              "    }\n",
              "\n",
              "    .dataframe thead th {\n",
              "        text-align: right;\n",
              "    }\n",
              "</style>\n",
              "<table border=\"1\" class=\"dataframe\">\n",
              "  <thead>\n",
              "    <tr style=\"text-align: right;\">\n",
              "      <th></th>\n",
              "      <th>accuracy</th>\n",
              "    </tr>\n",
              "  </thead>\n",
              "  <tbody>\n",
              "    <tr>\n",
              "      <th>blues</th>\n",
              "      <td>0.65</td>\n",
              "    </tr>\n",
              "    <tr>\n",
              "      <th>classical</th>\n",
              "      <td>0.95</td>\n",
              "    </tr>\n",
              "    <tr>\n",
              "      <th>country</th>\n",
              "      <td>0.80</td>\n",
              "    </tr>\n",
              "    <tr>\n",
              "      <th>disco</th>\n",
              "      <td>0.70</td>\n",
              "    </tr>\n",
              "    <tr>\n",
              "      <th>hiphop</th>\n",
              "      <td>0.60</td>\n",
              "    </tr>\n",
              "    <tr>\n",
              "      <th>jazz</th>\n",
              "      <td>1.00</td>\n",
              "    </tr>\n",
              "    <tr>\n",
              "      <th>metal</th>\n",
              "      <td>0.90</td>\n",
              "    </tr>\n",
              "    <tr>\n",
              "      <th>pop</th>\n",
              "      <td>0.85</td>\n",
              "    </tr>\n",
              "    <tr>\n",
              "      <th>reggae</th>\n",
              "      <td>0.80</td>\n",
              "    </tr>\n",
              "    <tr>\n",
              "      <th>rock</th>\n",
              "      <td>0.75</td>\n",
              "    </tr>\n",
              "  </tbody>\n",
              "</table>\n",
              "</div>\n",
              "      <button class=\"colab-df-convert\" onclick=\"convertToInteractive('df-297f3880-0199-4e4f-80b9-fd7b8b38d398')\"\n",
              "              title=\"Convert this dataframe to an interactive table.\"\n",
              "              style=\"display:none;\">\n",
              "        \n",
              "  <svg xmlns=\"http://www.w3.org/2000/svg\" height=\"24px\"viewBox=\"0 0 24 24\"\n",
              "       width=\"24px\">\n",
              "    <path d=\"M0 0h24v24H0V0z\" fill=\"none\"/>\n",
              "    <path d=\"M18.56 5.44l.94 2.06.94-2.06 2.06-.94-2.06-.94-.94-2.06-.94 2.06-2.06.94zm-11 1L8.5 8.5l.94-2.06 2.06-.94-2.06-.94L8.5 2.5l-.94 2.06-2.06.94zm10 10l.94 2.06.94-2.06 2.06-.94-2.06-.94-.94-2.06-.94 2.06-2.06.94z\"/><path d=\"M17.41 7.96l-1.37-1.37c-.4-.4-.92-.59-1.43-.59-.52 0-1.04.2-1.43.59L10.3 9.45l-7.72 7.72c-.78.78-.78 2.05 0 2.83L4 21.41c.39.39.9.59 1.41.59.51 0 1.02-.2 1.41-.59l7.78-7.78 2.81-2.81c.8-.78.8-2.07 0-2.86zM5.41 20L4 18.59l7.72-7.72 1.47 1.35L5.41 20z\"/>\n",
              "  </svg>\n",
              "      </button>\n",
              "      \n",
              "  <style>\n",
              "    .colab-df-container {\n",
              "      display:flex;\n",
              "      flex-wrap:wrap;\n",
              "      gap: 12px;\n",
              "    }\n",
              "\n",
              "    .colab-df-convert {\n",
              "      background-color: #E8F0FE;\n",
              "      border: none;\n",
              "      border-radius: 50%;\n",
              "      cursor: pointer;\n",
              "      display: none;\n",
              "      fill: #1967D2;\n",
              "      height: 32px;\n",
              "      padding: 0 0 0 0;\n",
              "      width: 32px;\n",
              "    }\n",
              "\n",
              "    .colab-df-convert:hover {\n",
              "      background-color: #E2EBFA;\n",
              "      box-shadow: 0px 1px 2px rgba(60, 64, 67, 0.3), 0px 1px 3px 1px rgba(60, 64, 67, 0.15);\n",
              "      fill: #174EA6;\n",
              "    }\n",
              "\n",
              "    [theme=dark] .colab-df-convert {\n",
              "      background-color: #3B4455;\n",
              "      fill: #D2E3FC;\n",
              "    }\n",
              "\n",
              "    [theme=dark] .colab-df-convert:hover {\n",
              "      background-color: #434B5C;\n",
              "      box-shadow: 0px 1px 3px 1px rgba(0, 0, 0, 0.15);\n",
              "      filter: drop-shadow(0px 1px 2px rgba(0, 0, 0, 0.3));\n",
              "      fill: #FFFFFF;\n",
              "    }\n",
              "  </style>\n",
              "\n",
              "      <script>\n",
              "        const buttonEl =\n",
              "          document.querySelector('#df-297f3880-0199-4e4f-80b9-fd7b8b38d398 button.colab-df-convert');\n",
              "        buttonEl.style.display =\n",
              "          google.colab.kernel.accessAllowed ? 'block' : 'none';\n",
              "\n",
              "        async function convertToInteractive(key) {\n",
              "          const element = document.querySelector('#df-297f3880-0199-4e4f-80b9-fd7b8b38d398');\n",
              "          const dataTable =\n",
              "            await google.colab.kernel.invokeFunction('convertToInteractive',\n",
              "                                                     [key], {});\n",
              "          if (!dataTable) return;\n",
              "\n",
              "          const docLinkHtml = 'Like what you see? Visit the ' +\n",
              "            '<a target=\"_blank\" href=https://colab.research.google.com/notebooks/data_table.ipynb>data table notebook</a>'\n",
              "            + ' to learn more about interactive tables.';\n",
              "          element.innerHTML = '';\n",
              "          dataTable['output_type'] = 'display_data';\n",
              "          await google.colab.output.renderOutput(dataTable, element);\n",
              "          const docLink = document.createElement('div');\n",
              "          docLink.innerHTML = docLinkHtml;\n",
              "          element.appendChild(docLink);\n",
              "        }\n",
              "      </script>\n",
              "    </div>\n",
              "  </div>\n",
              "  "
            ]
          },
          "metadata": {},
          "execution_count": 15
        }
      ]
    },
    {
      "cell_type": "code",
      "source": [
        "model.save('ANN.h5')"
      ],
      "metadata": {
        "id": "jSLoUfL6k_oK"
      },
      "execution_count": 16,
      "outputs": []
    }
  ]
}