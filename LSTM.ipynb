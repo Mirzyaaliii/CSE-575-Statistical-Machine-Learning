{
  "nbformat": 4,
  "nbformat_minor": 0,
  "metadata": {
    "colab": {
      "provenance": [],
      "authorship_tag": "ABX9TyPYPxPy+wEw3PhrFMJkBgiq",
      "include_colab_link": true
    },
    "kernelspec": {
      "name": "python3",
      "display_name": "Python 3"
    },
    "language_info": {
      "name": "python"
    },
    "gpuClass": "standard",
    "accelerator": "GPU"
  },
  "cells": [
    {
      "cell_type": "markdown",
      "metadata": {
        "id": "view-in-github",
        "colab_type": "text"
      },
      "source": [
        "<a href=\"https://colab.research.google.com/github/prat-man/CSE-575-Statistical-Machine-Learning/blob/main/LSTM.ipynb\" target=\"_parent\"><img src=\"https://colab.research.google.com/assets/colab-badge.svg\" alt=\"Open In Colab\"/></a>"
      ]
    },
    {
      "cell_type": "code",
      "source": [
        "import numpy as np\n",
        "import pandas as pd\n",
        "import seaborn as sns\n",
        "import matplotlib.pyplot as plt\n",
        "\n",
        "from sklearn.preprocessing import StandardScaler\n",
        "from sklearn.metrics import confusion_matrix, classification_report\n",
        "\n",
        "from tensorflow.keras.models import Sequential\n",
        "from tensorflow.keras.layers import Input, LSTM, Dense, Dropout"
      ],
      "metadata": {
        "id": "AKELgdf4uToe"
      },
      "execution_count": 1,
      "outputs": []
    },
    {
      "cell_type": "code",
      "source": [
        "import httpimport\n",
        "\n",
        "with httpimport.remote_repo('https://raw.githubusercontent.com/prat-man/CSE-575-Statistical-Machine-Learning/main'):\n",
        "    from data import get_data"
      ],
      "metadata": {
        "id": "cMMtYwnvTe3k"
      },
      "execution_count": 2,
      "outputs": []
    },
    {
      "cell_type": "code",
      "source": [
        "seed = 0"
      ],
      "metadata": {
        "id": "Zwg6rhepmJV7"
      },
      "execution_count": 3,
      "outputs": []
    },
    {
      "cell_type": "code",
      "source": [
        "X_train, X_val, X_test, y_train, y_val, y_test, labels = get_data('LSTM')"
      ],
      "metadata": {
        "id": "W3zJu5Ggw_mS"
      },
      "execution_count": 4,
      "outputs": []
    },
    {
      "cell_type": "code",
      "source": [
        "scaler = StandardScaler()\n",
        "\n",
        "train_old_shape = X_train.shape\n",
        "train_new_shape = X_train.shape[0] * X_train.shape[1], X_train.shape[2]\n",
        "\n",
        "val_old_shape = X_val.shape\n",
        "val_new_shape = X_val.shape[0] * X_val.shape[1], X_val.shape[2]\n",
        "\n",
        "test_old_shape = X_test.shape\n",
        "test_new_shape = X_test.shape[0] * X_test.shape[1], X_test.shape[2]\n",
        "\n",
        "X_train = scaler.fit_transform(X_train.reshape(train_new_shape)).reshape(train_old_shape)\n",
        "X_val = scaler.transform(X_val.reshape(val_new_shape)).reshape(val_old_shape)\n",
        "X_test = scaler.transform(X_test.reshape(test_new_shape)).reshape(test_old_shape)"
      ],
      "metadata": {
        "id": "wzJiwpFTvhXt"
      },
      "execution_count": 5,
      "outputs": []
    },
    {
      "cell_type": "code",
      "source": [
        "model_layers = [\n",
        "    Input((X_train.shape[1], X_train.shape[2])),\n",
        "\n",
        "    LSTM(1024, return_sequences=True),\n",
        "\n",
        "    LSTM(2048, return_sequences=True),\n",
        "\n",
        "    LSTM(1024, return_sequences=False),\n",
        "\n",
        "    Dense(1024),\n",
        "\n",
        "    Dense(1024),\n",
        "\n",
        "    Dense(10, activation='softmax')\n",
        "]\n",
        "\n",
        "model = Sequential(model_layers)"
      ],
      "metadata": {
        "id": "o8gPm2fixcjY"
      },
      "execution_count": 6,
      "outputs": []
    },
    {
      "cell_type": "code",
      "source": [
        "model.compile(loss='categorical_crossentropy', optimizer='adam', metrics=['accuracy'])"
      ],
      "metadata": {
        "id": "jT8TKzR1yc6c"
      },
      "execution_count": 7,
      "outputs": []
    },
    {
      "cell_type": "code",
      "source": [
        "print(model.summary())"
      ],
      "metadata": {
        "id": "NtwoKEqnK0yc",
        "outputId": "ba973515-614b-46ab-9de9-20c40aa13a19",
        "colab": {
          "base_uri": "https://localhost:8080/"
        }
      },
      "execution_count": 8,
      "outputs": [
        {
          "output_type": "stream",
          "name": "stdout",
          "text": [
            "Model: \"sequential\"\n",
            "_________________________________________________________________\n",
            " Layer (type)                Output Shape              Param #   \n",
            "=================================================================\n",
            " lstm (LSTM)                 (None, 10, 1024)          4431872   \n",
            "                                                                 \n",
            " lstm_1 (LSTM)               (None, 10, 2048)          25174016  \n",
            "                                                                 \n",
            " lstm_2 (LSTM)               (None, 1024)              12587008  \n",
            "                                                                 \n",
            " dense (Dense)               (None, 1024)              1049600   \n",
            "                                                                 \n",
            " dense_1 (Dense)             (None, 1024)              1049600   \n",
            "                                                                 \n",
            " dense_2 (Dense)             (None, 10)                10250     \n",
            "                                                                 \n",
            "=================================================================\n",
            "Total params: 44,302,346\n",
            "Trainable params: 44,302,346\n",
            "Non-trainable params: 0\n",
            "_________________________________________________________________\n",
            "None\n"
          ]
        }
      ]
    },
    {
      "cell_type": "code",
      "source": [
        "model.fit(X_train, y_train, validation_data=(X_val, y_val), epochs=20, batch_size=64)"
      ],
      "metadata": {
        "colab": {
          "base_uri": "https://localhost:8080/"
        },
        "id": "IWq9IDl_yim_",
        "outputId": "70182ded-605b-4cb8-86d4-c260dce47620"
      },
      "execution_count": 9,
      "outputs": [
        {
          "output_type": "stream",
          "name": "stdout",
          "text": [
            "Epoch 1/20\n",
            "10/10 [==============================] - 10s 193ms/step - loss: 2.1189 - accuracy: 0.3283 - val_loss: 1.4200 - val_accuracy: 0.4450\n",
            "Epoch 2/20\n",
            "10/10 [==============================] - 1s 69ms/step - loss: 1.3281 - accuracy: 0.5100 - val_loss: 1.8314 - val_accuracy: 0.4700\n",
            "Epoch 3/20\n",
            "10/10 [==============================] - 1s 69ms/step - loss: 1.3416 - accuracy: 0.5633 - val_loss: 1.4285 - val_accuracy: 0.4850\n",
            "Epoch 4/20\n",
            "10/10 [==============================] - 1s 70ms/step - loss: 1.0182 - accuracy: 0.6700 - val_loss: 1.3535 - val_accuracy: 0.6550\n",
            "Epoch 5/20\n",
            "10/10 [==============================] - 1s 76ms/step - loss: 0.8126 - accuracy: 0.7367 - val_loss: 1.2218 - val_accuracy: 0.6600\n",
            "Epoch 6/20\n",
            "10/10 [==============================] - 1s 76ms/step - loss: 0.7402 - accuracy: 0.7600 - val_loss: 1.4119 - val_accuracy: 0.6000\n",
            "Epoch 7/20\n",
            "10/10 [==============================] - 1s 68ms/step - loss: 0.6806 - accuracy: 0.7683 - val_loss: 1.3256 - val_accuracy: 0.6300\n",
            "Epoch 8/20\n",
            "10/10 [==============================] - 1s 70ms/step - loss: 0.8115 - accuracy: 0.7500 - val_loss: 1.1626 - val_accuracy: 0.6700\n",
            "Epoch 9/20\n",
            "10/10 [==============================] - 1s 69ms/step - loss: 0.7112 - accuracy: 0.7800 - val_loss: 1.0138 - val_accuracy: 0.7000\n",
            "Epoch 10/20\n",
            "10/10 [==============================] - 1s 77ms/step - loss: 0.6526 - accuracy: 0.8117 - val_loss: 1.0245 - val_accuracy: 0.7250\n",
            "Epoch 11/20\n",
            "10/10 [==============================] - 1s 79ms/step - loss: 0.4807 - accuracy: 0.8433 - val_loss: 1.6583 - val_accuracy: 0.6450\n",
            "Epoch 12/20\n",
            "10/10 [==============================] - 1s 73ms/step - loss: 0.5131 - accuracy: 0.8700 - val_loss: 1.4774 - val_accuracy: 0.6750\n",
            "Epoch 13/20\n",
            "10/10 [==============================] - 1s 72ms/step - loss: 0.5992 - accuracy: 0.8267 - val_loss: 1.2414 - val_accuracy: 0.7000\n",
            "Epoch 14/20\n",
            "10/10 [==============================] - 1s 78ms/step - loss: 0.3096 - accuracy: 0.9100 - val_loss: 1.3095 - val_accuracy: 0.7250\n",
            "Epoch 15/20\n",
            "10/10 [==============================] - 1s 78ms/step - loss: 0.4850 - accuracy: 0.8733 - val_loss: 1.3254 - val_accuracy: 0.6650\n",
            "Epoch 16/20\n",
            "10/10 [==============================] - 1s 70ms/step - loss: 0.4435 - accuracy: 0.8600 - val_loss: 1.4796 - val_accuracy: 0.6500\n",
            "Epoch 17/20\n",
            "10/10 [==============================] - 1s 77ms/step - loss: 0.4458 - accuracy: 0.8750 - val_loss: 1.1865 - val_accuracy: 0.6800\n",
            "Epoch 18/20\n",
            "10/10 [==============================] - 1s 70ms/step - loss: 0.2364 - accuracy: 0.9183 - val_loss: 1.4722 - val_accuracy: 0.7100\n",
            "Epoch 19/20\n",
            "10/10 [==============================] - 1s 70ms/step - loss: 0.3371 - accuracy: 0.9100 - val_loss: 1.3622 - val_accuracy: 0.6650\n",
            "Epoch 20/20\n",
            "10/10 [==============================] - 1s 77ms/step - loss: 0.3087 - accuracy: 0.9217 - val_loss: 1.4175 - val_accuracy: 0.6600\n"
          ]
        },
        {
          "output_type": "execute_result",
          "data": {
            "text/plain": [
              "<keras.callbacks.History at 0x7fd920177610>"
            ]
          },
          "metadata": {},
          "execution_count": 9
        }
      ]
    },
    {
      "cell_type": "code",
      "source": [
        "_, accuracy = model.evaluate(X_train, y_train)\n",
        "print(f'Training Accuracy: {accuracy}')"
      ],
      "metadata": {
        "colab": {
          "base_uri": "https://localhost:8080/"
        },
        "id": "HQeSwpmu5Ru3",
        "outputId": "e80ee79e-9e66-43e1-e967-af0823299e4a"
      },
      "execution_count": 10,
      "outputs": [
        {
          "output_type": "stream",
          "name": "stdout",
          "text": [
            "19/19 [==============================] - 0s 18ms/step - loss: 0.2608 - accuracy: 0.9267\n",
            "Training Accuracy: 0.9266666769981384\n"
          ]
        }
      ]
    },
    {
      "cell_type": "code",
      "source": [
        "y_pred = model.predict(X_test)\n",
        "\n",
        "y_true = np.argmax(y_test, axis=1)\n",
        "y_pred = np.argmax(y_pred, axis=1)"
      ],
      "metadata": {
        "id": "NyytDc-w06TN",
        "outputId": "0f643024-ab84-411d-efef-871f3cccc299",
        "colab": {
          "base_uri": "https://localhost:8080/"
        }
      },
      "execution_count": 11,
      "outputs": [
        {
          "output_type": "stream",
          "name": "stdout",
          "text": [
            "7/7 [==============================] - 1s 14ms/step\n"
          ]
        }
      ]
    },
    {
      "cell_type": "code",
      "source": [
        "print(classification_report(y_true, y_pred))"
      ],
      "metadata": {
        "id": "dgaCKa8404D-",
        "outputId": "76f8af0e-c39c-42e9-944d-5ae677a20c1a",
        "colab": {
          "base_uri": "https://localhost:8080/"
        }
      },
      "execution_count": 12,
      "outputs": [
        {
          "output_type": "stream",
          "name": "stdout",
          "text": [
            "              precision    recall  f1-score   support\n",
            "\n",
            "           0       0.59      0.65      0.62        20\n",
            "           1       1.00      0.75      0.86        20\n",
            "           2       0.59      0.65      0.62        20\n",
            "           3       0.67      0.60      0.63        20\n",
            "           4       0.59      0.80      0.68        20\n",
            "           5       0.90      0.95      0.93        20\n",
            "           6       0.94      0.80      0.86        20\n",
            "           7       0.79      0.75      0.77        20\n",
            "           8       0.69      0.55      0.61        20\n",
            "           9       0.61      0.70      0.65        20\n",
            "\n",
            "    accuracy                           0.72       200\n",
            "   macro avg       0.74      0.72      0.72       200\n",
            "weighted avg       0.74      0.72      0.72       200\n",
            "\n"
          ]
        }
      ]
    },
    {
      "cell_type": "code",
      "source": [
        "conf_m = confusion_matrix(y_true, y_pred)\n",
        "\n",
        "sns.heatmap(conf_m, cmap='crest', annot=True)\n",
        "\n",
        "plt.xticks(ticks = np.arange(0.5, 10, 1), labels=labels, rotation=90)\n",
        "plt.yticks(ticks = np.arange(0.5, 10, 1), labels=labels,rotation=0)\n",
        "\n",
        "plt.savefig('ANN_Confusion_Matrix.png', dpi=300)"
      ],
      "metadata": {
        "id": "LhdvRetGA7gz",
        "outputId": "302fc95e-776d-4d12-f365-e6410c0854f2",
        "colab": {
          "base_uri": "https://localhost:8080/",
          "height": 474
        }
      },
      "execution_count": 13,
      "outputs": [
        {
          "output_type": "display_data",
          "data": {
            "text/plain": [
              "<Figure size 640x480 with 2 Axes>"
            ],
            "image/png": "[encoded data removed]"
          },
          "metadata": {}
        }
      ]
    },
    {
      "cell_type": "code",
      "source": [
        "accuracy = np.trace(conf_m) / np.sum(conf_m)\n",
        "print(f'Overall test accuracy = {accuracy}')"
      ],
      "metadata": {
        "id": "ILVPldU2GWQI",
        "outputId": "68c1bf29-7b0a-44f4-86d7-b0c6ad8dfe3a",
        "colab": {
          "base_uri": "https://localhost:8080/"
        }
      },
      "execution_count": 14,
      "outputs": [
        {
          "output_type": "stream",
          "name": "stdout",
          "text": [
            "Overall test accuracy = 0.72\n"
          ]
        }
      ]
    },
    {
      "cell_type": "code",
      "source": [
        "accuracy_df = pd.DataFrame(columns=['accuracy'])\n",
        "\n",
        "class_acc = conf_m.diagonal() / conf_m.sum(axis=1)\n",
        "for i in range(len(labels)):\n",
        "    accuracy_df.loc[labels[i]] = [round(class_acc[i], 2)]\n",
        "\n",
        "accuracy_df"
      ],
      "metadata": {
        "id": "XxYQ_qF0CVvX",
        "outputId": "566b7b8e-fc0b-490d-e632-fb833c537f89",
        "colab": {
          "base_uri": "https://localhost:8080/",
          "height": 363
        }
      },
      "execution_count": 15,
      "outputs": [
        {
          "output_type": "execute_result",
          "data": {
            "text/plain": [
              "           accuracy\n",
              "blues          0.65\n",
              "classical      0.75\n",
              "country        0.65\n",
              "disco          0.60\n",
              "hiphop         0.80\n",
              "jazz           0.95\n",
              "metal          0.80\n",
              "pop            0.75\n",
              "reggae         0.55\n",
              "rock           0.70"
            ],
            "text/html": [
              "\n",
              "  <div id=\"df-dc58ff1a-d825-405e-9450-7c3d5439858c\">\n",
              "    <div class=\"colab-df-container\">\n",
              "      <div>\n",
              "<style scoped>\n",
              "    .dataframe tbody tr th:only-of-type {\n",
              "        vertical-align: middle;\n",
              "    }\n",
              "\n",
              "    .dataframe tbody tr th {\n",
              "        vertical-align: top;\n",
              "    }\n",
              "\n",
              "    .dataframe thead th {\n",
              "        text-align: right;\n",
              "    }\n",
              "</style>\n",
              "<table border=\"1\" class=\"dataframe\">\n",
              "  <thead>\n",
              "    <tr style=\"text-align: right;\">\n",
              "      <th></th>\n",
              "      <th>accuracy</th>\n",
              "    </tr>\n",
              "  </thead>\n",
              "  <tbody>\n",
              "    <tr>\n",
              "      <th>blues</th>\n",
              "      <td>0.65</td>\n",
              "    </tr>\n",
              "    <tr>\n",
              "      <th>classical</th>\n",
              "      <td>0.75</td>\n",
              "    </tr>\n",
              "    <tr>\n",
              "      <th>country</th>\n",
              "      <td>0.65</td>\n",
              "    </tr>\n",
              "    <tr>\n",
              "      <th>disco</th>\n",
              "      <td>0.60</td>\n",
              "    </tr>\n",
              "    <tr>\n",
              "      <th>hiphop</th>\n",
              "      <td>0.80</td>\n",
              "    </tr>\n",
              "    <tr>\n",
              "      <th>jazz</th>\n",
              "      <td>0.95</td>\n",
              "    </tr>\n",
              "    <tr>\n",
              "      <th>metal</th>\n",
              "      <td>0.80</td>\n",
              "    </tr>\n",
              "    <tr>\n",
              "      <th>pop</th>\n",
              "      <td>0.75</td>\n",
              "    </tr>\n",
              "    <tr>\n",
              "      <th>reggae</th>\n",
              "      <td>0.55</td>\n",
              "    </tr>\n",
              "    <tr>\n",
              "      <th>rock</th>\n",
              "      <td>0.70</td>\n",
              "    </tr>\n",
              "  </tbody>\n",
              "</table>\n",
              "</div>\n",
              "      <button class=\"colab-df-convert\" onclick=\"convertToInteractive('df-dc58ff1a-d825-405e-9450-7c3d5439858c')\"\n",
              "              title=\"Convert this dataframe to an interactive table.\"\n",
              "              style=\"display:none;\">\n",
              "        \n",
              "  <svg xmlns=\"http://www.w3.org/2000/svg\" height=\"24px\"viewBox=\"0 0 24 24\"\n",
              "       width=\"24px\">\n",
              "    <path d=\"M0 0h24v24H0V0z\" fill=\"none\"/>\n",
              "    <path d=\"M18.56 5.44l.94 2.06.94-2.06 2.06-.94-2.06-.94-.94-2.06-.94 2.06-2.06.94zm-11 1L8.5 8.5l.94-2.06 2.06-.94-2.06-.94L8.5 2.5l-.94 2.06-2.06.94zm10 10l.94 2.06.94-2.06 2.06-.94-2.06-.94-.94-2.06-.94 2.06-2.06.94z\"/><path d=\"M17.41 7.96l-1.37-1.37c-.4-.4-.92-.59-1.43-.59-.52 0-1.04.2-1.43.59L10.3 9.45l-7.72 7.72c-.78.78-.78 2.05 0 2.83L4 21.41c.39.39.9.59 1.41.59.51 0 1.02-.2 1.41-.59l7.78-7.78 2.81-2.81c.8-.78.8-2.07 0-2.86zM5.41 20L4 18.59l7.72-7.72 1.47 1.35L5.41 20z\"/>\n",
              "  </svg>\n",
              "      </button>\n",
              "      \n",
              "  <style>\n",
              "    .colab-df-container {\n",
              "      display:flex;\n",
              "      flex-wrap:wrap;\n",
              "      gap: 12px;\n",
              "    }\n",
              "\n",
              "    .colab-df-convert {\n",
              "      background-color: #E8F0FE;\n",
              "      border: none;\n",
              "      border-radius: 50%;\n",
              "      cursor: pointer;\n",
              "      display: none;\n",
              "      fill: #1967D2;\n",
              "      height: 32px;\n",
              "      padding: 0 0 0 0;\n",
              "      width: 32px;\n",
              "    }\n",
              "\n",
              "    .colab-df-convert:hover {\n",
              "      background-color: #E2EBFA;\n",
              "      box-shadow: 0px 1px 2px rgba(60, 64, 67, 0.3), 0px 1px 3px 1px rgba(60, 64, 67, 0.15);\n",
              "      fill: #174EA6;\n",
              "    }\n",
              "\n",
              "    [theme=dark] .colab-df-convert {\n",
              "      background-color: #3B4455;\n",
              "      fill: #D2E3FC;\n",
              "    }\n",
              "\n",
              "    [theme=dark] .colab-df-convert:hover {\n",
              "      background-color: #434B5C;\n",
              "      box-shadow: 0px 1px 3px 1px rgba(0, 0, 0, 0.15);\n",
              "      filter: drop-shadow(0px 1px 2px rgba(0, 0, 0, 0.3));\n",
              "      fill: #FFFFFF;\n",
              "    }\n",
              "  </style>\n",
              "\n",
              "      <script>\n",
              "        const buttonEl =\n",
              "          document.querySelector('#df-dc58ff1a-d825-405e-9450-7c3d5439858c button.colab-df-convert');\n",
              "        buttonEl.style.display =\n",
              "          google.colab.kernel.accessAllowed ? 'block' : 'none';\n",
              "\n",
              "        async function convertToInteractive(key) {\n",
              "          const element = document.querySelector('#df-dc58ff1a-d825-405e-9450-7c3d5439858c');\n",
              "          const dataTable =\n",
              "            await google.colab.kernel.invokeFunction('convertToInteractive',\n",
              "                                                     [key], {});\n",
              "          if (!dataTable) return;\n",
              "\n",
              "          const docLinkHtml = 'Like what you see? Visit the ' +\n",
              "            '<a target=\"_blank\" href=https://colab.research.google.com/notebooks/data_table.ipynb>data table notebook</a>'\n",
              "            + ' to learn more about interactive tables.';\n",
              "          element.innerHTML = '';\n",
              "          dataTable['output_type'] = 'display_data';\n",
              "          await google.colab.output.renderOutput(dataTable, element);\n",
              "          const docLink = document.createElement('div');\n",
              "          docLink.innerHTML = docLinkHtml;\n",
              "          element.appendChild(docLink);\n",
              "        }\n",
              "      </script>\n",
              "    </div>\n",
              "  </div>\n",
              "  "
            ]
          },
          "metadata": {},
          "execution_count": 15
        }
      ]
    },
    {
      "cell_type": "code",
      "source": [
        "model.save('ANN.h5')"
      ],
      "metadata": {
        "id": "jSLoUfL6k_oK"
      },
      "execution_count": 16,
      "outputs": []
    }
  ]
}