{
  "nbformat": 4,
  "nbformat_minor": 0,
  "metadata": {
    "colab": {
      "provenance": []
    },
    "kernelspec": {
      "name": "python3",
      "display_name": "Python 3"
    },
    "language_info": {
      "name": "python"
    },
    "accelerator": "GPU",
    "gpuClass": "standard"
  },
  "cells": [
    {
      "cell_type": "code",
      "source": [
        "from google.colab import drive\n",
        "drive.mount('/gdrive')"
      ],
      "metadata": {
        "id": "Exl5Huiz8uHN",
        "colab": {
          "base_uri": "https://localhost:8080/"
        },
        "outputId": "57bdad9e-3ab5-4bae-dfa9-3e2ddf60fb48"
      },
      "execution_count": 1,
      "outputs": [
        {
          "output_type": "stream",
          "name": "stdout",
          "text": [
            "Drive already mounted at /gdrive; to attempt to forcibly remount, call drive.mount(\"/gdrive\", force_remount=True).\n"
          ]
        }
      ]
    },
    {
      "cell_type": "code",
      "source": [
        "%cd ../gdrive/MyDrive/CSE_575/"
      ],
      "metadata": {
        "colab": {
          "base_uri": "https://localhost:8080/"
        },
        "id": "e1uBqfe099BH",
        "outputId": "8d699a47-16cb-46fe-c902-427417eefa69"
      },
      "execution_count": 2,
      "outputs": [
        {
          "output_type": "stream",
          "name": "stdout",
          "text": [
            "/gdrive/.shortcut-targets-by-id/1ZOjaaJR6FUgi-AiS0aWel7Gqn2TpkqgW/CSE_575\n"
          ]
        }
      ]
    },
    {
      "cell_type": "code",
      "execution_count": 3,
      "metadata": {
        "id": "bLyc4wLn5wl1"
      },
      "outputs": [],
      "source": [
        "# Importing Libraries\n",
        "import numpy as np\n",
        "import matplotlib.pyplot as plt\n",
        "from sklearn.preprocessing import OneHotEncoder\n",
        "from sklearn.model_selection import train_test_split\n",
        "from tensorflow.keras.models import Sequential\n",
        "from tensorflow.keras.layers import Dense, Conv2D, Flatten, MaxPool2D, Dropout, Activation \n",
        "from sklearn.metrics import classification_report as cr, confusion_matrix as cm"
      ]
    },
    {
      "cell_type": "code",
      "source": [
        "# Helper Functions\n",
        "def load_data():\n",
        "    ohe = OneHotEncoder(sparse_output=False)\n",
        "    X = np.load(\"X.npy\")[:,:,:,:3]\n",
        "    y = np.load(\"y.npy\")\n",
        "    y = ohe.fit_transform(y.reshape(-1,1))\n",
        "    labels = ohe.categories_\n",
        "    X_train, X_test, y_train, y_test = train_test_split(X,y, test_size=0.2,random_state=0)\n",
        "    return X_train, X_test, y_train, y_test, labels[0]"
      ],
      "metadata": {
        "id": "FY3gJrhZ6BhH"
      },
      "execution_count": 4,
      "outputs": []
    },
    {
      "cell_type": "code",
      "source": [
        "# Loading Data\n",
        "X_train, X_test, y_train, y_test, labels = load_data()"
      ],
      "metadata": {
        "id": "HH2ahZXI6GCV"
      },
      "execution_count": 5,
      "outputs": []
    },
    {
      "cell_type": "code",
      "source": [
        "# Model Definition\n",
        "model_layers = [\n",
        "    Conv2D(64, (3, 3), input_shape=(288, 432, 3)),\n",
        "    MaxPool2D(pool_size=(3, 3)),\n",
        "\n",
        "    Conv2D(32, (3, 3)),\n",
        "    MaxPool2D(pool_size=(3, 3)),\n",
        "\n",
        "    Conv2D(32, (3, 3)),\n",
        "    MaxPool2D(pool_size=(3, 3)),\n",
        "\n",
        "    Dropout(0.3),\n",
        "    Flatten(),\n",
        "\n",
        "    Dense(10, activation=\"softmax\")\n",
        "]\n",
        "\n",
        "model = Sequential(model_layers)\n",
        "model.compile(loss=\"categorical_crossentropy\", optimizer=\"adam\", metrics=['accuracy'])\n",
        "print(model.summary())"
      ],
      "metadata": {
        "colab": {
          "base_uri": "https://localhost:8080/"
        },
        "id": "bSEq25kJ6Iyo",
        "outputId": "6d5e150f-03dc-40db-cd75-a619afe90913"
      },
      "execution_count": 6,
      "outputs": [
        {
          "output_type": "stream",
          "name": "stdout",
          "text": [
            "Model: \"sequential\"\n",
            "_________________________________________________________________\n",
            " Layer (type)                Output Shape              Param #   \n",
            "=================================================================\n",
            " conv2d (Conv2D)             (None, 286, 430, 64)      1792      \n",
            "                                                                 \n",
            " max_pooling2d (MaxPooling2D  (None, 95, 143, 64)      0         \n",
            " )                                                               \n",
            "                                                                 \n",
            " conv2d_1 (Conv2D)           (None, 93, 141, 32)       18464     \n",
            "                                                                 \n",
            " max_pooling2d_1 (MaxPooling  (None, 31, 47, 32)       0         \n",
            " 2D)                                                             \n",
            "                                                                 \n",
            " conv2d_2 (Conv2D)           (None, 29, 45, 32)        9248      \n",
            "                                                                 \n",
            " max_pooling2d_2 (MaxPooling  (None, 9, 15, 32)        0         \n",
            " 2D)                                                             \n",
            "                                                                 \n",
            " dropout (Dropout)           (None, 9, 15, 32)         0         \n",
            "                                                                 \n",
            " flatten (Flatten)           (None, 4320)              0         \n",
            "                                                                 \n",
            " dense (Dense)               (None, 10)                43210     \n",
            "                                                                 \n",
            "=================================================================\n",
            "Total params: 72,714\n",
            "Trainable params: 72,714\n",
            "Non-trainable params: 0\n",
            "_________________________________________________________________\n",
            "None\n"
          ]
        }
      ]
    },
    {
      "cell_type": "code",
      "source": [
        "# Model Training\n",
        "model.fit(X_train, y_train, batch_size=10, epochs=20, validation_split=0.2)\n",
        "print(f\"Model Performance on Training Data: {model.evaluate(X_train,y_train)}\")"
      ],
      "metadata": {
        "colab": {
          "base_uri": "https://localhost:8080/"
        },
        "id": "vvGi6URt6KXq",
        "outputId": "b7ee22b1-8153-4995-e99a-63f1dd3c7555"
      },
      "execution_count": 7,
      "outputs": [
        {
          "output_type": "stream",
          "name": "stdout",
          "text": [
            "Epoch 1/20\n",
            "64/64 [==============================] - 11s 87ms/step - loss: 2.2146 - accuracy: 0.1972 - val_loss: 1.9639 - val_accuracy: 0.2375\n",
            "Epoch 2/20\n",
            "64/64 [==============================] - 4s 67ms/step - loss: 1.7854 - accuracy: 0.3599 - val_loss: 1.6136 - val_accuracy: 0.3812\n",
            "Epoch 3/20\n",
            "64/64 [==============================] - 4s 70ms/step - loss: 1.4258 - accuracy: 0.5023 - val_loss: 1.6606 - val_accuracy: 0.4812\n",
            "Epoch 4/20\n",
            "64/64 [==============================] - 4s 66ms/step - loss: 1.2551 - accuracy: 0.5634 - val_loss: 1.3875 - val_accuracy: 0.5000\n",
            "Epoch 5/20\n",
            "64/64 [==============================] - 4s 67ms/step - loss: 1.0519 - accuracy: 0.6166 - val_loss: 1.4319 - val_accuracy: 0.5250\n",
            "Epoch 6/20\n",
            "64/64 [==============================] - 5s 71ms/step - loss: 0.9328 - accuracy: 0.6620 - val_loss: 1.3374 - val_accuracy: 0.5625\n",
            "Epoch 7/20\n",
            "64/64 [==============================] - 4s 67ms/step - loss: 0.7525 - accuracy: 0.7512 - val_loss: 1.2730 - val_accuracy: 0.5688\n",
            "Epoch 8/20\n",
            "64/64 [==============================] - 4s 67ms/step - loss: 0.5697 - accuracy: 0.8138 - val_loss: 1.5829 - val_accuracy: 0.5375\n",
            "Epoch 9/20\n",
            "64/64 [==============================] - 5s 75ms/step - loss: 0.5089 - accuracy: 0.8263 - val_loss: 1.3249 - val_accuracy: 0.5938\n",
            "Epoch 10/20\n",
            "64/64 [==============================] - 4s 67ms/step - loss: 0.4108 - accuracy: 0.8560 - val_loss: 1.2198 - val_accuracy: 0.6125\n",
            "Epoch 11/20\n",
            "64/64 [==============================] - 4s 67ms/step - loss: 0.2915 - accuracy: 0.9061 - val_loss: 1.2733 - val_accuracy: 0.5875\n",
            "Epoch 12/20\n",
            "64/64 [==============================] - 5s 77ms/step - loss: 0.1877 - accuracy: 0.9452 - val_loss: 1.4675 - val_accuracy: 0.6125\n",
            "Epoch 13/20\n",
            "64/64 [==============================] - 4s 67ms/step - loss: 0.1451 - accuracy: 0.9546 - val_loss: 1.5303 - val_accuracy: 0.5813\n",
            "Epoch 14/20\n",
            "64/64 [==============================] - 4s 67ms/step - loss: 0.1122 - accuracy: 0.9656 - val_loss: 1.7703 - val_accuracy: 0.6187\n",
            "Epoch 15/20\n",
            "64/64 [==============================] - 4s 70ms/step - loss: 0.0924 - accuracy: 0.9718 - val_loss: 1.6945 - val_accuracy: 0.5750\n",
            "Epoch 16/20\n",
            "64/64 [==============================] - 4s 66ms/step - loss: 0.0731 - accuracy: 0.9906 - val_loss: 1.6356 - val_accuracy: 0.5938\n",
            "Epoch 17/20\n",
            "64/64 [==============================] - 4s 66ms/step - loss: 0.0550 - accuracy: 0.9875 - val_loss: 1.9237 - val_accuracy: 0.5750\n",
            "Epoch 18/20\n",
            "64/64 [==============================] - 5s 75ms/step - loss: 0.0856 - accuracy: 0.9844 - val_loss: 1.6947 - val_accuracy: 0.5750\n",
            "Epoch 19/20\n",
            "64/64 [==============================] - 4s 67ms/step - loss: 0.0601 - accuracy: 0.9906 - val_loss: 1.9148 - val_accuracy: 0.5938\n",
            "Epoch 20/20\n",
            "64/64 [==============================] - 4s 67ms/step - loss: 0.0425 - accuracy: 0.9906 - val_loss: 1.7873 - val_accuracy: 0.5875\n",
            "25/25 [==============================] - 4s 88ms/step - loss: 0.3684 - accuracy: 0.9161\n",
            "Model Performance on Training Data: [0.368419885635376, 0.9161452054977417]\n"
          ]
        }
      ]
    },
    {
      "cell_type": "code",
      "source": [
        "pred = model.predict(X_test)\n",
        "pred = (pred>0.5)\n",
        "\n",
        "print(cr(y_test,pred))\n",
        "conf_m = cm(np.argmax(y_test,axis=1),np.argmax(pred,axis=1))\n",
        "print(conf_m)\n",
        "\n",
        "plt.imshow(conf_m,cmap=\"jet\")\n",
        "plt.xticks(ticks = np.arange(0,10,1), labels=labels, rotation=90)\n",
        "plt.yticks(ticks = np.arange(0,10,1), labels=labels)\n",
        "plt.colorbar()\n",
        "plt.show()"
      ],
      "metadata": {
        "id": "OQTIc7Ob6Kgp",
        "colab": {
          "base_uri": "https://localhost:8080/",
          "height": 1000
        },
        "outputId": "ba3c409d-dcf6-4eb5-ec59-d14a46ddd9d2"
      },
      "execution_count": 8,
      "outputs": [
        {
          "output_type": "stream",
          "name": "stdout",
          "text": [
            "7/7 [==============================] - 1s 90ms/step\n",
            "              precision    recall  f1-score   support\n",
            "\n",
            "           0       0.67      0.57      0.62        14\n",
            "           1       0.79      1.00      0.88        11\n",
            "           2       0.91      0.38      0.54        26\n",
            "           3       0.68      0.62      0.65        24\n",
            "           4       0.78      0.67      0.72        27\n",
            "           5       0.74      0.88      0.80        16\n",
            "           6       0.70      0.89      0.78        18\n",
            "           7       0.67      0.43      0.53        23\n",
            "           8       0.62      0.71      0.67        21\n",
            "           9       0.62      0.65      0.63        20\n",
            "\n",
            "   micro avg       0.71      0.65      0.68       200\n",
            "   macro avg       0.72      0.68      0.68       200\n",
            "weighted avg       0.72      0.65      0.67       200\n",
            " samples avg       0.65      0.65      0.65       200\n",
            "\n",
            "[[11  0  0  1  0  0  1  0  0  1]\n",
            " [ 0 11  0  0  0  0  0  0  0  0]\n",
            " [ 7  0 10  2  0  4  0  1  0  2]\n",
            " [ 1  0  0 15  2  0  2  1  1  2]\n",
            " [ 2  0  0  2 18  0  1  0  4  0]\n",
            " [ 0  2  0  0  0 14  0  0  0  0]\n",
            " [ 0  0  0  0  1  0 16  0  0  1]\n",
            " [ 4  1  1  2  1  0  0 10  3  1]\n",
            " [ 1  0  0  0  1  0  0  3 15  1]\n",
            " [ 2  0  0  0  0  1  3  0  1 13]]\n"
          ]
        },
        {
          "output_type": "stream",
          "name": "stderr",
          "text": [
            "/usr/local/lib/python3.9/dist-packages/sklearn/metrics/_classification.py:1344: UndefinedMetricWarning: Precision and F-score are ill-defined and being set to 0.0 in samples with no predicted labels. Use `zero_division` parameter to control this behavior.\n",
            "  _warn_prf(average, modifier, msg_start, len(result))\n"
          ]
        },
        {
          "output_type": "display_data",
          "data": {
            "text/plain": [
              "<Figure size 640x480 with 2 Axes>"
            ],
            "image/png": "[encoded data removed]"
          },
          "metadata": {}
        }
      ]
    },
    {
      "cell_type": "code",
      "source": [
        "class_acc = conf_m.diagonal()/conf_m.sum(axis=1)\n",
        "for i in range(len(labels)):\n",
        "  print(f\"Class Accuracy for {labels[i]}: {round(class_acc[i],2)}\")\n",
        "print(f\"\\n**Total Accuracy : {np.trace(conf_m)/np.sum(conf_m)}**\")"
      ],
      "metadata": {
        "id": "lHq_zahIbMmE",
        "colab": {
          "base_uri": "https://localhost:8080/"
        },
        "outputId": "34a24bb8-69a5-4171-a311-44e45484b8ca"
      },
      "execution_count": 9,
      "outputs": [
        {
          "output_type": "stream",
          "name": "stdout",
          "text": [
            "Class Accuracy for blues: 0.79\n",
            "Class Accuracy for classical: 1.0\n",
            "Class Accuracy for country: 0.38\n",
            "Class Accuracy for disco: 0.62\n",
            "Class Accuracy for hiphop: 0.67\n",
            "Class Accuracy for jazz: 0.88\n",
            "Class Accuracy for metal: 0.89\n",
            "Class Accuracy for pop: 0.43\n",
            "Class Accuracy for reggae: 0.71\n",
            "Class Accuracy for rock: 0.65\n",
            "\n",
            "**Total Accuracy : 0.665**\n"
          ]
        }
      ]
    }
  ]
}