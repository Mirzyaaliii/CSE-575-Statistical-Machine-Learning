{
  "nbformat": 4,
  "nbformat_minor": 0,
  "metadata": {
    "colab": {
      "provenance": [],
      "include_colab_link": true
    },
    "kernelspec": {
      "name": "python3",
      "display_name": "Python 3"
    },
    "language_info": {
      "name": "python"
    },
    "accelerator": "GPU",
    "gpuClass": "standard"
  },
  "cells": [
    {
      "cell_type": "markdown",
      "metadata": {
        "id": "view-in-github",
        "colab_type": "text"
      },
      "source": [
        "<a href=\"https://colab.research.google.com/github/prat-man/CSE-575-Statistical-Machine-Learning/blob/main/CNN.ipynb\" target=\"_parent\"><img src=\"https://colab.research.google.com/assets/colab-badge.svg\" alt=\"Open In Colab\"/></a>"
      ]
    },
    {
      "cell_type": "code",
      "source": [
        "from google.colab import drive\n",
        "drive.mount('/gdrive')"
      ],
      "metadata": {
        "id": "Exl5Huiz8uHN",
        "colab": {
          "base_uri": "https://localhost:8080/"
        },
        "outputId": "82c31cf3-0eec-48be-f043-f95f74372522"
      },
      "execution_count": 1,
      "outputs": [
        {
          "output_type": "stream",
          "name": "stdout",
          "text": [
            "Drive already mounted at /gdrive; to attempt to forcibly remount, call drive.mount(\"/gdrive\", force_remount=True).\n"
          ]
        }
      ]
    },
    {
      "cell_type": "code",
      "source": [
        "%cd ../gdrive/MyDrive/CSE_575/"
      ],
      "metadata": {
        "id": "e1uBqfe099BH",
        "colab": {
          "base_uri": "https://localhost:8080/"
        },
        "outputId": "530ceaec-8d9e-402f-8c85-9c09b11e24aa"
      },
      "execution_count": 2,
      "outputs": [
        {
          "output_type": "stream",
          "name": "stdout",
          "text": [
            "/gdrive/.shortcut-targets-by-id/1ZOjaaJR6FUgi-AiS0aWel7Gqn2TpkqgW/CSE_575\n"
          ]
        }
      ]
    },
    {
      "cell_type": "code",
      "execution_count": 3,
      "metadata": {
        "id": "bLyc4wLn5wl1"
      },
      "outputs": [],
      "source": [
        "import numpy as np\n",
        "import pandas as pd\n",
        "import seaborn as sns\n",
        "import matplotlib.pyplot as plt\n",
        "\n",
        "from sklearn.preprocessing import OneHotEncoder\n",
        "from sklearn.model_selection import train_test_split\n",
        "from sklearn.metrics import classification_report, confusion_matrix\n",
        "\n",
        "from tensorflow.keras.models import Sequential\n",
        "from tensorflow.keras.layers import Dense, Conv2D, Flatten, MaxPool2D, Dropout"
      ]
    },
    {
      "cell_type": "code",
      "source": [
        "seed = 0"
      ],
      "metadata": {
        "id": "jA7dRgo1N4JN"
      },
      "execution_count": 4,
      "outputs": []
    },
    {
      "cell_type": "code",
      "source": [
        "X = np.load(\"X.npy\")[:, :, :, :3]\n",
        "y = np.load(\"y.npy\")"
      ],
      "metadata": {
        "id": "0M8v8CFCWrjZ"
      },
      "execution_count": 5,
      "outputs": []
    },
    {
      "cell_type": "code",
      "source": [
        "encoder = OneHotEncoder(sparse_output=False)\n",
        "y = encoder.fit_transform(y.reshape(-1, 1))\n",
        "labels = encoder.categories_[0]"
      ],
      "metadata": {
        "id": "1Jy6aEdMWv8-"
      },
      "execution_count": 6,
      "outputs": []
    },
    {
      "cell_type": "code",
      "source": [
        "n_samples = 1000\n",
        "\n",
        "X_train, X_test, y_train, y_test = train_test_split(X, y, train_size=round(0.7 * n_samples), stratify=y, random_state=seed)\n",
        "X_val, X_test, y_val, y_test = train_test_split(X_test, y_test, train_size=round(0.15 * n_samples), stratify=y_test, random_state=seed)"
      ],
      "metadata": {
        "id": "xxWthRQ6W4cL"
      },
      "execution_count": 7,
      "outputs": []
    },
    {
      "cell_type": "code",
      "source": [
        "model_layers = [\n",
        "    Conv2D(64, (3, 3), input_shape=(288, 432, 3)),\n",
        "    MaxPool2D(pool_size=(3, 3)),\n",
        "    Dropout(0.2),\n",
        "\n",
        "    Conv2D(64, (3, 3)),\n",
        "    MaxPool2D(pool_size=(3, 3)),\n",
        "    Dropout(0.2),\n",
        "\n",
        "    Conv2D(64, (3, 3)),\n",
        "    MaxPool2D(pool_size=(3, 3)),\n",
        "    Dropout(0.2),\n",
        "\n",
        "    Flatten(),\n",
        "\n",
        "    Dense(10, activation=\"softmax\")\n",
        "]\n",
        "\n",
        "model = Sequential(model_layers)"
      ],
      "metadata": {
        "id": "bSEq25kJ6Iyo"
      },
      "execution_count": 8,
      "outputs": []
    },
    {
      "cell_type": "code",
      "source": [
        "model.compile(loss=\"categorical_crossentropy\", optimizer=\"adam\", metrics=['accuracy'])"
      ],
      "metadata": {
        "id": "Ow5gJF_UMP0O"
      },
      "execution_count": 9,
      "outputs": []
    },
    {
      "cell_type": "code",
      "source": [
        "print(model.summary())"
      ],
      "metadata": {
        "colab": {
          "base_uri": "https://localhost:8080/"
        },
        "id": "p4zZw74lMRWq",
        "outputId": "1f7cc0cb-46ae-4900-92de-340aab4a1cf5"
      },
      "execution_count": 10,
      "outputs": [
        {
          "output_type": "stream",
          "name": "stdout",
          "text": [
            "Model: \"sequential\"\n",
            "_________________________________________________________________\n",
            " Layer (type)                Output Shape              Param #   \n",
            "=================================================================\n",
            " conv2d (Conv2D)             (None, 286, 430, 64)      1792      \n",
            "                                                                 \n",
            " max_pooling2d (MaxPooling2D  (None, 95, 143, 64)      0         \n",
            " )                                                               \n",
            "                                                                 \n",
            " dropout (Dropout)           (None, 95, 143, 64)       0         \n",
            "                                                                 \n",
            " conv2d_1 (Conv2D)           (None, 93, 141, 64)       36928     \n",
            "                                                                 \n",
            " max_pooling2d_1 (MaxPooling  (None, 31, 47, 64)       0         \n",
            " 2D)                                                             \n",
            "                                                                 \n",
            " dropout_1 (Dropout)         (None, 31, 47, 64)        0         \n",
            "                                                                 \n",
            " conv2d_2 (Conv2D)           (None, 29, 45, 64)        36928     \n",
            "                                                                 \n",
            " max_pooling2d_2 (MaxPooling  (None, 9, 15, 64)        0         \n",
            " 2D)                                                             \n",
            "                                                                 \n",
            " dropout_2 (Dropout)         (None, 9, 15, 64)         0         \n",
            "                                                                 \n",
            " flatten (Flatten)           (None, 8640)              0         \n",
            "                                                                 \n",
            " dense (Dense)               (None, 10)                86410     \n",
            "                                                                 \n",
            "=================================================================\n",
            "Total params: 162,058\n",
            "Trainable params: 162,058\n",
            "Non-trainable params: 0\n",
            "_________________________________________________________________\n",
            "None\n"
          ]
        }
      ]
    },
    {
      "cell_type": "code",
      "source": [
        "model.fit(X_train, y_train, validation_data=(X_val, y_val), epochs=20, batch_size=10)"
      ],
      "metadata": {
        "id": "vvGi6URt6KXq",
        "colab": {
          "base_uri": "https://localhost:8080/"
        },
        "outputId": "f836a5a8-94e0-4ea4-bd64-bd98a8deaaa0"
      },
      "execution_count": 11,
      "outputs": [
        {
          "output_type": "stream",
          "name": "stdout",
          "text": [
            "Epoch 1/20\n",
            "70/70 [==============================] - 16s 80ms/step - loss: 2.2317 - accuracy: 0.1786 - val_loss: 1.7661 - val_accuracy: 0.3200\n",
            "Epoch 2/20\n",
            "70/70 [==============================] - 5s 78ms/step - loss: 1.8227 - accuracy: 0.3414 - val_loss: 1.3893 - val_accuracy: 0.5000\n",
            "Epoch 3/20\n",
            "70/70 [==============================] - 5s 74ms/step - loss: 1.4514 - accuracy: 0.4957 - val_loss: 1.3363 - val_accuracy: 0.5333\n",
            "Epoch 4/20\n",
            "70/70 [==============================] - 5s 73ms/step - loss: 1.2751 - accuracy: 0.5400 - val_loss: 1.0534 - val_accuracy: 0.6000\n",
            "Epoch 5/20\n",
            "70/70 [==============================] - 6s 79ms/step - loss: 1.0930 - accuracy: 0.6329 - val_loss: 1.1671 - val_accuracy: 0.5733\n",
            "Epoch 6/20\n",
            "70/70 [==============================] - 5s 72ms/step - loss: 0.9046 - accuracy: 0.6829 - val_loss: 1.0008 - val_accuracy: 0.6533\n",
            "Epoch 7/20\n",
            "70/70 [==============================] - 5s 73ms/step - loss: 0.7312 - accuracy: 0.7443 - val_loss: 1.0103 - val_accuracy: 0.7000\n",
            "Epoch 8/20\n",
            "70/70 [==============================] - 5s 75ms/step - loss: 0.5727 - accuracy: 0.8100 - val_loss: 1.4229 - val_accuracy: 0.5600\n",
            "Epoch 9/20\n",
            "70/70 [==============================] - 5s 72ms/step - loss: 0.4005 - accuracy: 0.8843 - val_loss: 0.9876 - val_accuracy: 0.6667\n",
            "Epoch 10/20\n",
            "70/70 [==============================] - 5s 74ms/step - loss: 0.2623 - accuracy: 0.9286 - val_loss: 1.2168 - val_accuracy: 0.6467\n",
            "Epoch 11/20\n",
            "70/70 [==============================] - 5s 74ms/step - loss: 0.1955 - accuracy: 0.9457 - val_loss: 1.3294 - val_accuracy: 0.6133\n",
            "Epoch 12/20\n",
            "70/70 [==============================] - 5s 72ms/step - loss: 0.0924 - accuracy: 0.9800 - val_loss: 1.2444 - val_accuracy: 0.6533\n",
            "Epoch 13/20\n",
            "70/70 [==============================] - 5s 75ms/step - loss: 0.1412 - accuracy: 0.9571 - val_loss: 1.8138 - val_accuracy: 0.6000\n",
            "Epoch 14/20\n",
            "70/70 [==============================] - 5s 78ms/step - loss: 0.0748 - accuracy: 0.9786 - val_loss: 1.3630 - val_accuracy: 0.6533\n",
            "Epoch 15/20\n",
            "70/70 [==============================] - 6s 85ms/step - loss: 0.0421 - accuracy: 0.9914 - val_loss: 1.3882 - val_accuracy: 0.6600\n",
            "Epoch 16/20\n",
            "70/70 [==============================] - 5s 74ms/step - loss: 0.0096 - accuracy: 1.0000 - val_loss: 1.3311 - val_accuracy: 0.7000\n",
            "Epoch 17/20\n",
            "70/70 [==============================] - 5s 73ms/step - loss: 0.0061 - accuracy: 1.0000 - val_loss: 1.4126 - val_accuracy: 0.7000\n",
            "Epoch 18/20\n",
            "70/70 [==============================] - 5s 75ms/step - loss: 0.0053 - accuracy: 1.0000 - val_loss: 1.5667 - val_accuracy: 0.6867\n",
            "Epoch 19/20\n",
            "70/70 [==============================] - 5s 73ms/step - loss: 0.0035 - accuracy: 1.0000 - val_loss: 1.4790 - val_accuracy: 0.6733\n",
            "Epoch 20/20\n",
            "70/70 [==============================] - 5s 78ms/step - loss: 0.0027 - accuracy: 1.0000 - val_loss: 1.4974 - val_accuracy: 0.6933\n"
          ]
        },
        {
          "output_type": "execute_result",
          "data": {
            "text/plain": [
              "<keras.callbacks.History at 0x7f9ac51bb850>"
            ]
          },
          "metadata": {},
          "execution_count": 11
        }
      ]
    },
    {
      "cell_type": "code",
      "source": [
        "_, accuracy = model.evaluate(X_train, y_train)\n",
        "print(f'Training Accuracy: {accuracy}')"
      ],
      "metadata": {
        "colab": {
          "base_uri": "https://localhost:8080/"
        },
        "id": "aHR5MZrpMWpm",
        "outputId": "19809046-a7bd-4a25-ef45-f46d4f715737"
      },
      "execution_count": 12,
      "outputs": [
        {
          "output_type": "stream",
          "name": "stdout",
          "text": [
            "22/22 [==============================] - 3s 88ms/step - loss: 0.0010 - accuracy: 1.0000\n",
            "Training Accuracy: 1.0\n"
          ]
        }
      ]
    },
    {
      "cell_type": "code",
      "source": [
        "y_pred = model.predict(X_test)\n",
        "\n",
        "y_true = np.argmax(y_test, axis=1)\n",
        "y_pred = np.argmax(y_pred, axis=1)"
      ],
      "metadata": {
        "colab": {
          "base_uri": "https://localhost:8080/"
        },
        "id": "UZqiAzDpM_iZ",
        "outputId": "1abc4311-503f-49da-bbf3-a3fc20d3900f"
      },
      "execution_count": 13,
      "outputs": [
        {
          "output_type": "stream",
          "name": "stdout",
          "text": [
            "5/5 [==============================] - 1s 190ms/step\n"
          ]
        }
      ]
    },
    {
      "cell_type": "code",
      "source": [
        "print(classification_report(y_true, y_pred))"
      ],
      "metadata": {
        "colab": {
          "base_uri": "https://localhost:8080/"
        },
        "id": "LNUxQh0ANBlJ",
        "outputId": "dfa0e754-dca5-481f-f0f8-4e2dd7143eaf"
      },
      "execution_count": 14,
      "outputs": [
        {
          "output_type": "stream",
          "name": "stdout",
          "text": [
            "              precision    recall  f1-score   support\n",
            "\n",
            "           0       0.50      0.47      0.48        15\n",
            "           1       0.88      0.93      0.90        15\n",
            "           2       0.67      0.67      0.67        15\n",
            "           3       0.45      0.67      0.54        15\n",
            "           4       0.67      0.53      0.59        15\n",
            "           5       0.73      0.79      0.76        14\n",
            "           6       0.92      0.80      0.86        15\n",
            "           7       0.67      0.40      0.50        15\n",
            "           8       0.56      0.67      0.61        15\n",
            "           9       0.40      0.40      0.40        15\n",
            "\n",
            "    accuracy                           0.63       149\n",
            "   macro avg       0.64      0.63      0.63       149\n",
            "weighted avg       0.64      0.63      0.63       149\n",
            "\n"
          ]
        }
      ]
    },
    {
      "cell_type": "code",
      "source": [
        "conf_m = confusion_matrix(y_true, y_pred)\n",
        "\n",
        "sns.heatmap(conf_m, cmap='crest', annot=True)\n",
        "\n",
        "plt.xticks(ticks = np.arange(0.5, 10, 1), labels=labels, rotation=90)\n",
        "plt.yticks(ticks = np.arange(0.5, 10, 1), labels=labels,rotation=0)\n",
        "\n",
        "plt.savefig('/content/CNN_Confusion_Matrix.png', dpi=300)"
      ],
      "metadata": {
        "colab": {
          "base_uri": "https://localhost:8080/",
          "height": 480
        },
        "id": "To8XjUfhNDV6",
        "outputId": "f7aac08b-cc05-43dc-cd0b-ab8986f91118"
      },
      "execution_count": 15,
      "outputs": [
        {
          "output_type": "display_data",
          "data": {
            "text/plain": [
              "<Figure size 640x480 with 2 Axes>"
            ],
            "image/png": "[encoded data removed]"
          },
          "metadata": {}
        }
      ]
    },
    {
      "cell_type": "code",
      "source": [
        "accuracy = np.trace(conf_m) / np.sum(conf_m)\n",
        "print(f'Overall test accuracy = {accuracy}')"
      ],
      "metadata": {
        "colab": {
          "base_uri": "https://localhost:8080/"
        },
        "id": "za3m-FpLNFBA",
        "outputId": "e96bb992-d354-496b-b029-3ff89364b803"
      },
      "execution_count": 16,
      "outputs": [
        {
          "output_type": "stream",
          "name": "stdout",
          "text": [
            "Overall test accuracy = 0.6308724832214765\n"
          ]
        }
      ]
    },
    {
      "cell_type": "code",
      "source": [
        "accuracy_df = pd.DataFrame(columns=['accuracy'])\n",
        "\n",
        "class_acc = conf_m.diagonal() / conf_m.sum(axis=1)\n",
        "for i in range(len(labels)):\n",
        "    accuracy_df.loc[labels[i]] = [round(class_acc[i], 2)]\n",
        "\n",
        "accuracy_df"
      ],
      "metadata": {
        "id": "OQTIc7Ob6Kgp",
        "colab": {
          "base_uri": "https://localhost:8080/",
          "height": 363
        },
        "outputId": "849f7ca1-3bfb-46ed-d334-fce0177a366f"
      },
      "execution_count": 17,
      "outputs": [
        {
          "output_type": "execute_result",
          "data": {
            "text/plain": [
              "           accuracy\n",
              "blues          0.47\n",
              "classical      0.93\n",
              "country        0.67\n",
              "disco          0.67\n",
              "hiphop         0.53\n",
              "jazz           0.79\n",
              "metal          0.80\n",
              "pop            0.40\n",
              "reggae         0.67\n",
              "rock           0.40"
            ],
            "text/html": [
              "\n",
              "  <div id=\"df-bc919b9d-58fc-4707-a8c7-c6107888d8ad\">\n",
              "    <div class=\"colab-df-container\">\n",
              "      <div>\n",
              "<style scoped>\n",
              "    .dataframe tbody tr th:only-of-type {\n",
              "        vertical-align: middle;\n",
              "    }\n",
              "\n",
              "    .dataframe tbody tr th {\n",
              "        vertical-align: top;\n",
              "    }\n",
              "\n",
              "    .dataframe thead th {\n",
              "        text-align: right;\n",
              "    }\n",
              "</style>\n",
              "<table border=\"1\" class=\"dataframe\">\n",
              "  <thead>\n",
              "    <tr style=\"text-align: right;\">\n",
              "      <th></th>\n",
              "      <th>accuracy</th>\n",
              "    </tr>\n",
              "  </thead>\n",
              "  <tbody>\n",
              "    <tr>\n",
              "      <th>blues</th>\n",
              "      <td>0.47</td>\n",
              "    </tr>\n",
              "    <tr>\n",
              "      <th>classical</th>\n",
              "      <td>0.93</td>\n",
              "    </tr>\n",
              "    <tr>\n",
              "      <th>country</th>\n",
              "      <td>0.67</td>\n",
              "    </tr>\n",
              "    <tr>\n",
              "      <th>disco</th>\n",
              "      <td>0.67</td>\n",
              "    </tr>\n",
              "    <tr>\n",
              "      <th>hiphop</th>\n",
              "      <td>0.53</td>\n",
              "    </tr>\n",
              "    <tr>\n",
              "      <th>jazz</th>\n",
              "      <td>0.79</td>\n",
              "    </tr>\n",
              "    <tr>\n",
              "      <th>metal</th>\n",
              "      <td>0.80</td>\n",
              "    </tr>\n",
              "    <tr>\n",
              "      <th>pop</th>\n",
              "      <td>0.40</td>\n",
              "    </tr>\n",
              "    <tr>\n",
              "      <th>reggae</th>\n",
              "      <td>0.67</td>\n",
              "    </tr>\n",
              "    <tr>\n",
              "      <th>rock</th>\n",
              "      <td>0.40</td>\n",
              "    </tr>\n",
              "  </tbody>\n",
              "</table>\n",
              "</div>\n",
              "      <button class=\"colab-df-convert\" onclick=\"convertToInteractive('df-bc919b9d-58fc-4707-a8c7-c6107888d8ad')\"\n",
              "              title=\"Convert this dataframe to an interactive table.\"\n",
              "              style=\"display:none;\">\n",
              "        \n",
              "  <svg xmlns=\"http://www.w3.org/2000/svg\" height=\"24px\"viewBox=\"0 0 24 24\"\n",
              "       width=\"24px\">\n",
              "    <path d=\"M0 0h24v24H0V0z\" fill=\"none\"/>\n",
              "    <path d=\"M18.56 5.44l.94 2.06.94-2.06 2.06-.94-2.06-.94-.94-2.06-.94 2.06-2.06.94zm-11 1L8.5 8.5l.94-2.06 2.06-.94-2.06-.94L8.5 2.5l-.94 2.06-2.06.94zm10 10l.94 2.06.94-2.06 2.06-.94-2.06-.94-.94-2.06-.94 2.06-2.06.94z\"/><path d=\"M17.41 7.96l-1.37-1.37c-.4-.4-.92-.59-1.43-.59-.52 0-1.04.2-1.43.59L10.3 9.45l-7.72 7.72c-.78.78-.78 2.05 0 2.83L4 21.41c.39.39.9.59 1.41.59.51 0 1.02-.2 1.41-.59l7.78-7.78 2.81-2.81c.8-.78.8-2.07 0-2.86zM5.41 20L4 18.59l7.72-7.72 1.47 1.35L5.41 20z\"/>\n",
              "  </svg>\n",
              "      </button>\n",
              "      \n",
              "  <style>\n",
              "    .colab-df-container {\n",
              "      display:flex;\n",
              "      flex-wrap:wrap;\n",
              "      gap: 12px;\n",
              "    }\n",
              "\n",
              "    .colab-df-convert {\n",
              "      background-color: #E8F0FE;\n",
              "      border: none;\n",
              "      border-radius: 50%;\n",
              "      cursor: pointer;\n",
              "      display: none;\n",
              "      fill: #1967D2;\n",
              "      height: 32px;\n",
              "      padding: 0 0 0 0;\n",
              "      width: 32px;\n",
              "    }\n",
              "\n",
              "    .colab-df-convert:hover {\n",
              "      background-color: #E2EBFA;\n",
              "      box-shadow: 0px 1px 2px rgba(60, 64, 67, 0.3), 0px 1px 3px 1px rgba(60, 64, 67, 0.15);\n",
              "      fill: #174EA6;\n",
              "    }\n",
              "\n",
              "    [theme=dark] .colab-df-convert {\n",
              "      background-color: #3B4455;\n",
              "      fill: #D2E3FC;\n",
              "    }\n",
              "\n",
              "    [theme=dark] .colab-df-convert:hover {\n",
              "      background-color: #434B5C;\n",
              "      box-shadow: 0px 1px 3px 1px rgba(0, 0, 0, 0.15);\n",
              "      filter: drop-shadow(0px 1px 2px rgba(0, 0, 0, 0.3));\n",
              "      fill: #FFFFFF;\n",
              "    }\n",
              "  </style>\n",
              "\n",
              "      <script>\n",
              "        const buttonEl =\n",
              "          document.querySelector('#df-bc919b9d-58fc-4707-a8c7-c6107888d8ad button.colab-df-convert');\n",
              "        buttonEl.style.display =\n",
              "          google.colab.kernel.accessAllowed ? 'block' : 'none';\n",
              "\n",
              "        async function convertToInteractive(key) {\n",
              "          const element = document.querySelector('#df-bc919b9d-58fc-4707-a8c7-c6107888d8ad');\n",
              "          const dataTable =\n",
              "            await google.colab.kernel.invokeFunction('convertToInteractive',\n",
              "                                                     [key], {});\n",
              "          if (!dataTable) return;\n",
              "\n",
              "          const docLinkHtml = 'Like what you see? Visit the ' +\n",
              "            '<a target=\"_blank\" href=https://colab.research.google.com/notebooks/data_table.ipynb>data table notebook</a>'\n",
              "            + ' to learn more about interactive tables.';\n",
              "          element.innerHTML = '';\n",
              "          dataTable['output_type'] = 'display_data';\n",
              "          await google.colab.output.renderOutput(dataTable, element);\n",
              "          const docLink = document.createElement('div');\n",
              "          docLink.innerHTML = docLinkHtml;\n",
              "          element.appendChild(docLink);\n",
              "        }\n",
              "      </script>\n",
              "    </div>\n",
              "  </div>\n",
              "  "
            ]
          },
          "metadata": {},
          "execution_count": 17
        }
      ]
    },
    {
      "cell_type": "code",
      "source": [
        "model.save('/content/CNN.h5')"
      ],
      "metadata": {
        "id": "kjnkHUgknGxg"
      },
      "execution_count": 18,
      "outputs": []
    }
  ]
}