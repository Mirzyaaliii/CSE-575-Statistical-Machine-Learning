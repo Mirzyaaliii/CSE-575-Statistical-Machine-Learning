{
  "nbformat": 4,
  "nbformat_minor": 0,
  "metadata": {
    "colab": {
      "provenance": []
    },
    "kernelspec": {
      "name": "python3",
      "display_name": "Python 3"
    },
    "language_info": {
      "name": "python"
    },
    "accelerator": "GPU",
    "gpuClass": "standard"
  },
  "cells": [
    {
      "cell_type": "code",
      "source": [
        "from google.colab import drive\n",
        "drive.mount('/gdrive')"
      ],
      "metadata": {
        "id": "Exl5Huiz8uHN",
        "colab": {
          "base_uri": "https://localhost:8080/"
        },
        "outputId": "5581227d-c2fc-419d-b283-f9c2c06a8138"
      },
      "execution_count": 1,
      "outputs": [
        {
          "output_type": "stream",
          "name": "stdout",
          "text": [
            "Drive already mounted at /gdrive; to attempt to forcibly remount, call drive.mount(\"/gdrive\", force_remount=True).\n"
          ]
        }
      ]
    },
    {
      "cell_type": "code",
      "source": [
        "%cd ../gdrive/MyDrive/CSE_575/"
      ],
      "metadata": {
        "colab": {
          "base_uri": "https://localhost:8080/"
        },
        "id": "e1uBqfe099BH",
        "outputId": "4816b9aa-61a3-4eb2-d6f2-13807817a907"
      },
      "execution_count": 2,
      "outputs": [
        {
          "output_type": "stream",
          "name": "stdout",
          "text": [
            "/gdrive/.shortcut-targets-by-id/1ZOjaaJR6FUgi-AiS0aWel7Gqn2TpkqgW/CSE_575\n"
          ]
        }
      ]
    },
    {
      "cell_type": "code",
      "execution_count": 3,
      "metadata": {
        "id": "bLyc4wLn5wl1"
      },
      "outputs": [],
      "source": [
        "# Importing Libraries\n",
        "import numpy as np\n",
        "import matplotlib.pyplot as plt\n",
        "from sklearn.preprocessing import OneHotEncoder\n",
        "from sklearn.model_selection import train_test_split\n",
        "from tensorflow.keras.models import Sequential\n",
        "from tensorflow.keras.layers import Dense, Conv2D, Flatten, MaxPool2D, Dropout, Activation \n",
        "from sklearn.metrics import classification_report as cr, confusion_matrix as cm"
      ]
    },
    {
      "cell_type": "code",
      "source": [
        "# Helper Functions\n",
        "def load_data():\n",
        "    ohe = OneHotEncoder(sparse_output=False)\n",
        "    X = np.load(\"X.npy\")[:,:,:,:3]\n",
        "    y = np.load(\"y.npy\")\n",
        "    y = ohe.fit_transform(y.reshape(-1,1))\n",
        "    labels = ohe.categories_[0]\n",
        "    # X_train, X_test, y_train, y_test = train_test_split(X,y, test_size=0.2,random_state=0)\n",
        "    X_train, X_test, y_train, y_test = train_test_split(X, y, test_size=0.4, random_state=0)\n",
        "    X_val, X_test, y_val, y_test = train_test_split(X_test, y_test, test_size=0.5, random_state=0)\n",
        "    return X_train, X_val, X_test, y_train, y_val, y_test, labels"
      ],
      "metadata": {
        "id": "FY3gJrhZ6BhH"
      },
      "execution_count": 4,
      "outputs": []
    },
    {
      "cell_type": "code",
      "source": [
        "# Loading Data\n",
        "X_train, X_val, X_test, y_train, y_val, y_test, labels = load_data()"
      ],
      "metadata": {
        "id": "HH2ahZXI6GCV"
      },
      "execution_count": 5,
      "outputs": []
    },
    {
      "cell_type": "code",
      "source": [
        "# Model Definition\n",
        "model_layers = [\n",
        "    Conv2D(64, (3, 3), input_shape=(288, 432, 3)),\n",
        "    MaxPool2D(pool_size=(3, 3)),\n",
        "\n",
        "    Conv2D(32, (3, 3)),\n",
        "    MaxPool2D(pool_size=(3, 3)),\n",
        "\n",
        "    Conv2D(32, (3, 3)),\n",
        "    MaxPool2D(pool_size=(3, 3)),\n",
        "\n",
        "    Dropout(0.3),\n",
        "    Flatten(),\n",
        "\n",
        "    Dense(10, activation=\"softmax\")\n",
        "]\n",
        "\n",
        "model = Sequential(model_layers)\n",
        "model.compile(loss=\"categorical_crossentropy\", optimizer=\"adam\", metrics=['accuracy'])\n",
        "print(model.summary())"
      ],
      "metadata": {
        "colab": {
          "base_uri": "https://localhost:8080/"
        },
        "id": "bSEq25kJ6Iyo",
        "outputId": "9cc4a246-2786-436a-922c-25af68540319"
      },
      "execution_count": 6,
      "outputs": [
        {
          "output_type": "stream",
          "name": "stdout",
          "text": [
            "Model: \"sequential\"\n",
            "_________________________________________________________________\n",
            " Layer (type)                Output Shape              Param #   \n",
            "=================================================================\n",
            " conv2d (Conv2D)             (None, 286, 430, 64)      1792      \n",
            "                                                                 \n",
            " max_pooling2d (MaxPooling2D  (None, 95, 143, 64)      0         \n",
            " )                                                               \n",
            "                                                                 \n",
            " conv2d_1 (Conv2D)           (None, 93, 141, 32)       18464     \n",
            "                                                                 \n",
            " max_pooling2d_1 (MaxPooling  (None, 31, 47, 32)       0         \n",
            " 2D)                                                             \n",
            "                                                                 \n",
            " conv2d_2 (Conv2D)           (None, 29, 45, 32)        9248      \n",
            "                                                                 \n",
            " max_pooling2d_2 (MaxPooling  (None, 9, 15, 32)        0         \n",
            " 2D)                                                             \n",
            "                                                                 \n",
            " dropout (Dropout)           (None, 9, 15, 32)         0         \n",
            "                                                                 \n",
            " flatten (Flatten)           (None, 4320)              0         \n",
            "                                                                 \n",
            " dense (Dense)               (None, 10)                43210     \n",
            "                                                                 \n",
            "=================================================================\n",
            "Total params: 72,714\n",
            "Trainable params: 72,714\n",
            "Non-trainable params: 0\n",
            "_________________________________________________________________\n",
            "None\n"
          ]
        }
      ]
    },
    {
      "cell_type": "code",
      "source": [
        "# Model Training\n",
        "model.fit(X_train, y_train, validation_data=(X_val, y_val), batch_size=10, epochs=20)\n",
        "print(f\"Model Performance on Training Data: {model.evaluate(X_train,y_train)}\")"
      ],
      "metadata": {
        "colab": {
          "base_uri": "https://localhost:8080/"
        },
        "id": "vvGi6URt6KXq",
        "outputId": "d146259f-1514-4ad3-ccc6-33087a12fce1"
      },
      "execution_count": 7,
      "outputs": [
        {
          "output_type": "stream",
          "name": "stdout",
          "text": [
            "Epoch 1/20\n",
            "60/60 [==============================] - 12s 100ms/step - loss: 2.2482 - accuracy: 0.1920 - val_loss: 1.9818 - val_accuracy: 0.2550\n",
            "Epoch 2/20\n",
            "60/60 [==============================] - 4s 67ms/step - loss: 1.7729 - accuracy: 0.3756 - val_loss: 1.4775 - val_accuracy: 0.4750\n",
            "Epoch 3/20\n",
            "60/60 [==============================] - 4s 67ms/step - loss: 1.4634 - accuracy: 0.4775 - val_loss: 1.3688 - val_accuracy: 0.5150\n",
            "Epoch 4/20\n",
            "60/60 [==============================] - 5s 76ms/step - loss: 1.2667 - accuracy: 0.5710 - val_loss: 1.4231 - val_accuracy: 0.5150\n",
            "Epoch 5/20\n",
            "60/60 [==============================] - 4s 72ms/step - loss: 1.0713 - accuracy: 0.6260 - val_loss: 1.0870 - val_accuracy: 0.6300\n",
            "Epoch 6/20\n",
            "60/60 [==============================] - 4s 73ms/step - loss: 0.9572 - accuracy: 0.6845 - val_loss: 1.2864 - val_accuracy: 0.5800\n",
            "Epoch 7/20\n",
            "60/60 [==============================] - 5s 76ms/step - loss: 0.7842 - accuracy: 0.7129 - val_loss: 1.0569 - val_accuracy: 0.6650\n",
            "Epoch 8/20\n",
            "60/60 [==============================] - 4s 71ms/step - loss: 0.6654 - accuracy: 0.7746 - val_loss: 1.2080 - val_accuracy: 0.5700\n",
            "Epoch 9/20\n",
            "60/60 [==============================] - 4s 74ms/step - loss: 0.5550 - accuracy: 0.8130 - val_loss: 1.2524 - val_accuracy: 0.5800\n",
            "Epoch 10/20\n",
            "60/60 [==============================] - 4s 72ms/step - loss: 0.4052 - accuracy: 0.8681 - val_loss: 1.0762 - val_accuracy: 0.6100\n",
            "Epoch 11/20\n",
            "60/60 [==============================] - 4s 73ms/step - loss: 0.2989 - accuracy: 0.9082 - val_loss: 1.1141 - val_accuracy: 0.6450\n",
            "Epoch 12/20\n",
            "60/60 [==============================] - 4s 73ms/step - loss: 0.2464 - accuracy: 0.9299 - val_loss: 1.4146 - val_accuracy: 0.5900\n",
            "Epoch 13/20\n",
            "60/60 [==============================] - 4s 75ms/step - loss: 0.1831 - accuracy: 0.9399 - val_loss: 1.3432 - val_accuracy: 0.6150\n",
            "Epoch 14/20\n",
            "60/60 [==============================] - 4s 68ms/step - loss: 0.1601 - accuracy: 0.9549 - val_loss: 1.2540 - val_accuracy: 0.6500\n",
            "Epoch 15/20\n",
            "60/60 [==============================] - 4s 72ms/step - loss: 0.0994 - accuracy: 0.9816 - val_loss: 1.2632 - val_accuracy: 0.6350\n",
            "Epoch 16/20\n",
            "60/60 [==============================] - 4s 71ms/step - loss: 0.1182 - accuracy: 0.9666 - val_loss: 1.2235 - val_accuracy: 0.6600\n",
            "Epoch 17/20\n",
            "60/60 [==============================] - 4s 73ms/step - loss: 0.0841 - accuracy: 0.9866 - val_loss: 1.8439 - val_accuracy: 0.5550\n",
            "Epoch 18/20\n",
            "60/60 [==============================] - 4s 67ms/step - loss: 0.1481 - accuracy: 0.9699 - val_loss: 1.6766 - val_accuracy: 0.5950\n",
            "Epoch 19/20\n",
            "60/60 [==============================] - 4s 75ms/step - loss: 0.1275 - accuracy: 0.9699 - val_loss: 1.5657 - val_accuracy: 0.6550\n",
            "Epoch 20/20\n",
            "60/60 [==============================] - 4s 73ms/step - loss: 0.0665 - accuracy: 0.9866 - val_loss: 1.4908 - val_accuracy: 0.6500\n",
            "19/19 [==============================] - 2s 80ms/step - loss: 0.0491 - accuracy: 0.9883\n",
            "Model Performance on Training Data: [0.04907362535595894, 0.9883138537406921]\n"
          ]
        }
      ]
    },
    {
      "cell_type": "code",
      "source": [
        "pred = model.predict(X_test)\n",
        "pred = (pred>0.5)\n",
        "\n",
        "print(cr(y_test,pred))\n",
        "conf_m = cm(np.argmax(y_test,axis=1),np.argmax(pred,axis=1))\n",
        "print(conf_m)"
      ],
      "metadata": {
        "id": "OQTIc7Ob6Kgp",
        "colab": {
          "base_uri": "https://localhost:8080/"
        },
        "outputId": "a53b7204-67bb-4819-aa48-31be097fe4e3"
      },
      "execution_count": 8,
      "outputs": [
        {
          "output_type": "stream",
          "name": "stdout",
          "text": [
            "7/7 [==============================] - 1s 88ms/step\n",
            "              precision    recall  f1-score   support\n",
            "\n",
            "           0       0.59      0.73      0.66        26\n",
            "           1       0.94      1.00      0.97        16\n",
            "           2       0.30      0.27      0.29        11\n",
            "           3       0.61      0.70      0.65        20\n",
            "           4       0.95      0.70      0.81        27\n",
            "           5       0.64      0.75      0.69        12\n",
            "           6       0.94      0.71      0.81        21\n",
            "           7       0.68      0.72      0.70        18\n",
            "           8       0.78      0.58      0.67        24\n",
            "           9       0.65      0.52      0.58        25\n",
            "\n",
            "   micro avg       0.71      0.68      0.69       200\n",
            "   macro avg       0.71      0.67      0.68       200\n",
            "weighted avg       0.73      0.68      0.69       200\n",
            " samples avg       0.68      0.68      0.68       200\n",
            "\n",
            "[[20  0  1  1  0  2  0  0  0  2]\n",
            " [ 0 16  0  0  0  0  0  0  0  0]\n",
            " [ 6  0  3  0  0  1  0  0  0  1]\n",
            " [ 2  0  1 14  0  0  0  2  1  0]\n",
            " [ 4  0  0  2 19  0  0  0  2  0]\n",
            " [ 2  0  0  0  0  9  0  1  0  0]\n",
            " [ 1  0  1  0  0  0 15  0  0  4]\n",
            " [ 0  0  1  2  1  1  0 13  0  0]\n",
            " [ 3  1  0  4  0  0  0  2 14  0]\n",
            " [ 5  0  3  0  0  1  1  1  1 13]]\n"
          ]
        },
        {
          "output_type": "stream",
          "name": "stderr",
          "text": [
            "/usr/local/lib/python3.9/dist-packages/sklearn/metrics/_classification.py:1344: UndefinedMetricWarning: Precision and F-score are ill-defined and being set to 0.0 in samples with no predicted labels. Use `zero_division` parameter to control this behavior.\n",
            "  _warn_prf(average, modifier, msg_start, len(result))\n"
          ]
        }
      ]
    },
    {
      "cell_type": "code",
      "source": [
        "import seaborn as sns\n",
        "from seaborn import heatmap\n",
        "heatmap(conf_m,cmap=\"crest\",annot=True)\n",
        "plt.xticks(ticks = np.arange(0.5,10,1), labels=labels, rotation=90)\n",
        "plt.yticks(ticks = np.arange(0,10,1), labels=labels,rotation=0)\n",
        "plt.show()"
      ],
      "metadata": {
        "colab": {
          "base_uri": "https://localhost:8080/",
          "height": 481
        },
        "id": "nzhh3Gf87sSW",
        "outputId": "98637485-6305-4509-b721-b28c5a5ec948"
      },
      "execution_count": 9,
      "outputs": [
        {
          "output_type": "display_data",
          "data": {
            "text/plain": [
              "<Figure size 640x480 with 2 Axes>"
            ],
            "image/png": "[encoded data removed]"
          },
          "metadata": {}
        }
      ]
    },
    {
      "cell_type": "code",
      "source": [
        "class_acc = conf_m.diagonal()/conf_m.sum(axis=1)\n",
        "for i in range(len(labels)):\n",
        "  print(f\"Class Accuracy for {labels[i]}: {round(class_acc[i],2)}\")\n",
        "print(f\"\\n**Total Accuracy : {np.trace(conf_m)/np.sum(conf_m)}**\")"
      ],
      "metadata": {
        "id": "lHq_zahIbMmE",
        "colab": {
          "base_uri": "https://localhost:8080/"
        },
        "outputId": "cb83a60a-8aac-471a-bc5c-f3b315d1b873"
      },
      "execution_count": 10,
      "outputs": [
        {
          "output_type": "stream",
          "name": "stdout",
          "text": [
            "Class Accuracy for blues: 0.77\n",
            "Class Accuracy for classical: 1.0\n",
            "Class Accuracy for country: 0.27\n",
            "Class Accuracy for disco: 0.7\n",
            "Class Accuracy for hiphop: 0.7\n",
            "Class Accuracy for jazz: 0.75\n",
            "Class Accuracy for metal: 0.71\n",
            "Class Accuracy for pop: 0.72\n",
            "Class Accuracy for reggae: 0.58\n",
            "Class Accuracy for rock: 0.52\n",
            "\n",
            "**Total Accuracy : 0.68**\n"
          ]
        }
      ]
    }
  ]
}