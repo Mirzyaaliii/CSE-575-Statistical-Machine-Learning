{
  "nbformat": 4,
  "nbformat_minor": 0,
  "metadata": {
    "colab": {
      "provenance": []
    },
    "kernelspec": {
      "name": "python3",
      "display_name": "Python 3"
    },
    "language_info": {
      "name": "python"
    },
    "accelerator": "GPU",
    "gpuClass": "standard"
  },
  "cells": [
    {
      "cell_type": "code",
      "source": [
        "from google.colab import drive\n",
        "drive.mount('/gdrive')"
      ],
      "metadata": {
        "id": "Exl5Huiz8uHN",
        "colab": {
          "base_uri": "https://localhost:8080/"
        },
        "outputId": "ac770828-7176-412b-941f-8b844f2e993b"
      },
      "execution_count": 1,
      "outputs": [
        {
          "output_type": "stream",
          "name": "stdout",
          "text": [
            "Mounted at /gdrive\n"
          ]
        }
      ]
    },
    {
      "cell_type": "code",
      "source": [
        "%cd ../gdrive/MyDrive/CSE_575/"
      ],
      "metadata": {
        "colab": {
          "base_uri": "https://localhost:8080/"
        },
        "id": "e1uBqfe099BH",
        "outputId": "1a6f7691-56c9-4f73-db0e-f02dd74b5a25"
      },
      "execution_count": 2,
      "outputs": [
        {
          "output_type": "stream",
          "name": "stdout",
          "text": [
            "/gdrive/.shortcut-targets-by-id/1ZOjaaJR6FUgi-AiS0aWel7Gqn2TpkqgW/CSE_575\n"
          ]
        }
      ]
    },
    {
      "cell_type": "code",
      "execution_count": 3,
      "metadata": {
        "id": "bLyc4wLn5wl1"
      },
      "outputs": [],
      "source": [
        "# Importing Libraries\n",
        "import numpy as np\n",
        "import matplotlib.pyplot as plt\n",
        "from sklearn.preprocessing import OneHotEncoder\n",
        "from sklearn.model_selection import train_test_split\n",
        "from tensorflow.keras.models import Sequential\n",
        "from tensorflow.keras.layers import Dense, Conv2D, Flatten, MaxPool2D, Dropout, Activation \n",
        "from sklearn.metrics import classification_report as cr, confusion_matrix as cm"
      ]
    },
    {
      "cell_type": "code",
      "source": [
        "# Helper Functions\n",
        "def load_data():\n",
        "    ohe = OneHotEncoder(sparse_output=False)\n",
        "    X = np.load(\"X.npy\")[:,:,:,:3]\n",
        "    y = np.load(\"y.npy\")\n",
        "    y = ohe.fit_transform(y.reshape(-1,1))\n",
        "    labels = ohe.categories_[0]\n",
        "    # X_train, X_test, y_train, y_test = train_test_split(X,y, test_size=0.2,random_state=0)\n",
        "    X_train, X_test, y_train, y_test = train_test_split(X, y, test_size=0.4, random_state=0)\n",
        "    X_val, X_test, y_val, y_test = train_test_split(X_test, y_test, test_size=0.5, random_state=0)\n",
        "    return X_train, X_val, X_test, y_train, y_val, y_test, labels"
      ],
      "metadata": {
        "id": "FY3gJrhZ6BhH"
      },
      "execution_count": 4,
      "outputs": []
    },
    {
      "cell_type": "code",
      "source": [
        "# Loading Data\n",
        "X_train, X_val, X_test, y_train, y_val, y_test, labels = load_data()"
      ],
      "metadata": {
        "id": "HH2ahZXI6GCV"
      },
      "execution_count": 5,
      "outputs": []
    },
    {
      "cell_type": "code",
      "source": [
        "# Model Definition\n",
        "model_layers = [\n",
        "    Conv2D(64, (3, 3), input_shape=(288, 432, 3)),\n",
        "    MaxPool2D(pool_size=(3, 3)),\n",
        "\n",
        "    Conv2D(32, (3, 3)),\n",
        "    MaxPool2D(pool_size=(3, 3)),\n",
        "\n",
        "    Conv2D(32, (3, 3)),\n",
        "    MaxPool2D(pool_size=(3, 3)),\n",
        "\n",
        "    Dropout(0.3),\n",
        "    Flatten(),\n",
        "\n",
        "    Dense(10, activation=\"softmax\")\n",
        "]\n",
        "\n",
        "model = Sequential(model_layers)\n",
        "model.compile(loss=\"categorical_crossentropy\", optimizer=\"adam\", metrics=['accuracy'])\n",
        "print(model.summary())"
      ],
      "metadata": {
        "colab": {
          "base_uri": "https://localhost:8080/"
        },
        "id": "bSEq25kJ6Iyo",
        "outputId": "85293d5b-305b-4063-88ff-44a7b1ced239"
      },
      "execution_count": 6,
      "outputs": [
        {
          "output_type": "stream",
          "name": "stdout",
          "text": [
            "Model: \"sequential\"\n",
            "_________________________________________________________________\n",
            " Layer (type)                Output Shape              Param #   \n",
            "=================================================================\n",
            " conv2d (Conv2D)             (None, 286, 430, 64)      1792      \n",
            "                                                                 \n",
            " max_pooling2d (MaxPooling2D  (None, 95, 143, 64)      0         \n",
            " )                                                               \n",
            "                                                                 \n",
            " conv2d_1 (Conv2D)           (None, 93, 141, 32)       18464     \n",
            "                                                                 \n",
            " max_pooling2d_1 (MaxPooling  (None, 31, 47, 32)       0         \n",
            " 2D)                                                             \n",
            "                                                                 \n",
            " conv2d_2 (Conv2D)           (None, 29, 45, 32)        9248      \n",
            "                                                                 \n",
            " max_pooling2d_2 (MaxPooling  (None, 9, 15, 32)        0         \n",
            " 2D)                                                             \n",
            "                                                                 \n",
            " dropout (Dropout)           (None, 9, 15, 32)         0         \n",
            "                                                                 \n",
            " flatten (Flatten)           (None, 4320)              0         \n",
            "                                                                 \n",
            " dense (Dense)               (None, 10)                43210     \n",
            "                                                                 \n",
            "=================================================================\n",
            "Total params: 72,714\n",
            "Trainable params: 72,714\n",
            "Non-trainable params: 0\n",
            "_________________________________________________________________\n",
            "None\n"
          ]
        }
      ]
    },
    {
      "cell_type": "code",
      "source": [
        "# Model Training\n",
        "model.fit(X_train, y_train, validation_data=(X_val, y_val), batch_size=10, epochs=20)\n",
        "print(f\"Model Performance on Training Data: {model.evaluate(X_train,y_train)}\")"
      ],
      "metadata": {
        "colab": {
          "base_uri": "https://localhost:8080/"
        },
        "id": "vvGi6URt6KXq",
        "outputId": "3194f5ec-9b1f-4448-f312-61286b6bc7ee"
      },
      "execution_count": 7,
      "outputs": [
        {
          "output_type": "stream",
          "name": "stdout",
          "text": [
            "Epoch 1/20\n",
            "60/60 [==============================] - 17s 94ms/step - loss: 2.1997 - accuracy: 0.1903 - val_loss: 2.1218 - val_accuracy: 0.2550\n",
            "Epoch 2/20\n",
            "60/60 [==============================] - 4s 71ms/step - loss: 1.7781 - accuracy: 0.3773 - val_loss: 1.5889 - val_accuracy: 0.4150\n",
            "Epoch 3/20\n",
            "60/60 [==============================] - 4s 73ms/step - loss: 1.4697 - accuracy: 0.4641 - val_loss: 1.3906 - val_accuracy: 0.4850\n",
            "Epoch 4/20\n",
            "60/60 [==============================] - 4s 74ms/step - loss: 1.2077 - accuracy: 0.5843 - val_loss: 1.5260 - val_accuracy: 0.4900\n",
            "Epoch 5/20\n",
            "60/60 [==============================] - 5s 78ms/step - loss: 1.1387 - accuracy: 0.6110 - val_loss: 1.3003 - val_accuracy: 0.5200\n",
            "Epoch 6/20\n",
            "60/60 [==============================] - 4s 74ms/step - loss: 0.9688 - accuracy: 0.6678 - val_loss: 1.2341 - val_accuracy: 0.5550\n",
            "Epoch 7/20\n",
            "60/60 [==============================] - 4s 69ms/step - loss: 0.8064 - accuracy: 0.7312 - val_loss: 1.1868 - val_accuracy: 0.6250\n",
            "Epoch 8/20\n",
            "60/60 [==============================] - 4s 73ms/step - loss: 0.6518 - accuracy: 0.7780 - val_loss: 1.3591 - val_accuracy: 0.5800\n",
            "Epoch 9/20\n",
            "60/60 [==============================] - 4s 68ms/step - loss: 0.5243 - accuracy: 0.8280 - val_loss: 1.1706 - val_accuracy: 0.6250\n",
            "Epoch 10/20\n",
            "60/60 [==============================] - 5s 77ms/step - loss: 0.3597 - accuracy: 0.8881 - val_loss: 1.2354 - val_accuracy: 0.6500\n",
            "Epoch 11/20\n",
            "60/60 [==============================] - 5s 77ms/step - loss: 0.2809 - accuracy: 0.9165 - val_loss: 1.3106 - val_accuracy: 0.5900\n",
            "Epoch 12/20\n",
            "60/60 [==============================] - 4s 69ms/step - loss: 0.1924 - accuracy: 0.9499 - val_loss: 1.2885 - val_accuracy: 0.5950\n",
            "Epoch 13/20\n",
            "60/60 [==============================] - 4s 74ms/step - loss: 0.1505 - accuracy: 0.9599 - val_loss: 1.5027 - val_accuracy: 0.5700\n",
            "Epoch 14/20\n",
            "60/60 [==============================] - 4s 72ms/step - loss: 0.1002 - accuracy: 0.9816 - val_loss: 1.3970 - val_accuracy: 0.6050\n",
            "Epoch 15/20\n",
            "60/60 [==============================] - 4s 74ms/step - loss: 0.0719 - accuracy: 0.9833 - val_loss: 1.5243 - val_accuracy: 0.6350\n",
            "Epoch 16/20\n",
            "60/60 [==============================] - 4s 69ms/step - loss: 0.0797 - accuracy: 0.9783 - val_loss: 1.6273 - val_accuracy: 0.5850\n",
            "Epoch 17/20\n",
            "60/60 [==============================] - 4s 73ms/step - loss: 0.1756 - accuracy: 0.9516 - val_loss: 1.4931 - val_accuracy: 0.6000\n",
            "Epoch 18/20\n",
            "60/60 [==============================] - 4s 70ms/step - loss: 0.0889 - accuracy: 0.9716 - val_loss: 1.7901 - val_accuracy: 0.5550\n",
            "Epoch 19/20\n",
            "60/60 [==============================] - 4s 70ms/step - loss: 0.0543 - accuracy: 0.9850 - val_loss: 1.7305 - val_accuracy: 0.6150\n",
            "Epoch 20/20\n",
            "60/60 [==============================] - 5s 75ms/step - loss: 0.0614 - accuracy: 0.9883 - val_loss: 1.5787 - val_accuracy: 0.6400\n",
            "19/19 [==============================] - 3s 80ms/step - loss: 0.0148 - accuracy: 0.9983\n",
            "Model Performance on Training Data: [0.014760643243789673, 0.9983305335044861]\n"
          ]
        }
      ]
    },
    {
      "cell_type": "code",
      "source": [
        "pred = model.predict(X_test)\n",
        "pred = (pred>0.5)\n",
        "\n",
        "print(cr(y_test,pred))\n",
        "conf_m = cm(np.argmax(y_test,axis=1),np.argmax(pred,axis=1))\n",
        "print(conf_m)"
      ],
      "metadata": {
        "id": "OQTIc7Ob6Kgp",
        "colab": {
          "base_uri": "https://localhost:8080/"
        },
        "outputId": "5b3d9a35-0384-4f18-8b29-b154e9c37b0a"
      },
      "execution_count": 8,
      "outputs": [
        {
          "output_type": "stream",
          "name": "stdout",
          "text": [
            "7/7 [==============================] - 1s 95ms/step\n",
            "              precision    recall  f1-score   support\n",
            "\n",
            "           0       0.71      0.46      0.56        26\n",
            "           1       0.94      1.00      0.97        16\n",
            "           2       0.38      0.55      0.44        11\n",
            "           3       0.65      0.75      0.70        20\n",
            "           4       0.80      0.74      0.77        27\n",
            "           5       0.67      0.67      0.67        12\n",
            "           6       0.92      0.57      0.71        21\n",
            "           7       0.85      0.61      0.71        18\n",
            "           8       0.79      0.62      0.70        24\n",
            "           9       0.52      0.60      0.56        25\n",
            "\n",
            "   micro avg       0.71      0.65      0.68       200\n",
            "   macro avg       0.72      0.66      0.68       200\n",
            "weighted avg       0.73      0.65      0.68       200\n",
            " samples avg       0.65      0.65      0.65       200\n",
            "\n",
            "[[14  0  4  1  0  3  0  0  1  3]\n",
            " [ 0 16  0  0  0  0  0  0  0  0]\n",
            " [ 3  0  6  0  0  0  0  0  1  1]\n",
            " [ 2  0  0 15  0  0  0  0  0  3]\n",
            " [ 2  0  0  1 20  0  0  1  2  1]\n",
            " [ 2  0  1  0  0  8  0  1  0  0]\n",
            " [ 2  0  1  1  1  0 12  0  0  4]\n",
            " [ 1  0  1  1  2  0  0 11  0  2]\n",
            " [ 2  1  1  3  1  1  0  0 15  0]\n",
            " [ 5  0  2  1  1  0  1  0  0 15]]\n"
          ]
        },
        {
          "output_type": "stream",
          "name": "stderr",
          "text": [
            "/usr/local/lib/python3.9/dist-packages/sklearn/metrics/_classification.py:1344: UndefinedMetricWarning: Precision and F-score are ill-defined and being set to 0.0 in samples with no predicted labels. Use `zero_division` parameter to control this behavior.\n",
            "  _warn_prf(average, modifier, msg_start, len(result))\n"
          ]
        }
      ]
    },
    {
      "cell_type": "code",
      "source": [
        "import seaborn as sns\n",
        "from seaborn import heatmap\n",
        "heatmap(conf_m,cmap=\"crest\",annot=True)\n",
        "plt.xticks(ticks = np.arange(0.5,10,1), labels=labels, rotation=90)\n",
        "plt.yticks(ticks = np.arange(0.5,10,1), labels=labels,rotation=0)\n",
        "plt.savefig('/content/CNN_Confusion_Matrix.png', dpi=300)"
      ],
      "metadata": {
        "colab": {
          "base_uri": "https://localhost:8080/",
          "height": 480
        },
        "id": "nzhh3Gf87sSW",
        "outputId": "a12b6495-c8ad-468d-a515-dec662ed7674"
      },
      "execution_count": 9,
      "outputs": [
        {
          "output_type": "display_data",
          "data": {
            "text/plain": [
              "<Figure size 640x480 with 2 Axes>"
            ],
            "image/png": "[encoded data removed]"
          },
          "metadata": {}
        }
      ]
    },
    {
      "cell_type": "code",
      "source": [
        "class_acc = conf_m.diagonal()/conf_m.sum(axis=1)\n",
        "for i in range(len(labels)):\n",
        "  print(f\"Class Accuracy for {labels[i]}: {round(class_acc[i],2)}\")\n",
        "print(f\"\\n**Total Accuracy : {np.trace(conf_m)/np.sum(conf_m)}**\")"
      ],
      "metadata": {
        "id": "lHq_zahIbMmE",
        "colab": {
          "base_uri": "https://localhost:8080/"
        },
        "outputId": "e5279a14-f6ea-4ef3-f57d-f88125f45c00"
      },
      "execution_count": 10,
      "outputs": [
        {
          "output_type": "stream",
          "name": "stdout",
          "text": [
            "Class Accuracy for blues: 0.54\n",
            "Class Accuracy for classical: 1.0\n",
            "Class Accuracy for country: 0.55\n",
            "Class Accuracy for disco: 0.75\n",
            "Class Accuracy for hiphop: 0.74\n",
            "Class Accuracy for jazz: 0.67\n",
            "Class Accuracy for metal: 0.57\n",
            "Class Accuracy for pop: 0.61\n",
            "Class Accuracy for reggae: 0.62\n",
            "Class Accuracy for rock: 0.6\n",
            "\n",
            "**Total Accuracy : 0.66**\n"
          ]
        }
      ]
    },
    {
      "cell_type": "code",
      "source": [
        "model.save('/content/CNN.h5')"
      ],
      "metadata": {
        "id": "kjnkHUgknGxg"
      },
      "execution_count": 11,
      "outputs": []
    }
  ]
}