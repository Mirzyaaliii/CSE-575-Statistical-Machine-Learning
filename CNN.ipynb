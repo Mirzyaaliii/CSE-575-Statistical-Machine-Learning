{
  "nbformat": 4,
  "nbformat_minor": 0,
  "metadata": {
    "colab": {
      "provenance": []
    },
    "kernelspec": {
      "name": "python3",
      "display_name": "Python 3"
    },
    "language_info": {
      "name": "python"
    },
    "accelerator": "GPU",
    "gpuClass": "standard"
  },
  "cells": [
    {
      "cell_type": "code",
      "source": [
        "from google.colab import drive\n",
        "drive.mount('/gdrive')"
      ],
      "metadata": {
        "id": "Exl5Huiz8uHN",
        "colab": {
          "base_uri": "https://localhost:8080/"
        },
        "outputId": "2c5eaf3a-2eda-44bb-ea48-36f4ff0c104c"
      },
      "execution_count": 12,
      "outputs": [
        {
          "output_type": "stream",
          "name": "stdout",
          "text": [
            "Drive already mounted at /gdrive; to attempt to forcibly remount, call drive.mount(\"/gdrive\", force_remount=True).\n"
          ]
        }
      ]
    },
    {
      "cell_type": "code",
      "source": [
        "%cd ../gdrive/MyDrive/CSE_575/"
      ],
      "metadata": {
        "colab": {
          "base_uri": "https://localhost:8080/"
        },
        "id": "e1uBqfe099BH",
        "outputId": "135192c9-4217-400d-b36f-0170d3146f0d"
      },
      "execution_count": 13,
      "outputs": [
        {
          "output_type": "stream",
          "name": "stdout",
          "text": [
            "[Errno 2] No such file or directory: '../gdrive/MyDrive/CSE_575/'\n",
            "/gdrive/.shortcut-targets-by-id/1ZOjaaJR6FUgi-AiS0aWel7Gqn2TpkqgW/CSE_575\n"
          ]
        }
      ]
    },
    {
      "cell_type": "code",
      "execution_count": 14,
      "metadata": {
        "id": "bLyc4wLn5wl1"
      },
      "outputs": [],
      "source": [
        "# Importing Libraries\n",
        "import numpy as np\n",
        "import matplotlib.pyplot as plt\n",
        "from sklearn.preprocessing import OneHotEncoder\n",
        "from sklearn.model_selection import train_test_split\n",
        "from tensorflow.keras.models import Sequential\n",
        "from tensorflow.keras.layers import Dense, Conv2D, Flatten, MaxPool2D, Dropout, Activation \n",
        "from sklearn.metrics import classification_report as cr, confusion_matrix as cm"
      ]
    },
    {
      "cell_type": "code",
      "source": [
        "# Helper Functions\n",
        "def load_data():\n",
        "    ohe = OneHotEncoder(sparse_output=False)\n",
        "    X = np.load(\"X.npy\")[:,:,:,:3]\n",
        "    y = np.load(\"y.npy\")\n",
        "    y = ohe.fit_transform(y.reshape(-1,1))\n",
        "    labels = ohe.categories_[0]\n",
        "    # X_train, X_test, y_train, y_test = train_test_split(X,y, test_size=0.2,random_state=0)\n",
        "    X_train, X_test, y_train, y_test = train_test_split(X, y, test_size=0.4, random_state=0)\n",
        "    X_val, X_test, y_val, y_test = train_test_split(X_test, y_test, test_size=0.5, random_state=0)\n",
        "    return X_train, X_val, X_test, y_train, y_val, y_test, labels"
      ],
      "metadata": {
        "id": "FY3gJrhZ6BhH"
      },
      "execution_count": 15,
      "outputs": []
    },
    {
      "cell_type": "code",
      "source": [
        "# Loading Data\n",
        "X_train, X_val, X_test, y_train, y_val, y_test, labels = load_data()"
      ],
      "metadata": {
        "id": "HH2ahZXI6GCV"
      },
      "execution_count": 16,
      "outputs": []
    },
    {
      "cell_type": "code",
      "source": [
        "# Model Definition\n",
        "model_layers = [\n",
        "    Conv2D(64, (3, 3), input_shape=(288, 432, 3)),\n",
        "    MaxPool2D(pool_size=(3, 3)),\n",
        "\n",
        "    Conv2D(32, (3, 3)),\n",
        "    MaxPool2D(pool_size=(3, 3)),\n",
        "\n",
        "    Conv2D(32, (3, 3)),\n",
        "    MaxPool2D(pool_size=(3, 3)),\n",
        "\n",
        "    Dropout(0.3),\n",
        "    Flatten(),\n",
        "\n",
        "    Dense(10, activation=\"softmax\")\n",
        "]\n",
        "\n",
        "model = Sequential(model_layers)\n",
        "model.compile(loss=\"categorical_crossentropy\", optimizer=\"adam\", metrics=['accuracy'])\n",
        "print(model.summary())"
      ],
      "metadata": {
        "colab": {
          "base_uri": "https://localhost:8080/"
        },
        "id": "bSEq25kJ6Iyo",
        "outputId": "ee18e562-250c-4f74-81ce-8d7ab32385a3"
      },
      "execution_count": 17,
      "outputs": [
        {
          "output_type": "stream",
          "name": "stdout",
          "text": [
            "Model: \"sequential_1\"\n",
            "_________________________________________________________________\n",
            " Layer (type)                Output Shape              Param #   \n",
            "=================================================================\n",
            " conv2d_3 (Conv2D)           (None, 286, 430, 64)      1792      \n",
            "                                                                 \n",
            " max_pooling2d_3 (MaxPooling  (None, 95, 143, 64)      0         \n",
            " 2D)                                                             \n",
            "                                                                 \n",
            " conv2d_4 (Conv2D)           (None, 93, 141, 32)       18464     \n",
            "                                                                 \n",
            " max_pooling2d_4 (MaxPooling  (None, 31, 47, 32)       0         \n",
            " 2D)                                                             \n",
            "                                                                 \n",
            " conv2d_5 (Conv2D)           (None, 29, 45, 32)        9248      \n",
            "                                                                 \n",
            " max_pooling2d_5 (MaxPooling  (None, 9, 15, 32)        0         \n",
            " 2D)                                                             \n",
            "                                                                 \n",
            " dropout_1 (Dropout)         (None, 9, 15, 32)         0         \n",
            "                                                                 \n",
            " flatten_1 (Flatten)         (None, 4320)              0         \n",
            "                                                                 \n",
            " dense_1 (Dense)             (None, 10)                43210     \n",
            "                                                                 \n",
            "=================================================================\n",
            "Total params: 72,714\n",
            "Trainable params: 72,714\n",
            "Non-trainable params: 0\n",
            "_________________________________________________________________\n",
            "None\n"
          ]
        }
      ]
    },
    {
      "cell_type": "code",
      "source": [
        "# Model Training\n",
        "model.fit(X_train, y_train, validation_data=(X_val, y_val), batch_size=10, epochs=20)\n",
        "print(f\"Model Performance on Training Data: {model.evaluate(X_train,y_train)}\")"
      ],
      "metadata": {
        "colab": {
          "base_uri": "https://localhost:8080/"
        },
        "id": "vvGi6URt6KXq",
        "outputId": "da6a3b15-f40c-4c63-f8ad-6e8e6068f015"
      },
      "execution_count": 18,
      "outputs": [
        {
          "output_type": "stream",
          "name": "stdout",
          "text": [
            "Epoch 1/20\n",
            "60/60 [==============================] - 6s 81ms/step - loss: 2.1912 - accuracy: 0.1987 - val_loss: 1.9623 - val_accuracy: 0.2550\n",
            "Epoch 2/20\n",
            "60/60 [==============================] - 4s 72ms/step - loss: 1.8211 - accuracy: 0.3689 - val_loss: 1.7974 - val_accuracy: 0.3700\n",
            "Epoch 3/20\n",
            "60/60 [==============================] - 4s 71ms/step - loss: 1.5340 - accuracy: 0.4574 - val_loss: 1.6060 - val_accuracy: 0.3900\n",
            "Epoch 4/20\n",
            "60/60 [==============================] - 4s 69ms/step - loss: 1.3353 - accuracy: 0.5242 - val_loss: 1.2964 - val_accuracy: 0.5600\n",
            "Epoch 5/20\n",
            "60/60 [==============================] - 5s 76ms/step - loss: 1.0635 - accuracy: 0.6444 - val_loss: 1.1549 - val_accuracy: 0.6100\n",
            "Epoch 6/20\n",
            "60/60 [==============================] - 4s 71ms/step - loss: 0.8927 - accuracy: 0.6728 - val_loss: 1.0420 - val_accuracy: 0.6500\n",
            "Epoch 7/20\n",
            "60/60 [==============================] - 4s 74ms/step - loss: 0.7787 - accuracy: 0.7462 - val_loss: 1.4181 - val_accuracy: 0.5800\n",
            "Epoch 8/20\n",
            "60/60 [==============================] - 4s 72ms/step - loss: 0.6508 - accuracy: 0.7813 - val_loss: 1.2766 - val_accuracy: 0.6000\n",
            "Epoch 9/20\n",
            "60/60 [==============================] - 4s 71ms/step - loss: 0.4887 - accuracy: 0.8431 - val_loss: 1.2142 - val_accuracy: 0.5700\n",
            "Epoch 10/20\n",
            "60/60 [==============================] - 4s 74ms/step - loss: 0.3607 - accuracy: 0.8798 - val_loss: 1.1665 - val_accuracy: 0.6200\n",
            "Epoch 11/20\n",
            "60/60 [==============================] - 4s 69ms/step - loss: 0.2996 - accuracy: 0.9165 - val_loss: 1.2596 - val_accuracy: 0.6300\n",
            "Epoch 12/20\n",
            "60/60 [==============================] - 4s 73ms/step - loss: 0.1785 - accuracy: 0.9599 - val_loss: 1.4250 - val_accuracy: 0.5950\n",
            "Epoch 13/20\n",
            "60/60 [==============================] - 4s 68ms/step - loss: 0.1658 - accuracy: 0.9466 - val_loss: 1.2494 - val_accuracy: 0.6200\n",
            "Epoch 14/20\n",
            "60/60 [==============================] - 4s 69ms/step - loss: 0.1020 - accuracy: 0.9716 - val_loss: 1.4012 - val_accuracy: 0.6150\n",
            "Epoch 15/20\n",
            "60/60 [==============================] - 5s 77ms/step - loss: 0.1464 - accuracy: 0.9633 - val_loss: 1.6109 - val_accuracy: 0.5900\n",
            "Epoch 16/20\n",
            "60/60 [==============================] - 4s 74ms/step - loss: 0.1519 - accuracy: 0.9599 - val_loss: 1.5228 - val_accuracy: 0.6250\n",
            "Epoch 17/20\n",
            "60/60 [==============================] - 4s 74ms/step - loss: 0.1165 - accuracy: 0.9633 - val_loss: 1.5992 - val_accuracy: 0.6000\n",
            "Epoch 18/20\n",
            "60/60 [==============================] - 4s 73ms/step - loss: 0.0539 - accuracy: 0.9883 - val_loss: 1.5902 - val_accuracy: 0.6250\n",
            "Epoch 19/20\n",
            "60/60 [==============================] - 4s 69ms/step - loss: 0.0645 - accuracy: 0.9866 - val_loss: 1.6756 - val_accuracy: 0.5950\n",
            "Epoch 20/20\n",
            "60/60 [==============================] - 4s 69ms/step - loss: 0.0414 - accuracy: 0.9933 - val_loss: 1.6143 - val_accuracy: 0.6200\n",
            "19/19 [==============================] - 1s 61ms/step - loss: 0.0264 - accuracy: 0.9967\n",
            "Model Performance on Training Data: [0.02644485980272293, 0.9966611266136169]\n"
          ]
        }
      ]
    },
    {
      "cell_type": "code",
      "source": [
        "pred = model.predict(X_test)\n",
        "pred = (pred>0.5)\n",
        "\n",
        "print(cr(y_test,pred))\n",
        "conf_m = cm(np.argmax(y_test,axis=1),np.argmax(pred,axis=1))\n",
        "print(conf_m)"
      ],
      "metadata": {
        "id": "OQTIc7Ob6Kgp",
        "colab": {
          "base_uri": "https://localhost:8080/"
        },
        "outputId": "20b56e26-83ce-4924-e5c3-0dce83111045"
      },
      "execution_count": 19,
      "outputs": [
        {
          "output_type": "stream",
          "name": "stdout",
          "text": [
            "7/7 [==============================] - 0s 50ms/step\n",
            "              precision    recall  f1-score   support\n",
            "\n",
            "           0       0.65      0.42      0.51        26\n",
            "           1       0.89      1.00      0.94        16\n",
            "           2       0.50      0.36      0.42        11\n",
            "           3       0.59      0.80      0.68        20\n",
            "           4       1.00      0.63      0.77        27\n",
            "           5       0.70      0.58      0.64        12\n",
            "           6       0.73      0.76      0.74        21\n",
            "           7       0.73      0.44      0.55        18\n",
            "           8       0.47      0.58      0.52        24\n",
            "           9       0.46      0.48      0.47        25\n",
            "\n",
            "   micro avg       0.65      0.60      0.63       200\n",
            "   macro avg       0.67      0.61      0.62       200\n",
            "weighted avg       0.67      0.60      0.62       200\n",
            " samples avg       0.60      0.60      0.60       200\n",
            "\n",
            "[[15  1  1  1  0  1  2  0  2  3]\n",
            " [ 0 16  0  0  0  0  0  0  0  0]\n",
            " [ 3  0  4  0  0  1  0  0  1  2]\n",
            " [ 1  0  0 16  0  0  0  0  2  1]\n",
            " [ 2  0  0  1 17  0  1  1  4  1]\n",
            " [ 3  0  0  0  0  7  0  1  1  0]\n",
            " [ 1  0  0  0  0  0 16  0  0  4]\n",
            " [ 0  0  1  3  0  0  0  8  4  2]\n",
            " [ 2  1  1  4  0  0  0  1 14  1]\n",
            " [ 4  0  1  2  0  1  3  0  2 12]]\n"
          ]
        },
        {
          "output_type": "stream",
          "name": "stderr",
          "text": [
            "/usr/local/lib/python3.9/dist-packages/sklearn/metrics/_classification.py:1344: UndefinedMetricWarning: Precision and F-score are ill-defined and being set to 0.0 in samples with no predicted labels. Use `zero_division` parameter to control this behavior.\n",
            "  _warn_prf(average, modifier, msg_start, len(result))\n"
          ]
        }
      ]
    },
    {
      "cell_type": "code",
      "source": [
        "import seaborn as sns\n",
        "from seaborn import heatmap\n",
        "heatmap(conf_m,cmap=\"crest\",annot=True)\n",
        "plt.xticks(ticks = np.arange(0.5,10,1), labels=labels, rotation=90)\n",
        "plt.yticks(ticks = np.arange(0,10,1), labels=labels,rotation=0)\n",
        "plt.savefig('/content/CNN_Confusion_Matrix.png', dpi=300)"
      ],
      "metadata": {
        "colab": {
          "base_uri": "https://localhost:8080/",
          "height": 481
        },
        "id": "nzhh3Gf87sSW",
        "outputId": "08fb0328-e153-4d76-a8bd-0c55180924fd"
      },
      "execution_count": 20,
      "outputs": [
        {
          "output_type": "display_data",
          "data": {
            "text/plain": [
              "<Figure size 640x480 with 2 Axes>"
            ],
            "image/png": "[encoded data removed]"
          },
          "metadata": {}
        }
      ]
    },
    {
      "cell_type": "code",
      "source": [
        "class_acc = conf_m.diagonal()/conf_m.sum(axis=1)\n",
        "for i in range(len(labels)):\n",
        "  print(f\"Class Accuracy for {labels[i]}: {round(class_acc[i],2)}\")\n",
        "print(f\"\\n**Total Accuracy : {np.trace(conf_m)/np.sum(conf_m)}**\")"
      ],
      "metadata": {
        "id": "lHq_zahIbMmE",
        "colab": {
          "base_uri": "https://localhost:8080/"
        },
        "outputId": "96928490-c694-48dd-8dc8-1f01e60cbf0e"
      },
      "execution_count": 21,
      "outputs": [
        {
          "output_type": "stream",
          "name": "stdout",
          "text": [
            "Class Accuracy for blues: 0.58\n",
            "Class Accuracy for classical: 1.0\n",
            "Class Accuracy for country: 0.36\n",
            "Class Accuracy for disco: 0.8\n",
            "Class Accuracy for hiphop: 0.63\n",
            "Class Accuracy for jazz: 0.58\n",
            "Class Accuracy for metal: 0.76\n",
            "Class Accuracy for pop: 0.44\n",
            "Class Accuracy for reggae: 0.58\n",
            "Class Accuracy for rock: 0.48\n",
            "\n",
            "**Total Accuracy : 0.625**\n"
          ]
        }
      ]
    },
    {
      "cell_type": "code",
      "source": [
        "model.save('/content/CNN.h5')"
      ],
      "metadata": {
        "id": "kjnkHUgknGxg"
      },
      "execution_count": 22,
      "outputs": []
    }
  ]
}