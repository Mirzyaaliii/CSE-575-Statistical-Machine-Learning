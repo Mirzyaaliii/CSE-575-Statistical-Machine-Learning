{
  "nbformat": 4,
  "nbformat_minor": 0,
  "metadata": {
    "colab": {
      "provenance": []
    },
    "kernelspec": {
      "name": "python3",
      "display_name": "Python 3"
    },
    "language_info": {
      "name": "python"
    },
    "accelerator": "GPU",
    "gpuClass": "standard"
  },
  "cells": [
    {
      "cell_type": "code",
      "source": [
        "from google.colab import drive\n",
        "drive.mount('/gdrive')"
      ],
      "metadata": {
        "id": "Exl5Huiz8uHN",
        "colab": {
          "base_uri": "https://localhost:8080/"
        },
        "outputId": "0c9589a0-63e8-4565-8240-4958a3fa7503"
      },
      "execution_count": 1,
      "outputs": [
        {
          "output_type": "stream",
          "name": "stdout",
          "text": [
            "Drive already mounted at /gdrive; to attempt to forcibly remount, call drive.mount(\"/gdrive\", force_remount=True).\n"
          ]
        }
      ]
    },
    {
      "cell_type": "code",
      "source": [
        "%cd ../gdrive/MyDrive/CSE_575/"
      ],
      "metadata": {
        "colab": {
          "base_uri": "https://localhost:8080/"
        },
        "id": "e1uBqfe099BH",
        "outputId": "ab537763-ed66-4108-c6c7-aef4f7d68bc9"
      },
      "execution_count": 2,
      "outputs": [
        {
          "output_type": "stream",
          "name": "stdout",
          "text": [
            "/gdrive/MyDrive/CSE_575\n"
          ]
        }
      ]
    },
    {
      "cell_type": "code",
      "execution_count": 3,
      "metadata": {
        "id": "bLyc4wLn5wl1"
      },
      "outputs": [],
      "source": [
        "# Importing Libraries\n",
        "import numpy as np\n",
        "import matplotlib.pyplot as plt\n",
        "from sklearn.preprocessing import OneHotEncoder\n",
        "from sklearn.model_selection import train_test_split\n",
        "from tensorflow.keras.models import Sequential\n",
        "from tensorflow.keras.layers import Dense, Conv2D, Flatten, MaxPool2D, Dropout, Activation \n",
        "from sklearn.metrics import classification_report as cr, confusion_matrix as cm"
      ]
    },
    {
      "cell_type": "code",
      "source": [
        "# Helper Functions\n",
        "def load_data():\n",
        "    ohe = OneHotEncoder(sparse_output=False)\n",
        "    X = np.load(\"X.npy\")[:,:,:,:3]\n",
        "    y = np.load(\"y.npy\")\n",
        "    y = ohe.fit_transform(y.reshape(-1,1))\n",
        "    labels = ohe.categories_[0]\n",
        "    X_train, X_test, y_train, y_test = train_test_split(X,y, test_size=0.2,random_state=0)\n",
        "    return X_train, X_test, y_train, y_test, labels"
      ],
      "metadata": {
        "id": "FY3gJrhZ6BhH"
      },
      "execution_count": 4,
      "outputs": []
    },
    {
      "cell_type": "code",
      "source": [
        "# Loading Data\n",
        "X_train, X_test, y_train, y_test, labels = load_data()"
      ],
      "metadata": {
        "id": "HH2ahZXI6GCV"
      },
      "execution_count": 5,
      "outputs": []
    },
    {
      "cell_type": "code",
      "source": [
        "# Model Definition\n",
        "model_layers = [\n",
        "    Conv2D(64, (3, 3), input_shape=(288, 432, 3)),\n",
        "    MaxPool2D(pool_size=(3, 3)),\n",
        "\n",
        "    Conv2D(32, (3, 3)),\n",
        "    MaxPool2D(pool_size=(3, 3)),\n",
        "\n",
        "    Conv2D(32, (3, 3)),\n",
        "    MaxPool2D(pool_size=(3, 3)),\n",
        "\n",
        "    Dropout(0.3),\n",
        "    Flatten(),\n",
        "\n",
        "    Dense(10, activation=\"softmax\")\n",
        "]\n",
        "\n",
        "model = Sequential(model_layers)\n",
        "model.compile(loss=\"categorical_crossentropy\", optimizer=\"adam\", metrics=['accuracy'])\n",
        "print(model.summary())"
      ],
      "metadata": {
        "colab": {
          "base_uri": "https://localhost:8080/"
        },
        "id": "bSEq25kJ6Iyo",
        "outputId": "4cd7dfe8-d8f2-40eb-c377-31b6b7d03f80"
      },
      "execution_count": 6,
      "outputs": [
        {
          "output_type": "stream",
          "name": "stdout",
          "text": [
            "Model: \"sequential\"\n",
            "_________________________________________________________________\n",
            " Layer (type)                Output Shape              Param #   \n",
            "=================================================================\n",
            " conv2d (Conv2D)             (None, 286, 430, 64)      1792      \n",
            "                                                                 \n",
            " max_pooling2d (MaxPooling2D  (None, 95, 143, 64)      0         \n",
            " )                                                               \n",
            "                                                                 \n",
            " conv2d_1 (Conv2D)           (None, 93, 141, 32)       18464     \n",
            "                                                                 \n",
            " max_pooling2d_1 (MaxPooling  (None, 31, 47, 32)       0         \n",
            " 2D)                                                             \n",
            "                                                                 \n",
            " conv2d_2 (Conv2D)           (None, 29, 45, 32)        9248      \n",
            "                                                                 \n",
            " max_pooling2d_2 (MaxPooling  (None, 9, 15, 32)        0         \n",
            " 2D)                                                             \n",
            "                                                                 \n",
            " dropout (Dropout)           (None, 9, 15, 32)         0         \n",
            "                                                                 \n",
            " flatten (Flatten)           (None, 4320)              0         \n",
            "                                                                 \n",
            " dense (Dense)               (None, 10)                43210     \n",
            "                                                                 \n",
            "=================================================================\n",
            "Total params: 72,714\n",
            "Trainable params: 72,714\n",
            "Non-trainable params: 0\n",
            "_________________________________________________________________\n",
            "None\n"
          ]
        }
      ]
    },
    {
      "cell_type": "code",
      "source": [
        "# Model Training\n",
        "model.fit(X_train, y_train, batch_size=10, epochs=20, validation_split=0.2)\n",
        "print(f\"Model Performance on Training Data: {model.evaluate(X_train,y_train)}\")"
      ],
      "metadata": {
        "colab": {
          "base_uri": "https://localhost:8080/"
        },
        "id": "vvGi6URt6KXq",
        "outputId": "4613b237-d04a-422c-a54c-4bc5b59f3ac4"
      },
      "execution_count": 7,
      "outputs": [
        {
          "output_type": "stream",
          "name": "stdout",
          "text": [
            "Epoch 1/20\n",
            "64/64 [==============================] - 17s 93ms/step - loss: 2.2052 - accuracy: 0.1862 - val_loss: 2.0829 - val_accuracy: 0.2250\n",
            "Epoch 2/20\n",
            "64/64 [==============================] - 4s 67ms/step - loss: 1.8332 - accuracy: 0.3302 - val_loss: 1.6442 - val_accuracy: 0.4062\n",
            "Epoch 3/20\n",
            "64/64 [==============================] - 4s 67ms/step - loss: 1.4722 - accuracy: 0.4648 - val_loss: 1.4878 - val_accuracy: 0.4625\n",
            "Epoch 4/20\n",
            "64/64 [==============================] - 5s 70ms/step - loss: 1.1754 - accuracy: 0.5978 - val_loss: 1.5279 - val_accuracy: 0.4812\n",
            "Epoch 5/20\n",
            "64/64 [==============================] - 4s 68ms/step - loss: 1.0959 - accuracy: 0.6291 - val_loss: 1.3818 - val_accuracy: 0.5375\n",
            "Epoch 6/20\n",
            "64/64 [==============================] - 4s 67ms/step - loss: 0.8666 - accuracy: 0.7261 - val_loss: 1.3270 - val_accuracy: 0.5750\n",
            "Epoch 7/20\n",
            "64/64 [==============================] - 5s 75ms/step - loss: 0.7353 - accuracy: 0.7543 - val_loss: 1.6551 - val_accuracy: 0.4625\n",
            "Epoch 8/20\n",
            "64/64 [==============================] - 4s 67ms/step - loss: 0.6016 - accuracy: 0.7872 - val_loss: 1.3758 - val_accuracy: 0.5312\n",
            "Epoch 9/20\n",
            "64/64 [==============================] - 4s 68ms/step - loss: 0.4701 - accuracy: 0.8419 - val_loss: 1.3563 - val_accuracy: 0.5813\n",
            "Epoch 10/20\n",
            "64/64 [==============================] - 5s 76ms/step - loss: 0.3446 - accuracy: 0.8858 - val_loss: 1.3752 - val_accuracy: 0.6313\n",
            "Epoch 11/20\n",
            "64/64 [==============================] - 4s 68ms/step - loss: 0.2719 - accuracy: 0.9218 - val_loss: 1.3653 - val_accuracy: 0.6062\n",
            "Epoch 12/20\n",
            "64/64 [==============================] - 4s 67ms/step - loss: 0.1731 - accuracy: 0.9562 - val_loss: 1.4079 - val_accuracy: 0.6125\n",
            "Epoch 13/20\n",
            "64/64 [==============================] - 5s 76ms/step - loss: 0.1335 - accuracy: 0.9640 - val_loss: 1.4284 - val_accuracy: 0.5938\n",
            "Epoch 14/20\n",
            "64/64 [==============================] - 4s 68ms/step - loss: 0.1196 - accuracy: 0.9750 - val_loss: 1.4476 - val_accuracy: 0.6250\n",
            "Epoch 15/20\n",
            "64/64 [==============================] - 5s 75ms/step - loss: 0.0783 - accuracy: 0.9828 - val_loss: 1.5908 - val_accuracy: 0.6438\n",
            "Epoch 16/20\n",
            "64/64 [==============================] - 5s 71ms/step - loss: 0.0593 - accuracy: 0.9828 - val_loss: 1.7024 - val_accuracy: 0.6000\n",
            "Epoch 17/20\n",
            "64/64 [==============================] - 4s 67ms/step - loss: 0.0421 - accuracy: 0.9906 - val_loss: 1.8773 - val_accuracy: 0.5938\n",
            "Epoch 18/20\n",
            "64/64 [==============================] - 4s 68ms/step - loss: 0.0540 - accuracy: 0.9844 - val_loss: 2.0036 - val_accuracy: 0.6062\n",
            "Epoch 19/20\n",
            "64/64 [==============================] - 5s 76ms/step - loss: 0.0435 - accuracy: 0.9922 - val_loss: 1.9197 - val_accuracy: 0.6250\n",
            "Epoch 20/20\n",
            "64/64 [==============================] - 4s 70ms/step - loss: 0.0407 - accuracy: 0.9937 - val_loss: 1.8967 - val_accuracy: 0.6438\n",
            "25/25 [==============================] - 3s 79ms/step - loss: 0.4043 - accuracy: 0.9262\n",
            "Model Performance on Training Data: [0.4042513072490692, 0.9261577129364014]\n"
          ]
        }
      ]
    },
    {
      "cell_type": "code",
      "source": [
        "pred = model.predict(X_test)\n",
        "pred = (pred>0.5)\n",
        "\n",
        "print(cr(y_test,pred))\n",
        "conf_m = cm(np.argmax(y_test,axis=1),np.argmax(pred,axis=1))\n",
        "print(conf_m)"
      ],
      "metadata": {
        "id": "OQTIc7Ob6Kgp",
        "colab": {
          "base_uri": "https://localhost:8080/"
        },
        "outputId": "7aabbd7c-d5da-486f-beb1-fe5e3301b347"
      },
      "execution_count": 8,
      "outputs": [
        {
          "output_type": "stream",
          "name": "stdout",
          "text": [
            "7/7 [==============================] - 1s 85ms/step\n",
            "              precision    recall  f1-score   support\n",
            "\n",
            "           0       0.45      0.71      0.56        14\n",
            "           1       0.79      1.00      0.88        11\n",
            "           2       0.61      0.54      0.57        26\n",
            "           3       0.60      0.62      0.61        24\n",
            "           4       0.81      0.63      0.71        27\n",
            "           5       0.82      0.88      0.85        16\n",
            "           6       1.00      0.83      0.91        18\n",
            "           7       0.80      0.35      0.48        23\n",
            "           8       0.83      0.48      0.61        21\n",
            "           9       0.50      0.65      0.57        20\n",
            "\n",
            "   micro avg       0.69      0.64      0.66       200\n",
            "   macro avg       0.72      0.67      0.67       200\n",
            "weighted avg       0.72      0.64      0.66       200\n",
            " samples avg       0.64      0.64      0.64       200\n",
            "\n",
            "[[10  0  2  1  0  0  0  0  0  1]\n",
            " [ 0 11  0  0  0  0  0  0  0  0]\n",
            " [ 5  1 14  0  0  3  0  0  0  3]\n",
            " [ 4  0  1 15  2  0  0  0  0  2]\n",
            " [ 4  0  0  3 17  0  0  0  1  2]\n",
            " [ 1  1  0  0  0 14  0  0  0  0]\n",
            " [ 1  0  0  0  0  0 15  0  0  2]\n",
            " [ 4  1  3  4  0  0  0  8  1  2]\n",
            " [ 4  0  0  2  2  0  0  2 10  1]\n",
            " [ 4  0  3  0  0  0  0  0  0 13]]\n"
          ]
        },
        {
          "output_type": "stream",
          "name": "stderr",
          "text": [
            "/usr/local/lib/python3.9/dist-packages/sklearn/metrics/_classification.py:1344: UndefinedMetricWarning: Precision and F-score are ill-defined and being set to 0.0 in samples with no predicted labels. Use `zero_division` parameter to control this behavior.\n",
            "  _warn_prf(average, modifier, msg_start, len(result))\n"
          ]
        }
      ]
    },
    {
      "cell_type": "code",
      "source": [
        "import seaborn as sns\n",
        "from seaborn import heatmap\n",
        "heatmap(conf_m,cmap=\"crest\",annot=True)\n",
        "plt.xticks(ticks = np.arange(0.5,10,1), labels=labels, rotation=90)\n",
        "plt.yticks(ticks = np.arange(0,10,1), labels=labels,rotation=0)\n",
        "plt.show()"
      ],
      "metadata": {
        "colab": {
          "base_uri": "https://localhost:8080/",
          "height": 481
        },
        "id": "nzhh3Gf87sSW",
        "outputId": "6965677e-62a0-492d-a43a-a578f97e7183"
      },
      "execution_count": 9,
      "outputs": [
        {
          "output_type": "display_data",
          "data": {
            "text/plain": [
              "<Figure size 640x480 with 2 Axes>"
            ],
            "image/png": "[encoded data removed]"
          },
          "metadata": {}
        }
      ]
    },
    {
      "cell_type": "code",
      "source": [
        "class_acc = conf_m.diagonal()/conf_m.sum(axis=1)\n",
        "for i in range(len(labels)):\n",
        "  print(f\"Class Accuracy for {labels[i]}: {round(class_acc[i],2)}\")\n",
        "print(f\"\\n**Total Accuracy : {np.trace(conf_m)/np.sum(conf_m)}**\")"
      ],
      "metadata": {
        "id": "lHq_zahIbMmE",
        "colab": {
          "base_uri": "https://localhost:8080/"
        },
        "outputId": "cd76e0b4-9dc4-4fc1-8c9c-93569135364a"
      },
      "execution_count": 10,
      "outputs": [
        {
          "output_type": "stream",
          "name": "stdout",
          "text": [
            "Class Accuracy for blues: 0.71\n",
            "Class Accuracy for classical: 1.0\n",
            "Class Accuracy for country: 0.54\n",
            "Class Accuracy for disco: 0.62\n",
            "Class Accuracy for hiphop: 0.63\n",
            "Class Accuracy for jazz: 0.88\n",
            "Class Accuracy for metal: 0.83\n",
            "Class Accuracy for pop: 0.35\n",
            "Class Accuracy for reggae: 0.48\n",
            "Class Accuracy for rock: 0.65\n",
            "\n",
            "**Total Accuracy : 0.635**\n"
          ]
        }
      ]
    }
  ]
}