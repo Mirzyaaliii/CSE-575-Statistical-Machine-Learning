{
  "cells": [
    {
      "cell_type": "code",
      "execution_count": 2,
      "metadata": {
        "colab": {
          "base_uri": "https://localhost:8080/"
        },
        "id": "Exl5Huiz8uHN",
        "outputId": "f69b6cbe-fb84-46f6-f108-13ee90dc2d8a"
      },
      "outputs": [
        {
          "name": "stdout",
          "output_type": "stream",
          "text": [
            "Mounted at /gdrive\n"
          ]
        }
      ],
      "source": [
        "from google.colab import drive\n",
        "drive.mount('/gdrive')"
      ]
    },
    {
      "cell_type": "code",
      "execution_count": 3,
      "metadata": {
        "colab": {
          "base_uri": "https://localhost:8080/"
        },
        "id": "e1uBqfe099BH",
        "outputId": "cb7a09c1-f7dd-41ed-b6c6-7cabf1726d5e"
      },
      "outputs": [
        {
          "name": "stdout",
          "output_type": "stream",
          "text": [
            "/gdrive/.shortcut-targets-by-id/1ZOjaaJR6FUgi-AiS0aWel7Gqn2TpkqgW/CSE_575\n"
          ]
        }
      ],
      "source": [
        "%cd ../gdrive/MyDrive/CSE_575/"
      ]
    },
    {
      "cell_type": "code",
      "execution_count": 4,
      "metadata": {
        "id": "bLyc4wLn5wl1"
      },
      "outputs": [],
      "source": [
        "# Importing Libraries\n",
        "import numpy as np\n",
        "import matplotlib.pyplot as plt\n",
        "from sklearn.preprocessing import OneHotEncoder\n",
        "from sklearn.model_selection import train_test_split\n",
        "from tensorflow.keras.models import Sequential\n",
        "from tensorflow.keras.optimizers import RMSprop, Adam\n",
        "from tensorflow.keras.layers import Dense, Conv2D, Flatten, MaxPool2D, Dropout\n",
        "from sklearn.metrics import classification_report as cr, confusion_matrix as cm"
      ]
    },
    {
      "cell_type": "code",
      "execution_count": 5,
      "metadata": {
        "id": "FY3gJrhZ6BhH"
      },
      "outputs": [],
      "source": [
        "# Helper Functions\n",
        "def load_data():\n",
        "    ohe = OneHotEncoder(sparse=False)\n",
        "    X = np.load(\"X.npy\")[:,:,:,:3]\n",
        "    y = np.load(\"y.npy\")\n",
        "    y = ohe.fit_transform(y.reshape(-1,1))\n",
        "    labels = ohe.categories_\n",
        "    X_train, X_test, y_train, y_test = train_test_split(X,y, test_size=0.2,random_state=0)\n",
        "    return X_train, X_test, y_train, y_test, labels[0]"
      ]
    },
    {
      "cell_type": "code",
      "execution_count": 6,
      "metadata": {
        "colab": {
          "base_uri": "https://localhost:8080/"
        },
        "id": "HH2ahZXI6GCV",
        "outputId": "c5dfd070-3e35-429f-c2a2-fc343fb01737"
      },
      "outputs": [
        {
          "name": "stderr",
          "output_type": "stream",
          "text": [
            "/usr/local/lib/python3.9/dist-packages/sklearn/preprocessing/_encoders.py:868: FutureWarning: `sparse` was renamed to `sparse_output` in version 1.2 and will be removed in 1.4. `sparse_output` is ignored unless you leave `sparse` to its default value.\n",
            "  warnings.warn(\n"
          ]
        }
      ],
      "source": [
        "# Loading Data\n",
        "X_train, X_test, y_train, y_test, labels = load_data()"
      ]
    },
    {
      "cell_type": "code",
      "execution_count": 7,
      "metadata": {
        "colab": {
          "base_uri": "https://localhost:8080/"
        },
        "id": "bSEq25kJ6Iyo",
        "outputId": "9527af08-48ea-4861-f3d3-6b33673c1eb5"
      },
      "outputs": [
        {
          "name": "stdout",
          "output_type": "stream",
          "text": [
            "Model: \"sequential\"\n",
            "_________________________________________________________________\n",
            " Layer (type)                Output Shape              Param #   \n",
            "=================================================================\n",
            " conv2d (Conv2D)             (None, 278, 422, 32)      11648     \n",
            "                                                                 \n",
            " max_pooling2d (MaxPooling2D  (None, 55, 84, 32)       0         \n",
            " )                                                               \n",
            "                                                                 \n",
            " conv2d_1 (Conv2D)           (None, 45, 74, 64)        247872    \n",
            "                                                                 \n",
            " max_pooling2d_1 (MaxPooling  (None, 9, 14, 64)        0         \n",
            " 2D)                                                             \n",
            "                                                                 \n",
            " dropout (Dropout)           (None, 9, 14, 64)         0         \n",
            "                                                                 \n",
            " flatten (Flatten)           (None, 8064)              0         \n",
            "                                                                 \n",
            " dense (Dense)               (None, 10)                80650     \n",
            "                                                                 \n",
            "=================================================================\n",
            "Total params: 340,170\n",
            "Trainable params: 340,170\n",
            "Non-trainable params: 0\n",
            "_________________________________________________________________\n",
            "None\n"
          ]
        }
      ],
      "source": [
        "# Model Definition\n",
        "model_layers = [\n",
        "    Conv2D(32, 11, activation=\"tanh\", input_shape=(288,432,3)),\n",
        "    MaxPool2D(5),\n",
        "    Conv2D(64, 11, activation=\"tanh\"),\n",
        "    MaxPool2D(5),\n",
        "    Dropout(0.5),\n",
        "    Flatten(),\n",
        "    Dense(10,activation=\"softmax\")\n",
        "    ]\n",
        "\n",
        "model = Sequential(model_layers)\n",
        "optim =  Adam(learning_rate=1e-3)\n",
        "model.compile(loss=\"categorical_crossentropy\",optimizer=optim, metrics=['accuracy'])\n",
        "print(model.summary())"
      ]
    },
    {
      "cell_type": "code",
      "execution_count": 8,
      "metadata": {
        "colab": {
          "base_uri": "https://localhost:8080/"
        },
        "id": "vvGi6URt6KXq",
        "outputId": "0b5b37ee-3876-4c55-aa57-f65119bb4dc8"
      },
      "outputs": [
        {
          "name": "stdout",
          "output_type": "stream",
          "text": [
            "Epoch 1/35\n",
            "20/20 [==============================] - 20s 338ms/step - loss: 2.4667 - accuracy: 0.1737 - val_loss: 2.0542 - val_accuracy: 0.2812\n",
            "Epoch 2/35\n",
            "20/20 [==============================] - 4s 206ms/step - loss: 2.0234 - accuracy: 0.2973 - val_loss: 1.9834 - val_accuracy: 0.3125\n",
            "Epoch 3/35\n",
            "20/20 [==============================] - 3s 173ms/step - loss: 1.7217 - accuracy: 0.3834 - val_loss: 1.7945 - val_accuracy: 0.3875\n",
            "Epoch 4/35\n",
            "20/20 [==============================] - 3s 154ms/step - loss: 1.4406 - accuracy: 0.4961 - val_loss: 1.6900 - val_accuracy: 0.4000\n",
            "Epoch 5/35\n",
            "20/20 [==============================] - 3s 154ms/step - loss: 1.3157 - accuracy: 0.5462 - val_loss: 1.4707 - val_accuracy: 0.4750\n",
            "Epoch 6/35\n",
            "20/20 [==============================] - 3s 172ms/step - loss: 1.2216 - accuracy: 0.5446 - val_loss: 1.6273 - val_accuracy: 0.5312\n",
            "Epoch 7/35\n",
            "20/20 [==============================] - 3s 161ms/step - loss: 1.1312 - accuracy: 0.6182 - val_loss: 1.5830 - val_accuracy: 0.5063\n",
            "Epoch 8/35\n",
            "20/20 [==============================] - 3s 156ms/step - loss: 1.0348 - accuracy: 0.6119 - val_loss: 1.5503 - val_accuracy: 0.5437\n",
            "Epoch 9/35\n",
            "20/20 [==============================] - 3s 152ms/step - loss: 0.8660 - accuracy: 0.6980 - val_loss: 1.3839 - val_accuracy: 0.5875\n",
            "Epoch 10/35\n",
            "20/20 [==============================] - 3s 173ms/step - loss: 0.7278 - accuracy: 0.7480 - val_loss: 1.2783 - val_accuracy: 0.5938\n",
            "Epoch 11/35\n",
            "20/20 [==============================] - 3s 171ms/step - loss: 0.5029 - accuracy: 0.8326 - val_loss: 1.3268 - val_accuracy: 0.6250\n",
            "Epoch 12/35\n",
            "20/20 [==============================] - 3s 154ms/step - loss: 0.4411 - accuracy: 0.8732 - val_loss: 1.3004 - val_accuracy: 0.6125\n",
            "Epoch 13/35\n",
            "20/20 [==============================] - 3s 157ms/step - loss: 0.3978 - accuracy: 0.8685 - val_loss: 1.3892 - val_accuracy: 0.6187\n",
            "Epoch 14/35\n",
            "20/20 [==============================] - 3s 157ms/step - loss: 0.3308 - accuracy: 0.8998 - val_loss: 1.3474 - val_accuracy: 0.6625\n",
            "Epoch 15/35\n",
            "20/20 [==============================] - 4s 191ms/step - loss: 0.2545 - accuracy: 0.9311 - val_loss: 1.3397 - val_accuracy: 0.6562\n",
            "Epoch 16/35\n",
            "20/20 [==============================] - 3s 155ms/step - loss: 0.2131 - accuracy: 0.9405 - val_loss: 1.4105 - val_accuracy: 0.6125\n",
            "Epoch 17/35\n",
            "20/20 [==============================] - 3s 159ms/step - loss: 0.1736 - accuracy: 0.9640 - val_loss: 1.4091 - val_accuracy: 0.6187\n",
            "Epoch 18/35\n",
            "20/20 [==============================] - 3s 156ms/step - loss: 0.1402 - accuracy: 0.9687 - val_loss: 1.3449 - val_accuracy: 0.6438\n",
            "Epoch 19/35\n",
            "20/20 [==============================] - 3s 172ms/step - loss: 0.0939 - accuracy: 0.9781 - val_loss: 1.4761 - val_accuracy: 0.6313\n",
            "Epoch 20/35\n",
            "20/20 [==============================] - 3s 157ms/step - loss: 0.0713 - accuracy: 0.9906 - val_loss: 1.4117 - val_accuracy: 0.6250\n",
            "Epoch 21/35\n",
            "20/20 [==============================] - 3s 158ms/step - loss: 0.0734 - accuracy: 0.9844 - val_loss: 1.5007 - val_accuracy: 0.6625\n",
            "Epoch 22/35\n",
            "20/20 [==============================] - 3s 159ms/step - loss: 0.0761 - accuracy: 0.9875 - val_loss: 1.5044 - val_accuracy: 0.6313\n",
            "Epoch 23/35\n",
            "20/20 [==============================] - 4s 186ms/step - loss: 0.0565 - accuracy: 0.9953 - val_loss: 1.4517 - val_accuracy: 0.6375\n",
            "Epoch 24/35\n",
            "20/20 [==============================] - 3s 160ms/step - loss: 0.0617 - accuracy: 0.9922 - val_loss: 1.4525 - val_accuracy: 0.6500\n",
            "Epoch 25/35\n",
            "20/20 [==============================] - 3s 157ms/step - loss: 0.0469 - accuracy: 0.9937 - val_loss: 1.5310 - val_accuracy: 0.6313\n",
            "Epoch 26/35\n",
            "20/20 [==============================] - 3s 161ms/step - loss: 0.0484 - accuracy: 0.9922 - val_loss: 1.5817 - val_accuracy: 0.6313\n",
            "Epoch 27/35\n",
            "20/20 [==============================] - 4s 188ms/step - loss: 0.0425 - accuracy: 0.9937 - val_loss: 1.7326 - val_accuracy: 0.6438\n",
            "Epoch 28/35\n",
            "20/20 [==============================] - 3s 166ms/step - loss: 0.0703 - accuracy: 0.9875 - val_loss: 1.5266 - val_accuracy: 0.6687\n",
            "Epoch 29/35\n",
            "20/20 [==============================] - 3s 159ms/step - loss: 0.0490 - accuracy: 0.9906 - val_loss: 1.7241 - val_accuracy: 0.6250\n",
            "Epoch 30/35\n",
            "20/20 [==============================] - 3s 161ms/step - loss: 0.0387 - accuracy: 0.9953 - val_loss: 1.6743 - val_accuracy: 0.6187\n",
            "Epoch 31/35\n",
            "20/20 [==============================] - 3s 172ms/step - loss: 0.0289 - accuracy: 0.9969 - val_loss: 1.5557 - val_accuracy: 0.6500\n",
            "Epoch 32/35\n",
            "20/20 [==============================] - 3s 166ms/step - loss: 0.0260 - accuracy: 0.9969 - val_loss: 1.6640 - val_accuracy: 0.6187\n",
            "Epoch 33/35\n",
            "20/20 [==============================] - 3s 160ms/step - loss: 0.0369 - accuracy: 0.9937 - val_loss: 1.6738 - val_accuracy: 0.6313\n",
            "Epoch 34/35\n",
            "20/20 [==============================] - 3s 163ms/step - loss: 0.0557 - accuracy: 0.9937 - val_loss: 1.5383 - val_accuracy: 0.6625\n",
            "Epoch 35/35\n",
            "20/20 [==============================] - 4s 179ms/step - loss: 0.0342 - accuracy: 0.9969 - val_loss: 1.5920 - val_accuracy: 0.6562\n",
            "25/25 [==============================] - 2s 65ms/step - loss: 0.3266 - accuracy: 0.9299\n",
            "Model Performance on Training Data: [0.32659992575645447, 0.9299123883247375]\n"
          ]
        }
      ],
      "source": [
        "# Model Training\n",
        "model.fit(X_train,y_train,batch_size=32,epochs=15,validation_split=0.2)\n",
        "print(f\"Model Performance on Training Data: {model.evaluate(X_train,y_train)}\")"
      ]
    },
    {
      "cell_type": "code",
      "execution_count": 9,
      "metadata": {
        "colab": {
          "base_uri": "https://localhost:8080/",
          "height": 1000
        },
        "id": "OQTIc7Ob6Kgp",
        "outputId": "b4fd2b79-bbc7-4c71-d0c9-f6b17b809dca"
      },
      "outputs": [
        {
          "name": "stdout",
          "output_type": "stream",
          "text": [
            "7/7 [==============================] - 1s 107ms/step\n",
            "              precision    recall  f1-score   support\n",
            "\n",
            "           0       0.64      0.50      0.56        14\n",
            "           1       0.73      1.00      0.85        11\n",
            "           2       0.73      0.42      0.54        26\n",
            "           3       0.63      0.71      0.67        24\n",
            "           4       0.82      0.85      0.84        27\n",
            "           5       0.68      0.81      0.74        16\n",
            "           6       0.94      0.89      0.91        18\n",
            "           7       0.80      0.35      0.48        23\n",
            "           8       0.68      0.71      0.70        21\n",
            "           9       0.71      0.60      0.65        20\n",
            "\n",
            "   micro avg       0.73      0.67      0.70       200\n",
            "   macro avg       0.74      0.68      0.69       200\n",
            "weighted avg       0.74      0.67      0.68       200\n",
            " samples avg       0.67      0.67      0.67       200\n",
            "\n",
            "[[10  0  0  1  1  1  0  0  1  0]\n",
            " [ 0 11  0  0  0  0  0  0  0  0]\n",
            " [ 4  1 11  2  0  3  0  1  1  3]\n",
            " [ 2  0  0 17  2  0  1  1  1  0]\n",
            " [ 0  0  0  2 23  0  0  0  2  0]\n",
            " [ 0  2  0  1  0 13  0  0  0  0]\n",
            " [ 0  0  0  0  1  0 16  0  0  1]\n",
            " [ 7  1  1  1  1  2  0  8  1  1]\n",
            " [ 4  0  0  2  0  0  0  0 15  0]\n",
            " [ 3  0  3  1  0  0  0  0  1 12]]\n"
          ]
        },
        {
          "name": "stderr",
          "output_type": "stream",
          "text": [
            "/usr/local/lib/python3.9/dist-packages/sklearn/metrics/_classification.py:1344: UndefinedMetricWarning: Precision and F-score are ill-defined and being set to 0.0 in samples with no predicted labels. Use `zero_division` parameter to control this behavior.\n",
            "  _warn_prf(average, modifier, msg_start, len(result))\n"
          ]
        },
        {
          "data": {
            "image/png": "[encoded data removed]",
            "text/plain": [
              "<Figure size 640x480 with 2 Axes>"
            ]
          },
          "metadata": {},
          "output_type": "display_data"
        }
      ],
      "source": [
        "pred = model.predict(X_test)\n",
        "pred = (pred>0.5)\n",
        "\n",
        "print(cr(y_test,pred))\n",
        "conf_m = cm(np.argmax(y_test,axis=1),np.argmax(pred,axis=1))\n",
        "print(conf_m)\n",
        "\n",
        "plt.imshow(conf_m,cmap=\"jet\")\n",
        "plt.xticks(ticks = np.arange(0,10,1), labels=labels, rotation=90)\n",
        "plt.yticks(ticks = np.arange(0,10,1), labels=labels)\n",
        "plt.colorbar()\n",
        "plt.show()"
      ]
    },
    {
      "cell_type": "code",
      "execution_count": 10,
      "metadata": {
        "colab": {
          "base_uri": "https://localhost:8080/"
        },
        "id": "lHq_zahIbMmE",
        "outputId": "c4be4f91-863d-4901-b242-713b5ae0028e"
      },
      "outputs": [
        {
          "name": "stdout",
          "output_type": "stream",
          "text": [
            "Class Accuracy for blues: 0.71\n",
            "Class Accuracy for classical: 1.0\n",
            "Class Accuracy for country: 0.42\n",
            "Class Accuracy for disco: 0.71\n",
            "Class Accuracy for hiphop: 0.85\n",
            "Class Accuracy for jazz: 0.81\n",
            "Class Accuracy for metal: 0.89\n",
            "Class Accuracy for pop: 0.35\n",
            "Class Accuracy for reggae: 0.71\n",
            "Class Accuracy for rock: 0.6\n",
            "\n",
            "**Total Accuracy : 0.68**\n"
          ]
        }
      ],
      "source": [
        "# Classwise Accuracy\n",
        "class_acc = conf_m.diagonal()/conf_m.sum(axis=1)\n",
        "for i in range(len(labels)):\n",
        "  print(f\"Class Accuracy for {labels[i]}: {round(class_acc[i],2)}\")\n",
        "print(f\"\\n**Total Accuracy : {np.trace(conf_m)/np.sum(conf_m)}**\")"
      ]
    }
  ],
  "metadata": {
    "accelerator": "GPU",
    "colab": {
      "provenance": []
    },
    "gpuClass": "standard",
    "kernelspec": {
      "display_name": "Python 3",
      "name": "python3"
    },
    "language_info": {
      "name": "python"
    }
  },
  "nbformat": 4,
  "nbformat_minor": 0
}
